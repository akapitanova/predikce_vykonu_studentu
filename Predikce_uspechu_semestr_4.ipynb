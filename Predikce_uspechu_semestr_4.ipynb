{
 "cells": [
  {
   "cell_type": "code",
   "execution_count": null,
   "id": "disciplinary-consensus",
   "metadata": {},
   "outputs": [],
   "source": [
    "import os\n",
    "import math\n",
    "\n",
    "import sklearn.metrics as metrics\n",
    "import matplotlib.pyplot as plt\n",
    "import pandas as pd\n",
    "import numpy as np\n",
    "import sklearn\n",
    "\n",
    "from numpy import load\n",
    "from sklearn.tree import DecisionTreeClassifier\n",
    "from sklearn.model_selection import train_test_split\n",
    "from sklearn import tree\n",
    "from sklearn.model_selection import ParameterGrid\n",
    "from sklearn.metrics import f1_score\n",
    "from sklearn import tree\n",
    "from sklearn.model_selection import cross_val_score\n",
    "from sklearn.model_selection import GridSearchCV\n",
    "from sklearn.ensemble import RandomForestClassifier\n",
    "from sklearn.ensemble import AdaBoostClassifier\n",
    "from sklearn.neural_network import MLPClassifier\n",
    "from sklearn.linear_model import LinearRegression\n",
    "from sklearn.metrics import mean_squared_error\n",
    "from sklearn.preprocessing import StandardScaler\n",
    "from sklearn.preprocessing import MinMaxScaler\n",
    "from sklearn.neighbors import KNeighborsClassifier\n",
    "\n",
    "from sklearn.feature_selection import SelectKBest\n",
    "from sklearn.feature_selection import chi2\n",
    "\n",
    "from xgboost import XGBClassifier\n",
    "\n",
    "from sklearn.impute import KNNImputer\n",
    "\n",
    "from sklearn.svm import SVC\n",
    "\n",
    "%matplotlib inline\n",
    "pd.set_option('display.max_columns', None)\n",
    "pd.set_option('display.max_rows', None)\n",
    "\n",
    "rd_seed = 333"
   ]
  },
  {
   "cell_type": "markdown",
   "id": "complex-adaptation",
   "metadata": {},
   "source": [
    "## Načtení dat"
   ]
  },
  {
   "cell_type": "code",
   "execution_count": null,
   "id": "iraqi-tonight",
   "metadata": {},
   "outputs": [],
   "source": [
    "path_file = os.sep.join(['created_data', 'matrix_semestr_4_personal.csv'])\n",
    "matrix_bak = pd.read_csv(path_file, sep=\",\")"
   ]
  },
  {
   "cell_type": "markdown",
   "id": "fallen-teddy",
   "metadata": {},
   "source": [
    "## Info o datasetu"
   ]
  },
  {
   "cell_type": "code",
   "execution_count": null,
   "id": "liberal-means",
   "metadata": {},
   "outputs": [],
   "source": [
    "matrix_bak.info()"
   ]
  },
  {
   "cell_type": "code",
   "execution_count": null,
   "id": "sustained-piece",
   "metadata": {},
   "outputs": [],
   "source": [
    "matrix_bak.mean()"
   ]
  },
  {
   "cell_type": "markdown",
   "id": "acoustic-spare",
   "metadata": {},
   "source": [
    "## Příprava datasetu"
   ]
  },
  {
   "cell_type": "markdown",
   "id": "dietary-syntax",
   "metadata": {},
   "source": [
    "### Nastavení indexu"
   ]
  },
  {
   "cell_type": "code",
   "execution_count": null,
   "id": "short-providence",
   "metadata": {},
   "outputs": [],
   "source": [
    "matrix_bak = matrix_bak.set_index(['studium_id'])"
   ]
  },
  {
   "cell_type": "markdown",
   "id": "declared-neighbor",
   "metadata": {},
   "source": [
    "### Nastavení atributů na kategorické"
   ]
  },
  {
   "cell_type": "code",
   "execution_count": null,
   "id": "pending-community",
   "metadata": {},
   "outputs": [],
   "source": [
    "# ordinální\n",
    "attr_category = pd.api.types.CategoricalDtype(categories=[0, 1], ordered=False)\n",
    "# pohlavi_kod\n",
    "matrix_bak['pohlavi_kod'] = matrix_bak['pohlavi_kod'].astype(attr_category)\n",
    "# scio\n",
    "matrix_bak['scio'] = matrix_bak['scio'].astype(attr_category)\n",
    "# olym\n",
    "matrix_bak['olym'] = matrix_bak['olym'].astype(attr_category)\n",
    "# zkouska\n",
    "matrix_bak['zkouska'] = matrix_bak['zkouska'].astype(attr_category)\n",
    "# prominuti\n",
    "matrix_bak['prominuti'] = matrix_bak['prominuti'].astype(attr_category)"
   ]
  },
  {
   "cell_type": "code",
   "execution_count": null,
   "id": "tamil-credit",
   "metadata": {},
   "outputs": [],
   "source": [
    "# ordinální\n",
    "attr_category = pd.api.types.CategoricalDtype(categories=[-1, 0, 1], ordered=False)\n",
    "# je_cech\n",
    "matrix_bak['je_cech'] = matrix_bak['je_cech'].astype(attr_category)\n",
    "# gymnazium\n",
    "matrix_bak['gymnazium'] = matrix_bak['gymnazium'].astype(attr_category)\n",
    "# praha\n",
    "matrix_bak['praha'] = matrix_bak['praha'].astype(attr_category)"
   ]
  },
  {
   "cell_type": "markdown",
   "id": "destroyed-instrument",
   "metadata": {},
   "source": [
    "### Nastavení atributů na kategorické - ordinální"
   ]
  },
  {
   "cell_type": "code",
   "execution_count": null,
   "id": "allied-spending",
   "metadata": {},
   "outputs": [],
   "source": [
    "# ordinální\n",
    "grades_category = pd.api.types.CategoricalDtype(categories=[1, 1.5, 2, 2.5, 3, 4], ordered=True)\n",
    "# BI-PA1\n",
    "matrix_bak_2015['BI-PA1_znamka'] = matrix_bak_2015['BI-PA1_znamka'].astype(grades_category)\n",
    "# BI-PAI\n",
    "matrix_bak_2015['BI-PAI_znamka'] = matrix_bak_2015['BI-PAI_znamka'].astype(grades_category)\n",
    "# BI-CAO\n",
    "matrix_bak_2015['BI-CAO_znamka'] = matrix_bak_2015['BI-CAO_znamka'].astype(grades_category)\n",
    "# BI-PS1\n",
    "matrix_bak_2015['BI-PS1_znamka'] = matrix_bak_2015['BI-PS1_znamka'].astype(grades_category)\n",
    "# BI-MLO\n",
    "matrix_bak_2015['BI-MLO_znamka'] = matrix_bak_2015['BI-MLO_znamka'].astype(grades_category)\n",
    "# BI-ZMA\n",
    "matrix_bak_2015['BI-ZMA_znamka'] = matrix_bak_2015['BI-ZMA_znamka'].astype(grades_category)\n",
    "# BI-PA2\n",
    "matrix_bak_2015['BI-PA2_znamka'] = matrix_bak_2015['BI-PA2_znamka'].astype(grades_category)\n",
    "# BI-DBS\n",
    "matrix_bak_2015['BI-DBS_znamka'] = matrix_bak_2015['BI-DBS_znamka'].astype(grades_category)\n",
    "# BI-SAP\n",
    "matrix_bak_2015['BI-SAP_znamka'] = matrix_bak_2015['BI-SAP_znamka'].astype(grades_category)\n",
    "# BI-LIN\n",
    "matrix_bak_2015['BI-LIN_znamka'] = matrix_bak_2015['BI-LIN_znamka'].astype(grades_category)\n",
    "# BI-AG1\n",
    "matrix_bak_2015['BI-AG1_znamka'] = matrix_bak_2015['BI-AG1_znamka'].astype(grades_category)\n",
    "# BI-AAG\n",
    "matrix_bak_2015['BI-AAG_znamka'] = matrix_bak_2015['BI-AAG_znamka'].astype(grades_category)\n",
    "# BI-ZDM\n",
    "matrix_bak_2015['BI-ZDM_znamka'] = matrix_bak_2015['BI-ZDM_znamka'].astype(grades_category)"
   ]
  },
  {
   "cell_type": "code",
   "execution_count": null,
   "id": "illegal-legislature",
   "metadata": {},
   "outputs": [],
   "source": [
    "matrix_bak.info()"
   ]
  },
  {
   "cell_type": "markdown",
   "id": "driven-procurement",
   "metadata": {},
   "source": [
    "## Modelování"
   ]
  },
  {
   "cell_type": "markdown",
   "id": "administrative-importance",
   "metadata": {},
   "source": [
    "### Bakalář všechny pp"
   ]
  },
  {
   "cell_type": "markdown",
   "id": "raised-lesbian",
   "metadata": {},
   "source": [
    "#### Rozdělení datasetu"
   ]
  },
  {
   "cell_type": "code",
   "execution_count": null,
   "id": "square-exception",
   "metadata": {},
   "outputs": [],
   "source": [
    "Xdata = matrix_bak.drop(columns='dokoncil_semestr')\n",
    "ydata = matrix_bak.dokoncil_semestr"
   ]
  },
  {
   "cell_type": "code",
   "execution_count": null,
   "id": "several-webster",
   "metadata": {},
   "outputs": [],
   "source": [
    "Xtrain, Xtest, ytrain, ytest = train_test_split(Xdata, ydata, test_size=0.2, random_state=rd_seed, stratify=ydata, shuffle=True) \n",
    "print(\"původní data\")\n",
    "display(Xdata.shape)\n",
    "display(ydata.shape)\n",
    "print(\"trénovací data\")\n",
    "display(Xtrain.shape)\n",
    "display(ytrain.shape)\n",
    "print(\"testovací data\")\n",
    "display(Xtest.shape)\n",
    "display(ytest.shape)"
   ]
  },
  {
   "cell_type": "markdown",
   "id": "human-judges",
   "metadata": {},
   "source": [
    "#### Funkce pro vybrání vhodných hyperparametrů pomocí křížové validace"
   ]
  },
  {
   "cell_type": "code",
   "execution_count": null,
   "id": "standard-portrait",
   "metadata": {},
   "outputs": [],
   "source": [
    "def get_best_parameters(param_grid, classifier, xgb=None):\n",
    "    score = 'f1'\n",
    "    if xgb:\n",
    "        model = GridSearchCV(classifier(eval_metric='mlogloss', use_label_encoder=False, tree_method=\"gpu_hist\", enable_categorical=True), param_grid, cv=5, scoring=score)\n",
    "    else:\n",
    "        model = GridSearchCV(classifier(), param_grid, cv=5, scoring=score)\n",
    "    model.fit(Xtrain, ytrain)\n",
    "\n",
    "    print('Best hyper-parameters are: ')\n",
    "    print(model.best_params_)\n",
    "    print()\n",
    "\n",
    "    means = model.cv_results_[\"mean_test_score\"]\n",
    "    stds = model.cv_results_[\"std_test_score\"]\n",
    "    for mean, std, params in zip(means, stds, model.cv_results_[\"params\"]):\n",
    "        print(\"%0.6f (+/-%0.06f) for %r\" % (mean, std * 2, params))\n",
    "    print()\n",
    "    return model"
   ]
  },
  {
   "cell_type": "markdown",
   "id": "sophisticated-emphasis",
   "metadata": {},
   "source": [
    "#### Rozhodovací strom"
   ]
  },
  {
   "cell_type": "code",
   "execution_count": null,
   "id": "suspended-unemployment",
   "metadata": {},
   "outputs": [],
   "source": [
    "param_grid = [\n",
    "    {'criterion':['gini','entropy'],\n",
    "    'max_depth': range(2,7),\n",
    "    'min_samples_leaf':[10]}\n",
    "]"
   ]
  },
  {
   "cell_type": "code",
   "execution_count": null,
   "id": "exterior-wells",
   "metadata": {},
   "outputs": [],
   "source": [
    "dt_f1 = get_best_parameters(param_grid, DecisionTreeClassifier)"
   ]
  },
  {
   "cell_type": "code",
   "execution_count": null,
   "id": "three-distinction",
   "metadata": {},
   "outputs": [],
   "source": [
    "print('accuracy score (train): {0:.6f}'.format(metrics.accuracy_score(ytrain, dt_f1.predict(Xtrain))))\n",
    "print('accuracy score (test): {0:.6f}'.format(metrics.accuracy_score(ytest, dt_f1.predict(Xtest))))"
   ]
  },
  {
   "cell_type": "code",
   "execution_count": null,
   "id": "collaborative-shield",
   "metadata": {},
   "outputs": [],
   "source": [
    "feature_importances=pd.DataFrame({'features':Xtrain.columns,'feature_importance':dt_f1.best_estimator_.feature_importances_})\n",
    "feature_importances.sort_values('feature_importance',ascending=False)"
   ]
  },
  {
   "cell_type": "code",
   "execution_count": null,
   "id": "scientific-steal",
   "metadata": {},
   "outputs": [],
   "source": [
    "fig, axes = plt.subplots(nrows = 1,ncols = 1,figsize = (10,5), dpi=500)\n",
    "tree.plot_tree(dt_f1.best_estimator_,\n",
    "               feature_names = Xdata.columns, \n",
    "               class_names=['neuspech', 'uspech'],\n",
    "               filled = True);\n",
    "fig.savefig('tree_f1_semestr1.png')"
   ]
  },
  {
   "cell_type": "markdown",
   "id": "practical-collector",
   "metadata": {},
   "source": [
    "#### Random forest"
   ]
  },
  {
   "cell_type": "code",
   "execution_count": null,
   "id": "elegant-warning",
   "metadata": {},
   "outputs": [],
   "source": [
    "param_grid_rf = {\n",
    "    'criterion':['gini','entropy'],\n",
    "    'n_estimators': range(5, 50, 5),\n",
    "    'max_depth': range(2, 4),\n",
    "    'max_features': ['sqrt', 'log2', None],\n",
    "    'min_samples_leaf':[10]\n",
    "}"
   ]
  },
  {
   "cell_type": "code",
   "execution_count": null,
   "id": "grand-leeds",
   "metadata": {},
   "outputs": [],
   "source": [
    "rf_f1 = get_best_parameters(param_grid_rf, RandomForestClassifier)"
   ]
  },
  {
   "cell_type": "code",
   "execution_count": null,
   "id": "plastic-poland",
   "metadata": {},
   "outputs": [],
   "source": [
    "print('accuracy score (train): {0:.6f}'.format(metrics.accuracy_score(ytrain, rf_f1.predict(Xtrain))))\n",
    "print('accuracy score (test): {0:.6f}'.format(metrics.accuracy_score(ytest, rf_f1.predict(Xtest))))"
   ]
  },
  {
   "cell_type": "code",
   "execution_count": null,
   "id": "single-princess",
   "metadata": {},
   "outputs": [],
   "source": [
    "feature_importances=pd.DataFrame({'features':Xtrain.columns,'feature_importance':rf_f1.best_estimator_.feature_importances_})\n",
    "feature_importances.sort_values('feature_importance',ascending=False)"
   ]
  },
  {
   "cell_type": "markdown",
   "id": "novel-database",
   "metadata": {},
   "source": [
    "#### Adaboost"
   ]
  },
  {
   "cell_type": "code",
   "execution_count": null,
   "id": "colored-motion",
   "metadata": {},
   "outputs": [],
   "source": [
    "param_grid_ab = {\n",
    "    'n_estimators': range(5, 50, 5),\n",
    "    'learning_rate': np.arange(0.1, 1., 0.1)\n",
    "}"
   ]
  },
  {
   "cell_type": "code",
   "execution_count": null,
   "id": "searching-lucas",
   "metadata": {},
   "outputs": [],
   "source": [
    "ab_f1 = get_best_parameters(param_grid_ab, AdaBoostClassifier)"
   ]
  },
  {
   "cell_type": "code",
   "execution_count": null,
   "id": "engaging-harris",
   "metadata": {},
   "outputs": [],
   "source": [
    "print('accuracy score (train): {0:.6f}'.format(metrics.accuracy_score(ytrain, ab_f1.predict(Xtrain))))\n",
    "print('accuracy score (test): {0:.6f}'.format(metrics.accuracy_score(ytest, ab_f1.predict(Xtest))))"
   ]
  },
  {
   "cell_type": "code",
   "execution_count": null,
   "id": "compliant-browser",
   "metadata": {},
   "outputs": [],
   "source": [
    "feature_importances=pd.DataFrame({'features':Xtrain.columns,'feature_importance':ab_f1.best_estimator_.feature_importances_})\n",
    "feature_importances.sort_values('feature_importance',ascending=False)"
   ]
  },
  {
   "cell_type": "markdown",
   "id": "inner-industry",
   "metadata": {},
   "source": [
    "#### Xgboost"
   ]
  },
  {
   "cell_type": "code",
   "execution_count": null,
   "id": "micro-morning",
   "metadata": {},
   "outputs": [],
   "source": [
    "param_grid = {\n",
    "    'eta': np.arange(0.1, 1., 0.1),\n",
    "    'max_depth': range(3, 8)\n",
    "}\n",
    "param_comb = ParameterGrid(param_grid)"
   ]
  },
  {
   "cell_type": "code",
   "execution_count": null,
   "id": "fuzzy-device",
   "metadata": {},
   "outputs": [],
   "source": [
    "xgb_f1 = get_best_parameters(param_grid, XGBClassifier, True)"
   ]
  },
  {
   "cell_type": "code",
   "execution_count": null,
   "id": "declared-trinidad",
   "metadata": {},
   "outputs": [],
   "source": [
    "print('accuracy score XGBoost (train): {0:.6f}'.format(metrics.accuracy_score(ytrain, xgb_f1.predict(Xtrain))))\n",
    "print('accuracy score XGBoost (val): {0:.6f}'.format(metrics.accuracy_score(ytest, xgb_f1.predict(Xtest))))"
   ]
  },
  {
   "cell_type": "code",
   "execution_count": null,
   "id": "compliant-bundle",
   "metadata": {},
   "outputs": [],
   "source": [
    "feat_imp = pd.Series(xgb_f1.best_estimator_.get_booster().get_fscore()).sort_values(ascending=False)"
   ]
  },
  {
   "cell_type": "code",
   "execution_count": null,
   "id": "touched-kingdom",
   "metadata": {},
   "outputs": [],
   "source": [
    "feat_imp"
   ]
  },
  {
   "cell_type": "markdown",
   "id": "individual-technique",
   "metadata": {},
   "source": [
    "#### MLP"
   ]
  },
  {
   "cell_type": "code",
   "execution_count": null,
   "id": "swiss-female",
   "metadata": {},
   "outputs": [],
   "source": [
    "mlp = MLPClassifier(random_state=1, max_iter=500).fit(Xtrain, ytrain)"
   ]
  },
  {
   "cell_type": "code",
   "execution_count": null,
   "id": "distributed-works",
   "metadata": {},
   "outputs": [],
   "source": [
    "print('accuracy score mlp (train): {0:.6f}'.format(metrics.accuracy_score(ytrain, mlp.predict(Xtrain))))\n",
    "print('accuracy score mlp (val): {0:.6f}'.format(metrics.accuracy_score(ytest, mlp.predict(Xtest))))"
   ]
  },
  {
   "cell_type": "markdown",
   "id": "sunset-residence",
   "metadata": {},
   "source": [
    "#### Lineární regrese"
   ]
  },
  {
   "cell_type": "code",
   "execution_count": null,
   "id": "ambient-intake",
   "metadata": {},
   "outputs": [],
   "source": [
    "reg = LinearRegression().fit(Xtrain, ytrain)"
   ]
  },
  {
   "cell_type": "code",
   "execution_count": null,
   "id": "practical-analyst",
   "metadata": {},
   "outputs": [],
   "source": [
    "print('RMSE reg (test):', np.sqrt(mean_squared_error(reg.predict(Xtrain), np.array(ytrain))))\n",
    "print('RMSE reg (test):', np.sqrt(mean_squared_error(reg.predict(Xtest), np.array(ytest))))"
   ]
  },
  {
   "cell_type": "markdown",
   "id": "genuine-hygiene",
   "metadata": {},
   "source": [
    "#### kNN"
   ]
  },
  {
   "cell_type": "code",
   "execution_count": null,
   "id": "described-trinidad",
   "metadata": {},
   "outputs": [],
   "source": [
    "param_grid = {\n",
    "    'n_neighbors' : range(1, 12), # Počet nejbližších sousedů\n",
    "    'p': range(1, 3), # Stupeň Minkowského vzdálenosti\n",
    "    'weights': ['uniform', 'distance'], # Aritmetický, nebo vážený průměr\n",
    "}\n",
    "param_comb = ParameterGrid(param_grid)"
   ]
  },
  {
   "cell_type": "code",
   "execution_count": null,
   "id": "japanese-finance",
   "metadata": {},
   "outputs": [],
   "source": [
    "knn = get_best_parameters(param_grid, KNeighborsClassifier)"
   ]
  },
  {
   "cell_type": "code",
   "execution_count": null,
   "id": "cathedral-webcam",
   "metadata": {},
   "outputs": [],
   "source": [
    "print('accuracy score knn (train): {0:.6f}'.format(metrics.accuracy_score(ytrain, knn.predict(Xtrain))))\n",
    "print('accuracy score knn (val): {0:.6f}'.format(metrics.accuracy_score(ytest, knn.predict(Xtest))))"
   ]
  },
  {
   "cell_type": "markdown",
   "id": "stopped-analysis",
   "metadata": {},
   "source": [
    "## Výsledky"
   ]
  },
  {
   "cell_type": "code",
   "execution_count": null,
   "id": "instant-minimum",
   "metadata": {},
   "outputs": [],
   "source": [
    "results = pd.DataFrame(columns=['vysledky'], index=['dt', 'rf', 'ab', 'xgb', 'mlp', 'knn'])"
   ]
  },
  {
   "cell_type": "markdown",
   "id": "rapid-director",
   "metadata": {},
   "source": [
    "### Měřeno accuracy_score"
   ]
  },
  {
   "cell_type": "code",
   "execution_count": null,
   "id": "infectious-purse",
   "metadata": {},
   "outputs": [],
   "source": [
    "results.loc['dt', 'vysledky'] = round(metrics.accuracy_score(ytest, dt_f1.predict(Xtest)), 3)\n",
    "results.loc['rf', 'vysledky'] = round(metrics.accuracy_score(ytest, rf_f1.predict(Xtest)), 3)\n",
    "results.loc['ab', 'vysledky'] = round(metrics.accuracy_score(ytest, ab_f1.predict(Xtest)), 3)\n",
    "results.loc['xgb', 'vysledky'] = round(metrics.accuracy_score(ytest, xgb_f1.predict(Xtest)), 3)\n",
    "results.loc['mlp', 'vysledky'] = round(metrics.accuracy_score(ytest, mlp.predict(Xtest)), 3)\n",
    "results.loc['knn', 'vysledky'] = round(metrics.accuracy_score(ytest, knn.predict(Xtest)), 3)"
   ]
  },
  {
   "cell_type": "code",
   "execution_count": null,
   "id": "happy-dating",
   "metadata": {},
   "outputs": [],
   "source": [
    "fig, ax = plt.subplots()\n",
    "width = 0.2\n",
    "ax.bar(results.index, results['vysledky'].values, width)\n",
    "\n",
    "ax.set_ylabel('Accuracy score')\n",
    "ax.set_xlabel('Model')\n",
    "ax.set_title('Přesnost predikce úspěchu ve čtvrtém semestru')\n",
    "\n",
    "ax.grid(True)\n",
    "y_values = np.arange(0.0, 1.05, 0.05)\n",
    "plt.ylim(ymin=0)\n",
    "plt.ylim(ymax=1)\n",
    "plt.yticks(y_values)\n",
    "plt.show()"
   ]
  },
  {
   "cell_type": "code",
   "execution_count": null,
   "id": "incorporate-netscape",
   "metadata": {},
   "outputs": [],
   "source": [
    "results"
   ]
  },
  {
   "cell_type": "markdown",
   "id": "behavioral-scout",
   "metadata": {},
   "source": [
    "### Měřeno f1_score"
   ]
  },
  {
   "cell_type": "code",
   "execution_count": null,
   "id": "challenging-stupid",
   "metadata": {},
   "outputs": [],
   "source": [
    "results_f1 = pd.DataFrame(columns=['vysledky'], index=['dt', 'rf', 'ab', 'xgb', 'mlp', 'knn'])"
   ]
  },
  {
   "cell_type": "code",
   "execution_count": null,
   "id": "processed-marker",
   "metadata": {},
   "outputs": [],
   "source": [
    "results_f1.loc['dt', 'vysledky'] = round(metrics.f1_score(ytest, dt_f1.predict(Xtest)), 3)\n",
    "results_f1.loc['rf', 'vysledky'] = round(metrics.f1_score(ytest, rf_f1.predict(Xtest)), 3)\n",
    "results_f1.loc['ab', 'vysledky'] = round(metrics.f1_score(ytest, ab_f1.predict(Xtest)), 3)\n",
    "results_f1.loc['xgb', 'vysledky'] = round(metrics.f1_score(ytest, xgb_f1.predict(Xtest)), 3)\n",
    "results_f1.loc['mlp', 'vysledky'] = round(metrics.f1_score(ytest, mlp.predict(Xtest)), 3)\n",
    "results_f1.loc['knn', 'vysledky'] = round(metrics.f1_score(ytest, knn.predict(Xtest)), 3)"
   ]
  },
  {
   "cell_type": "code",
   "execution_count": null,
   "id": "closed-decrease",
   "metadata": {},
   "outputs": [],
   "source": [
    "fig, ax = plt.subplots()\n",
    "width = 0.2\n",
    "ax.bar(results_f1.index, results_f1['vysledky'].values, width)\n",
    "\n",
    "ax.set_ylabel('F1 score')\n",
    "ax.set_xlabel('Model')\n",
    "ax.set_title('Přesnost predikce úspěchu ve čtvrtém semestru')\n",
    "\n",
    "ax.grid(True)\n",
    "y_values = np.arange(0.0, 1.05, 0.05)\n",
    "plt.ylim(ymin=0)\n",
    "plt.ylim(ymax=1)\n",
    "plt.yticks(y_values)\n",
    "plt.show()"
   ]
  },
  {
   "cell_type": "code",
   "execution_count": null,
   "id": "rural-eleven",
   "metadata": {},
   "outputs": [],
   "source": [
    "results_f1"
   ]
  },
  {
   "cell_type": "code",
   "execution_count": null,
   "id": "strong-documentary",
   "metadata": {},
   "outputs": [],
   "source": []
  }
 ],
 "metadata": {
  "kernelspec": {
   "display_name": "Python 3",
   "language": "python",
   "name": "python3"
  },
  "language_info": {
   "codemirror_mode": {
    "name": "ipython",
    "version": 3
   },
   "file_extension": ".py",
   "mimetype": "text/x-python",
   "name": "python",
   "nbconvert_exporter": "python",
   "pygments_lexer": "ipython3",
   "version": "3.8.10"
  }
 },
 "nbformat": 4,
 "nbformat_minor": 5
}
