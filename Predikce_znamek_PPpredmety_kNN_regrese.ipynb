{
 "cells": [
  {
   "cell_type": "code",
   "execution_count": 1,
   "id": "departmental-democrat",
   "metadata": {},
   "outputs": [],
   "source": [
    "import os\n",
    "import math\n",
    "\n",
    "import pandas as pd\n",
    "import numpy as np\n",
    "import sklearn.metrics as metrics\n",
    "import matplotlib.pyplot as plt\n",
    "\n",
    "from sklearn.neighbors import NearestNeighbors\n",
    "from sklearn.neighbors import KNeighborsClassifier\n",
    "\n",
    "from sklearn.neighbors import KNeighborsRegressor\n",
    "from sklearn.metrics import mean_squared_error\n",
    "\n",
    "from sklearn.model_selection import GridSearchCV\n",
    "from sklearn.model_selection import ParameterGrid\n",
    "from sklearn.metrics import mean_squared_error\n",
    "\n",
    "from sklearn.impute import KNNImputer\n",
    "\n",
    "from sklearn.model_selection import train_test_split\n",
    "\n",
    "%matplotlib inline\n",
    "pd.set_option('display.max_columns', None)\n",
    "np.set_printoptions(threshold=1000)\n",
    "\n",
    "rd_seed = 333"
   ]
  },
  {
   "cell_type": "code",
   "execution_count": 2,
   "id": "excited-second",
   "metadata": {},
   "outputs": [],
   "source": [
    "path_file = os.sep.join(['created_data', 'matrix_bak_2015.csv'])\n",
    "matrix = pd.read_csv(path_file, sep=\",\", index_col='studium_id') "
   ]
  },
  {
   "cell_type": "code",
   "execution_count": 3,
   "id": "embedded-advice",
   "metadata": {},
   "outputs": [
    {
     "name": "stdout",
     "output_type": "stream",
     "text": [
      "<class 'pandas.core.frame.DataFrame'>\n",
      "Int64Index: 3940 entries, 12375406 to 11740806\n",
      "Data columns (total 32 columns):\n",
      " #   Column                  Non-Null Count  Dtype  \n",
      "---  ------                  --------------  -----  \n",
      " 0   pohlavi_kod             3940 non-null   int64  \n",
      " 1   je_cech                 3940 non-null   int64  \n",
      " 2   datum_zahajeni          3940 non-null   int64  \n",
      " 3   rok_maturity            3940 non-null   int64  \n",
      " 4   maturita_nastup_rozdil  3940 non-null   int64  \n",
      " 5   gymnazium               3940 non-null   int64  \n",
      " 6   praha                   3940 non-null   int64  \n",
      " 7   scio                    3940 non-null   int64  \n",
      " 8   olym                    3940 non-null   int64  \n",
      " 9   zkouska                 3940 non-null   int64  \n",
      " 10  prominuti               3940 non-null   int64  \n",
      " 11  dostudoval_uspesne      3940 non-null   int64  \n",
      " 12  BI-PA1                  3870 non-null   float64\n",
      " 13  BI-PAI                  3871 non-null   float64\n",
      " 14  BI-CAO                  3873 non-null   float64\n",
      " 15  BI-PS1                  3874 non-null   float64\n",
      " 16  BI-MLO                  3873 non-null   float64\n",
      " 17  BI-ZMA                  3867 non-null   float64\n",
      " 18  BI-PA2                  2229 non-null   float64\n",
      " 19  BI-DBS                  2502 non-null   float64\n",
      " 20  BI-SAP                  2466 non-null   float64\n",
      " 21  BI-LIN                  2391 non-null   float64\n",
      " 22  BI-AG1                  1590 non-null   float64\n",
      " 23  BI-AAG                  1810 non-null   float64\n",
      " 24  BI-ZDM                  1721 non-null   float64\n",
      " 25  BI-OSY                  1274 non-null   float64\n",
      " 26  BI-PSI                  1459 non-null   float64\n",
      " 27  BI-BEZ                  1358 non-null   float64\n",
      " 28  BI-PST                  1063 non-null   float64\n",
      " 29  BI-DPR                  915 non-null    float64\n",
      " 30  BI-SI1.2                1252 non-null   float64\n",
      " 31  BI-EMP                  1419 non-null   float64\n",
      "dtypes: float64(20), int64(12)\n",
      "memory usage: 1015.8 KB\n"
     ]
    }
   ],
   "source": [
    "matrix.info()"
   ]
  },
  {
   "cell_type": "code",
   "execution_count": 4,
   "id": "entire-liability",
   "metadata": {},
   "outputs": [
    {
     "data": {
      "text/html": [
       "<div>\n",
       "<style scoped>\n",
       "    .dataframe tbody tr th:only-of-type {\n",
       "        vertical-align: middle;\n",
       "    }\n",
       "\n",
       "    .dataframe tbody tr th {\n",
       "        vertical-align: top;\n",
       "    }\n",
       "\n",
       "    .dataframe thead th {\n",
       "        text-align: right;\n",
       "    }\n",
       "</style>\n",
       "<table border=\"1\" class=\"dataframe\">\n",
       "  <thead>\n",
       "    <tr style=\"text-align: right;\">\n",
       "      <th></th>\n",
       "      <th>pohlavi_kod</th>\n",
       "      <th>je_cech</th>\n",
       "      <th>datum_zahajeni</th>\n",
       "      <th>rok_maturity</th>\n",
       "      <th>maturita_nastup_rozdil</th>\n",
       "      <th>gymnazium</th>\n",
       "      <th>praha</th>\n",
       "      <th>scio</th>\n",
       "      <th>olym</th>\n",
       "      <th>zkouska</th>\n",
       "      <th>prominuti</th>\n",
       "      <th>dostudoval_uspesne</th>\n",
       "      <th>BI-PA1</th>\n",
       "      <th>BI-PAI</th>\n",
       "      <th>BI-CAO</th>\n",
       "      <th>BI-PS1</th>\n",
       "      <th>BI-MLO</th>\n",
       "      <th>BI-ZMA</th>\n",
       "      <th>BI-PA2</th>\n",
       "      <th>BI-DBS</th>\n",
       "      <th>BI-SAP</th>\n",
       "      <th>BI-LIN</th>\n",
       "      <th>BI-AG1</th>\n",
       "      <th>BI-AAG</th>\n",
       "      <th>BI-ZDM</th>\n",
       "      <th>BI-OSY</th>\n",
       "      <th>BI-PSI</th>\n",
       "      <th>BI-BEZ</th>\n",
       "      <th>BI-PST</th>\n",
       "      <th>BI-DPR</th>\n",
       "      <th>BI-SI1.2</th>\n",
       "      <th>BI-EMP</th>\n",
       "    </tr>\n",
       "    <tr>\n",
       "      <th>studium_id</th>\n",
       "      <th></th>\n",
       "      <th></th>\n",
       "      <th></th>\n",
       "      <th></th>\n",
       "      <th></th>\n",
       "      <th></th>\n",
       "      <th></th>\n",
       "      <th></th>\n",
       "      <th></th>\n",
       "      <th></th>\n",
       "      <th></th>\n",
       "      <th></th>\n",
       "      <th></th>\n",
       "      <th></th>\n",
       "      <th></th>\n",
       "      <th></th>\n",
       "      <th></th>\n",
       "      <th></th>\n",
       "      <th></th>\n",
       "      <th></th>\n",
       "      <th></th>\n",
       "      <th></th>\n",
       "      <th></th>\n",
       "      <th></th>\n",
       "      <th></th>\n",
       "      <th></th>\n",
       "      <th></th>\n",
       "      <th></th>\n",
       "      <th></th>\n",
       "      <th></th>\n",
       "      <th></th>\n",
       "      <th></th>\n",
       "    </tr>\n",
       "  </thead>\n",
       "  <tbody>\n",
       "    <tr>\n",
       "      <th>12375406</th>\n",
       "      <td>0</td>\n",
       "      <td>1</td>\n",
       "      <td>2015</td>\n",
       "      <td>2009</td>\n",
       "      <td>6</td>\n",
       "      <td>0</td>\n",
       "      <td>1</td>\n",
       "      <td>0</td>\n",
       "      <td>0</td>\n",
       "      <td>0</td>\n",
       "      <td>0</td>\n",
       "      <td>1</td>\n",
       "      <td>2.5</td>\n",
       "      <td>2.0</td>\n",
       "      <td>2.5</td>\n",
       "      <td>3.0</td>\n",
       "      <td>2.5</td>\n",
       "      <td>2.5</td>\n",
       "      <td>3.0</td>\n",
       "      <td>2.5</td>\n",
       "      <td>2.5</td>\n",
       "      <td>2.5</td>\n",
       "      <td>NaN</td>\n",
       "      <td>3.0</td>\n",
       "      <td>3.0</td>\n",
       "      <td>3.0</td>\n",
       "      <td>2.5</td>\n",
       "      <td>2.5</td>\n",
       "      <td>2.0</td>\n",
       "      <td>1.0</td>\n",
       "      <td>2.0</td>\n",
       "      <td>2.0</td>\n",
       "    </tr>\n",
       "    <tr>\n",
       "      <th>11736906</th>\n",
       "      <td>0</td>\n",
       "      <td>1</td>\n",
       "      <td>2015</td>\n",
       "      <td>2009</td>\n",
       "      <td>6</td>\n",
       "      <td>1</td>\n",
       "      <td>0</td>\n",
       "      <td>0</td>\n",
       "      <td>0</td>\n",
       "      <td>0</td>\n",
       "      <td>0</td>\n",
       "      <td>0</td>\n",
       "      <td>4.0</td>\n",
       "      <td>4.0</td>\n",
       "      <td>4.0</td>\n",
       "      <td>4.0</td>\n",
       "      <td>4.0</td>\n",
       "      <td>4.0</td>\n",
       "      <td>NaN</td>\n",
       "      <td>NaN</td>\n",
       "      <td>NaN</td>\n",
       "      <td>NaN</td>\n",
       "      <td>NaN</td>\n",
       "      <td>NaN</td>\n",
       "      <td>NaN</td>\n",
       "      <td>NaN</td>\n",
       "      <td>NaN</td>\n",
       "      <td>NaN</td>\n",
       "      <td>NaN</td>\n",
       "      <td>NaN</td>\n",
       "      <td>NaN</td>\n",
       "      <td>NaN</td>\n",
       "    </tr>\n",
       "    <tr>\n",
       "      <th>12032306</th>\n",
       "      <td>0</td>\n",
       "      <td>1</td>\n",
       "      <td>2015</td>\n",
       "      <td>2007</td>\n",
       "      <td>8</td>\n",
       "      <td>0</td>\n",
       "      <td>1</td>\n",
       "      <td>0</td>\n",
       "      <td>0</td>\n",
       "      <td>0</td>\n",
       "      <td>0</td>\n",
       "      <td>0</td>\n",
       "      <td>4.0</td>\n",
       "      <td>4.0</td>\n",
       "      <td>4.0</td>\n",
       "      <td>4.0</td>\n",
       "      <td>4.0</td>\n",
       "      <td>4.0</td>\n",
       "      <td>NaN</td>\n",
       "      <td>NaN</td>\n",
       "      <td>NaN</td>\n",
       "      <td>NaN</td>\n",
       "      <td>NaN</td>\n",
       "      <td>NaN</td>\n",
       "      <td>NaN</td>\n",
       "      <td>NaN</td>\n",
       "      <td>NaN</td>\n",
       "      <td>NaN</td>\n",
       "      <td>NaN</td>\n",
       "      <td>NaN</td>\n",
       "      <td>NaN</td>\n",
       "      <td>NaN</td>\n",
       "    </tr>\n",
       "    <tr>\n",
       "      <th>15613006</th>\n",
       "      <td>0</td>\n",
       "      <td>1</td>\n",
       "      <td>2018</td>\n",
       "      <td>2009</td>\n",
       "      <td>9</td>\n",
       "      <td>1</td>\n",
       "      <td>1</td>\n",
       "      <td>0</td>\n",
       "      <td>0</td>\n",
       "      <td>0</td>\n",
       "      <td>0</td>\n",
       "      <td>0</td>\n",
       "      <td>1.0</td>\n",
       "      <td>2.5</td>\n",
       "      <td>1.0</td>\n",
       "      <td>2.5</td>\n",
       "      <td>1.5</td>\n",
       "      <td>2.0</td>\n",
       "      <td>1.5</td>\n",
       "      <td>1.5</td>\n",
       "      <td>1.0</td>\n",
       "      <td>3.0</td>\n",
       "      <td>1.5</td>\n",
       "      <td>2.5</td>\n",
       "      <td>2.0</td>\n",
       "      <td>2.5</td>\n",
       "      <td>1.5</td>\n",
       "      <td>2.5</td>\n",
       "      <td>1.5</td>\n",
       "      <td>NaN</td>\n",
       "      <td>2.0</td>\n",
       "      <td>1.5</td>\n",
       "    </tr>\n",
       "    <tr>\n",
       "      <th>12948006</th>\n",
       "      <td>1</td>\n",
       "      <td>1</td>\n",
       "      <td>2016</td>\n",
       "      <td>2010</td>\n",
       "      <td>6</td>\n",
       "      <td>1</td>\n",
       "      <td>0</td>\n",
       "      <td>0</td>\n",
       "      <td>0</td>\n",
       "      <td>0</td>\n",
       "      <td>0</td>\n",
       "      <td>1</td>\n",
       "      <td>3.0</td>\n",
       "      <td>2.0</td>\n",
       "      <td>1.5</td>\n",
       "      <td>2.5</td>\n",
       "      <td>1.5</td>\n",
       "      <td>2.5</td>\n",
       "      <td>2.5</td>\n",
       "      <td>2.0</td>\n",
       "      <td>1.0</td>\n",
       "      <td>3.0</td>\n",
       "      <td>2.5</td>\n",
       "      <td>2.0</td>\n",
       "      <td>2.0</td>\n",
       "      <td>2.5</td>\n",
       "      <td>2.5</td>\n",
       "      <td>2.5</td>\n",
       "      <td>2.0</td>\n",
       "      <td>1.0</td>\n",
       "      <td>2.5</td>\n",
       "      <td>1.0</td>\n",
       "    </tr>\n",
       "    <tr>\n",
       "      <th>...</th>\n",
       "      <td>...</td>\n",
       "      <td>...</td>\n",
       "      <td>...</td>\n",
       "      <td>...</td>\n",
       "      <td>...</td>\n",
       "      <td>...</td>\n",
       "      <td>...</td>\n",
       "      <td>...</td>\n",
       "      <td>...</td>\n",
       "      <td>...</td>\n",
       "      <td>...</td>\n",
       "      <td>...</td>\n",
       "      <td>...</td>\n",
       "      <td>...</td>\n",
       "      <td>...</td>\n",
       "      <td>...</td>\n",
       "      <td>...</td>\n",
       "      <td>...</td>\n",
       "      <td>...</td>\n",
       "      <td>...</td>\n",
       "      <td>...</td>\n",
       "      <td>...</td>\n",
       "      <td>...</td>\n",
       "      <td>...</td>\n",
       "      <td>...</td>\n",
       "      <td>...</td>\n",
       "      <td>...</td>\n",
       "      <td>...</td>\n",
       "      <td>...</td>\n",
       "      <td>...</td>\n",
       "      <td>...</td>\n",
       "      <td>...</td>\n",
       "    </tr>\n",
       "    <tr>\n",
       "      <th>18639206</th>\n",
       "      <td>0</td>\n",
       "      <td>1</td>\n",
       "      <td>2020</td>\n",
       "      <td>2020</td>\n",
       "      <td>0</td>\n",
       "      <td>0</td>\n",
       "      <td>1</td>\n",
       "      <td>1</td>\n",
       "      <td>1</td>\n",
       "      <td>1</td>\n",
       "      <td>0</td>\n",
       "      <td>0</td>\n",
       "      <td>4.0</td>\n",
       "      <td>2.5</td>\n",
       "      <td>1.5</td>\n",
       "      <td>3.0</td>\n",
       "      <td>2.0</td>\n",
       "      <td>4.0</td>\n",
       "      <td>4.0</td>\n",
       "      <td>2.5</td>\n",
       "      <td>4.0</td>\n",
       "      <td>4.0</td>\n",
       "      <td>NaN</td>\n",
       "      <td>NaN</td>\n",
       "      <td>NaN</td>\n",
       "      <td>NaN</td>\n",
       "      <td>NaN</td>\n",
       "      <td>NaN</td>\n",
       "      <td>NaN</td>\n",
       "      <td>NaN</td>\n",
       "      <td>NaN</td>\n",
       "      <td>NaN</td>\n",
       "    </tr>\n",
       "    <tr>\n",
       "      <th>11677106</th>\n",
       "      <td>0</td>\n",
       "      <td>1</td>\n",
       "      <td>2015</td>\n",
       "      <td>2003</td>\n",
       "      <td>12</td>\n",
       "      <td>0</td>\n",
       "      <td>1</td>\n",
       "      <td>0</td>\n",
       "      <td>0</td>\n",
       "      <td>0</td>\n",
       "      <td>0</td>\n",
       "      <td>0</td>\n",
       "      <td>4.0</td>\n",
       "      <td>2.5</td>\n",
       "      <td>1.0</td>\n",
       "      <td>4.0</td>\n",
       "      <td>4.0</td>\n",
       "      <td>4.0</td>\n",
       "      <td>NaN</td>\n",
       "      <td>NaN</td>\n",
       "      <td>NaN</td>\n",
       "      <td>NaN</td>\n",
       "      <td>NaN</td>\n",
       "      <td>NaN</td>\n",
       "      <td>NaN</td>\n",
       "      <td>NaN</td>\n",
       "      <td>NaN</td>\n",
       "      <td>NaN</td>\n",
       "      <td>NaN</td>\n",
       "      <td>NaN</td>\n",
       "      <td>NaN</td>\n",
       "      <td>NaN</td>\n",
       "    </tr>\n",
       "    <tr>\n",
       "      <th>13513806</th>\n",
       "      <td>0</td>\n",
       "      <td>1</td>\n",
       "      <td>2016</td>\n",
       "      <td>2006</td>\n",
       "      <td>10</td>\n",
       "      <td>0</td>\n",
       "      <td>1</td>\n",
       "      <td>0</td>\n",
       "      <td>0</td>\n",
       "      <td>0</td>\n",
       "      <td>0</td>\n",
       "      <td>0</td>\n",
       "      <td>4.0</td>\n",
       "      <td>4.0</td>\n",
       "      <td>1.0</td>\n",
       "      <td>4.0</td>\n",
       "      <td>4.0</td>\n",
       "      <td>4.0</td>\n",
       "      <td>NaN</td>\n",
       "      <td>NaN</td>\n",
       "      <td>NaN</td>\n",
       "      <td>NaN</td>\n",
       "      <td>NaN</td>\n",
       "      <td>NaN</td>\n",
       "      <td>NaN</td>\n",
       "      <td>NaN</td>\n",
       "      <td>NaN</td>\n",
       "      <td>NaN</td>\n",
       "      <td>NaN</td>\n",
       "      <td>NaN</td>\n",
       "      <td>NaN</td>\n",
       "      <td>NaN</td>\n",
       "    </tr>\n",
       "    <tr>\n",
       "      <th>12979706</th>\n",
       "      <td>0</td>\n",
       "      <td>1</td>\n",
       "      <td>2016</td>\n",
       "      <td>2009</td>\n",
       "      <td>7</td>\n",
       "      <td>1</td>\n",
       "      <td>1</td>\n",
       "      <td>0</td>\n",
       "      <td>0</td>\n",
       "      <td>0</td>\n",
       "      <td>0</td>\n",
       "      <td>1</td>\n",
       "      <td>1.0</td>\n",
       "      <td>3.0</td>\n",
       "      <td>1.0</td>\n",
       "      <td>3.0</td>\n",
       "      <td>1.0</td>\n",
       "      <td>1.5</td>\n",
       "      <td>1.0</td>\n",
       "      <td>2.5</td>\n",
       "      <td>1.0</td>\n",
       "      <td>1.5</td>\n",
       "      <td>3.0</td>\n",
       "      <td>2.0</td>\n",
       "      <td>2.0</td>\n",
       "      <td>3.0</td>\n",
       "      <td>2.5</td>\n",
       "      <td>2.5</td>\n",
       "      <td>2.0</td>\n",
       "      <td>2.5</td>\n",
       "      <td>1.5</td>\n",
       "      <td>2.5</td>\n",
       "    </tr>\n",
       "    <tr>\n",
       "      <th>11740806</th>\n",
       "      <td>0</td>\n",
       "      <td>1</td>\n",
       "      <td>2015</td>\n",
       "      <td>2007</td>\n",
       "      <td>8</td>\n",
       "      <td>1</td>\n",
       "      <td>0</td>\n",
       "      <td>0</td>\n",
       "      <td>0</td>\n",
       "      <td>0</td>\n",
       "      <td>0</td>\n",
       "      <td>0</td>\n",
       "      <td>2.0</td>\n",
       "      <td>2.0</td>\n",
       "      <td>1.0</td>\n",
       "      <td>2.5</td>\n",
       "      <td>1.5</td>\n",
       "      <td>2.0</td>\n",
       "      <td>3.0</td>\n",
       "      <td>1.5</td>\n",
       "      <td>3.0</td>\n",
       "      <td>4.0</td>\n",
       "      <td>4.0</td>\n",
       "      <td>4.0</td>\n",
       "      <td>4.0</td>\n",
       "      <td>NaN</td>\n",
       "      <td>4.0</td>\n",
       "      <td>4.0</td>\n",
       "      <td>NaN</td>\n",
       "      <td>NaN</td>\n",
       "      <td>NaN</td>\n",
       "      <td>4.0</td>\n",
       "    </tr>\n",
       "  </tbody>\n",
       "</table>\n",
       "<p>3940 rows × 32 columns</p>\n",
       "</div>"
      ],
      "text/plain": [
       "            pohlavi_kod  je_cech  datum_zahajeni  rok_maturity  \\\n",
       "studium_id                                                       \n",
       "12375406              0        1            2015          2009   \n",
       "11736906              0        1            2015          2009   \n",
       "12032306              0        1            2015          2007   \n",
       "15613006              0        1            2018          2009   \n",
       "12948006              1        1            2016          2010   \n",
       "...                 ...      ...             ...           ...   \n",
       "18639206              0        1            2020          2020   \n",
       "11677106              0        1            2015          2003   \n",
       "13513806              0        1            2016          2006   \n",
       "12979706              0        1            2016          2009   \n",
       "11740806              0        1            2015          2007   \n",
       "\n",
       "            maturita_nastup_rozdil  gymnazium  praha  scio  olym  zkouska  \\\n",
       "studium_id                                                                  \n",
       "12375406                         6          0      1     0     0        0   \n",
       "11736906                         6          1      0     0     0        0   \n",
       "12032306                         8          0      1     0     0        0   \n",
       "15613006                         9          1      1     0     0        0   \n",
       "12948006                         6          1      0     0     0        0   \n",
       "...                            ...        ...    ...   ...   ...      ...   \n",
       "18639206                         0          0      1     1     1        1   \n",
       "11677106                        12          0      1     0     0        0   \n",
       "13513806                        10          0      1     0     0        0   \n",
       "12979706                         7          1      1     0     0        0   \n",
       "11740806                         8          1      0     0     0        0   \n",
       "\n",
       "            prominuti  dostudoval_uspesne  BI-PA1  BI-PAI  BI-CAO  BI-PS1  \\\n",
       "studium_id                                                                  \n",
       "12375406            0                   1     2.5     2.0     2.5     3.0   \n",
       "11736906            0                   0     4.0     4.0     4.0     4.0   \n",
       "12032306            0                   0     4.0     4.0     4.0     4.0   \n",
       "15613006            0                   0     1.0     2.5     1.0     2.5   \n",
       "12948006            0                   1     3.0     2.0     1.5     2.5   \n",
       "...               ...                 ...     ...     ...     ...     ...   \n",
       "18639206            0                   0     4.0     2.5     1.5     3.0   \n",
       "11677106            0                   0     4.0     2.5     1.0     4.0   \n",
       "13513806            0                   0     4.0     4.0     1.0     4.0   \n",
       "12979706            0                   1     1.0     3.0     1.0     3.0   \n",
       "11740806            0                   0     2.0     2.0     1.0     2.5   \n",
       "\n",
       "            BI-MLO  BI-ZMA  BI-PA2  BI-DBS  BI-SAP  BI-LIN  BI-AG1  BI-AAG  \\\n",
       "studium_id                                                                   \n",
       "12375406       2.5     2.5     3.0     2.5     2.5     2.5     NaN     3.0   \n",
       "11736906       4.0     4.0     NaN     NaN     NaN     NaN     NaN     NaN   \n",
       "12032306       4.0     4.0     NaN     NaN     NaN     NaN     NaN     NaN   \n",
       "15613006       1.5     2.0     1.5     1.5     1.0     3.0     1.5     2.5   \n",
       "12948006       1.5     2.5     2.5     2.0     1.0     3.0     2.5     2.0   \n",
       "...            ...     ...     ...     ...     ...     ...     ...     ...   \n",
       "18639206       2.0     4.0     4.0     2.5     4.0     4.0     NaN     NaN   \n",
       "11677106       4.0     4.0     NaN     NaN     NaN     NaN     NaN     NaN   \n",
       "13513806       4.0     4.0     NaN     NaN     NaN     NaN     NaN     NaN   \n",
       "12979706       1.0     1.5     1.0     2.5     1.0     1.5     3.0     2.0   \n",
       "11740806       1.5     2.0     3.0     1.5     3.0     4.0     4.0     4.0   \n",
       "\n",
       "            BI-ZDM  BI-OSY  BI-PSI  BI-BEZ  BI-PST  BI-DPR  BI-SI1.2  BI-EMP  \n",
       "studium_id                                                                    \n",
       "12375406       3.0     3.0     2.5     2.5     2.0     1.0       2.0     2.0  \n",
       "11736906       NaN     NaN     NaN     NaN     NaN     NaN       NaN     NaN  \n",
       "12032306       NaN     NaN     NaN     NaN     NaN     NaN       NaN     NaN  \n",
       "15613006       2.0     2.5     1.5     2.5     1.5     NaN       2.0     1.5  \n",
       "12948006       2.0     2.5     2.5     2.5     2.0     1.0       2.5     1.0  \n",
       "...            ...     ...     ...     ...     ...     ...       ...     ...  \n",
       "18639206       NaN     NaN     NaN     NaN     NaN     NaN       NaN     NaN  \n",
       "11677106       NaN     NaN     NaN     NaN     NaN     NaN       NaN     NaN  \n",
       "13513806       NaN     NaN     NaN     NaN     NaN     NaN       NaN     NaN  \n",
       "12979706       2.0     3.0     2.5     2.5     2.0     2.5       1.5     2.5  \n",
       "11740806       4.0     NaN     4.0     4.0     NaN     NaN       NaN     4.0  \n",
       "\n",
       "[3940 rows x 32 columns]"
      ]
     },
     "execution_count": 4,
     "metadata": {},
     "output_type": "execute_result"
    }
   ],
   "source": [
    "matrix"
   ]
  },
  {
   "cell_type": "markdown",
   "id": "solid-australian",
   "metadata": {},
   "source": [
    "## Selekce atributů"
   ]
  },
  {
   "cell_type": "code",
   "execution_count": 5,
   "id": "sought-foundation",
   "metadata": {},
   "outputs": [],
   "source": [
    "# odstraneni neznamkovych atributu\n",
    "matrix = matrix.drop(columns=['dostudoval_uspesne', 'pohlavi_kod', 'je_cech', 'datum_zahajeni',\n",
    "                             'rok_maturity', 'maturita_nastup_rozdil', 'gymnazium',\n",
    "                             'praha', 'scio', 'olym', 'zkouska', 'prominuti'])"
   ]
  },
  {
   "cell_type": "code",
   "execution_count": 6,
   "id": "cardiac-toronto",
   "metadata": {},
   "outputs": [
    {
     "name": "stdout",
     "output_type": "stream",
     "text": [
      "<class 'pandas.core.frame.DataFrame'>\n",
      "Int64Index: 3940 entries, 12375406 to 11740806\n",
      "Data columns (total 20 columns):\n",
      " #   Column    Non-Null Count  Dtype  \n",
      "---  ------    --------------  -----  \n",
      " 0   BI-PA1    3870 non-null   float64\n",
      " 1   BI-PAI    3871 non-null   float64\n",
      " 2   BI-CAO    3873 non-null   float64\n",
      " 3   BI-PS1    3874 non-null   float64\n",
      " 4   BI-MLO    3873 non-null   float64\n",
      " 5   BI-ZMA    3867 non-null   float64\n",
      " 6   BI-PA2    2229 non-null   float64\n",
      " 7   BI-DBS    2502 non-null   float64\n",
      " 8   BI-SAP    2466 non-null   float64\n",
      " 9   BI-LIN    2391 non-null   float64\n",
      " 10  BI-AG1    1590 non-null   float64\n",
      " 11  BI-AAG    1810 non-null   float64\n",
      " 12  BI-ZDM    1721 non-null   float64\n",
      " 13  BI-OSY    1274 non-null   float64\n",
      " 14  BI-PSI    1459 non-null   float64\n",
      " 15  BI-BEZ    1358 non-null   float64\n",
      " 16  BI-PST    1063 non-null   float64\n",
      " 17  BI-DPR    915 non-null    float64\n",
      " 18  BI-SI1.2  1252 non-null   float64\n",
      " 19  BI-EMP    1419 non-null   float64\n",
      "dtypes: float64(20)\n",
      "memory usage: 646.4 KB\n"
     ]
    }
   ],
   "source": [
    "matrix.info()"
   ]
  },
  {
   "cell_type": "markdown",
   "id": "certain-empty",
   "metadata": {},
   "source": [
    "## Doplnění NaN hodnot"
   ]
  },
  {
   "cell_type": "code",
   "execution_count": 7,
   "id": "thick-feeling",
   "metadata": {},
   "outputs": [],
   "source": [
    "imp = KNNImputer(n_neighbors=5)\n",
    "matrix = pd.DataFrame(imp.fit_transform(matrix), index=matrix.index, columns=matrix.columns)"
   ]
  },
  {
   "cell_type": "code",
   "execution_count": 8,
   "id": "secure-sport",
   "metadata": {},
   "outputs": [
    {
     "data": {
      "text/html": [
       "<div>\n",
       "<style scoped>\n",
       "    .dataframe tbody tr th:only-of-type {\n",
       "        vertical-align: middle;\n",
       "    }\n",
       "\n",
       "    .dataframe tbody tr th {\n",
       "        vertical-align: top;\n",
       "    }\n",
       "\n",
       "    .dataframe thead th {\n",
       "        text-align: right;\n",
       "    }\n",
       "</style>\n",
       "<table border=\"1\" class=\"dataframe\">\n",
       "  <thead>\n",
       "    <tr style=\"text-align: right;\">\n",
       "      <th></th>\n",
       "      <th>BI-PA1</th>\n",
       "      <th>BI-PAI</th>\n",
       "      <th>BI-CAO</th>\n",
       "      <th>BI-PS1</th>\n",
       "      <th>BI-MLO</th>\n",
       "      <th>BI-ZMA</th>\n",
       "      <th>BI-PA2</th>\n",
       "      <th>BI-DBS</th>\n",
       "      <th>BI-SAP</th>\n",
       "      <th>BI-LIN</th>\n",
       "      <th>BI-AG1</th>\n",
       "      <th>BI-AAG</th>\n",
       "      <th>BI-ZDM</th>\n",
       "      <th>BI-OSY</th>\n",
       "      <th>BI-PSI</th>\n",
       "      <th>BI-BEZ</th>\n",
       "      <th>BI-PST</th>\n",
       "      <th>BI-DPR</th>\n",
       "      <th>BI-SI1.2</th>\n",
       "      <th>BI-EMP</th>\n",
       "    </tr>\n",
       "    <tr>\n",
       "      <th>studium_id</th>\n",
       "      <th></th>\n",
       "      <th></th>\n",
       "      <th></th>\n",
       "      <th></th>\n",
       "      <th></th>\n",
       "      <th></th>\n",
       "      <th></th>\n",
       "      <th></th>\n",
       "      <th></th>\n",
       "      <th></th>\n",
       "      <th></th>\n",
       "      <th></th>\n",
       "      <th></th>\n",
       "      <th></th>\n",
       "      <th></th>\n",
       "      <th></th>\n",
       "      <th></th>\n",
       "      <th></th>\n",
       "      <th></th>\n",
       "      <th></th>\n",
       "    </tr>\n",
       "  </thead>\n",
       "  <tbody>\n",
       "    <tr>\n",
       "      <th>12375406</th>\n",
       "      <td>2.5</td>\n",
       "      <td>2.0</td>\n",
       "      <td>2.5</td>\n",
       "      <td>3.0</td>\n",
       "      <td>2.5</td>\n",
       "      <td>2.5</td>\n",
       "      <td>3.0</td>\n",
       "      <td>2.5</td>\n",
       "      <td>2.5</td>\n",
       "      <td>2.5</td>\n",
       "      <td>2.8</td>\n",
       "      <td>3.0</td>\n",
       "      <td>3.0</td>\n",
       "      <td>3.0</td>\n",
       "      <td>2.5</td>\n",
       "      <td>2.5</td>\n",
       "      <td>2.0</td>\n",
       "      <td>1.0</td>\n",
       "      <td>2.0</td>\n",
       "      <td>2.0</td>\n",
       "    </tr>\n",
       "    <tr>\n",
       "      <th>11736906</th>\n",
       "      <td>4.0</td>\n",
       "      <td>4.0</td>\n",
       "      <td>4.0</td>\n",
       "      <td>4.0</td>\n",
       "      <td>4.0</td>\n",
       "      <td>4.0</td>\n",
       "      <td>4.0</td>\n",
       "      <td>3.6</td>\n",
       "      <td>3.6</td>\n",
       "      <td>3.4</td>\n",
       "      <td>4.0</td>\n",
       "      <td>4.0</td>\n",
       "      <td>3.7</td>\n",
       "      <td>3.1</td>\n",
       "      <td>3.4</td>\n",
       "      <td>3.5</td>\n",
       "      <td>2.9</td>\n",
       "      <td>1.8</td>\n",
       "      <td>3.2</td>\n",
       "      <td>2.9</td>\n",
       "    </tr>\n",
       "    <tr>\n",
       "      <th>12032306</th>\n",
       "      <td>4.0</td>\n",
       "      <td>4.0</td>\n",
       "      <td>4.0</td>\n",
       "      <td>4.0</td>\n",
       "      <td>4.0</td>\n",
       "      <td>4.0</td>\n",
       "      <td>4.0</td>\n",
       "      <td>3.6</td>\n",
       "      <td>3.6</td>\n",
       "      <td>3.4</td>\n",
       "      <td>4.0</td>\n",
       "      <td>4.0</td>\n",
       "      <td>3.7</td>\n",
       "      <td>3.1</td>\n",
       "      <td>3.4</td>\n",
       "      <td>3.5</td>\n",
       "      <td>2.9</td>\n",
       "      <td>1.8</td>\n",
       "      <td>3.2</td>\n",
       "      <td>2.9</td>\n",
       "    </tr>\n",
       "    <tr>\n",
       "      <th>15613006</th>\n",
       "      <td>1.0</td>\n",
       "      <td>2.5</td>\n",
       "      <td>1.0</td>\n",
       "      <td>2.5</td>\n",
       "      <td>1.5</td>\n",
       "      <td>2.0</td>\n",
       "      <td>1.5</td>\n",
       "      <td>1.5</td>\n",
       "      <td>1.0</td>\n",
       "      <td>3.0</td>\n",
       "      <td>1.5</td>\n",
       "      <td>2.5</td>\n",
       "      <td>2.0</td>\n",
       "      <td>2.5</td>\n",
       "      <td>1.5</td>\n",
       "      <td>2.5</td>\n",
       "      <td>1.5</td>\n",
       "      <td>1.7</td>\n",
       "      <td>2.0</td>\n",
       "      <td>1.5</td>\n",
       "    </tr>\n",
       "    <tr>\n",
       "      <th>12948006</th>\n",
       "      <td>3.0</td>\n",
       "      <td>2.0</td>\n",
       "      <td>1.5</td>\n",
       "      <td>2.5</td>\n",
       "      <td>1.5</td>\n",
       "      <td>2.5</td>\n",
       "      <td>2.5</td>\n",
       "      <td>2.0</td>\n",
       "      <td>1.0</td>\n",
       "      <td>3.0</td>\n",
       "      <td>2.5</td>\n",
       "      <td>2.0</td>\n",
       "      <td>2.0</td>\n",
       "      <td>2.5</td>\n",
       "      <td>2.5</td>\n",
       "      <td>2.5</td>\n",
       "      <td>2.0</td>\n",
       "      <td>1.0</td>\n",
       "      <td>2.5</td>\n",
       "      <td>1.0</td>\n",
       "    </tr>\n",
       "    <tr>\n",
       "      <th>...</th>\n",
       "      <td>...</td>\n",
       "      <td>...</td>\n",
       "      <td>...</td>\n",
       "      <td>...</td>\n",
       "      <td>...</td>\n",
       "      <td>...</td>\n",
       "      <td>...</td>\n",
       "      <td>...</td>\n",
       "      <td>...</td>\n",
       "      <td>...</td>\n",
       "      <td>...</td>\n",
       "      <td>...</td>\n",
       "      <td>...</td>\n",
       "      <td>...</td>\n",
       "      <td>...</td>\n",
       "      <td>...</td>\n",
       "      <td>...</td>\n",
       "      <td>...</td>\n",
       "      <td>...</td>\n",
       "      <td>...</td>\n",
       "    </tr>\n",
       "    <tr>\n",
       "      <th>18639206</th>\n",
       "      <td>4.0</td>\n",
       "      <td>2.5</td>\n",
       "      <td>1.5</td>\n",
       "      <td>3.0</td>\n",
       "      <td>2.0</td>\n",
       "      <td>4.0</td>\n",
       "      <td>4.0</td>\n",
       "      <td>2.5</td>\n",
       "      <td>4.0</td>\n",
       "      <td>4.0</td>\n",
       "      <td>4.0</td>\n",
       "      <td>4.0</td>\n",
       "      <td>4.0</td>\n",
       "      <td>4.0</td>\n",
       "      <td>3.7</td>\n",
       "      <td>3.7</td>\n",
       "      <td>3.7</td>\n",
       "      <td>1.5</td>\n",
       "      <td>3.0</td>\n",
       "      <td>2.8</td>\n",
       "    </tr>\n",
       "    <tr>\n",
       "      <th>11677106</th>\n",
       "      <td>4.0</td>\n",
       "      <td>2.5</td>\n",
       "      <td>1.0</td>\n",
       "      <td>4.0</td>\n",
       "      <td>4.0</td>\n",
       "      <td>4.0</td>\n",
       "      <td>4.0</td>\n",
       "      <td>3.7</td>\n",
       "      <td>3.6</td>\n",
       "      <td>3.7</td>\n",
       "      <td>4.0</td>\n",
       "      <td>4.0</td>\n",
       "      <td>4.0</td>\n",
       "      <td>3.3</td>\n",
       "      <td>3.5</td>\n",
       "      <td>4.0</td>\n",
       "      <td>3.8</td>\n",
       "      <td>2.3</td>\n",
       "      <td>2.6</td>\n",
       "      <td>2.6</td>\n",
       "    </tr>\n",
       "    <tr>\n",
       "      <th>13513806</th>\n",
       "      <td>4.0</td>\n",
       "      <td>4.0</td>\n",
       "      <td>1.0</td>\n",
       "      <td>4.0</td>\n",
       "      <td>4.0</td>\n",
       "      <td>4.0</td>\n",
       "      <td>4.0</td>\n",
       "      <td>4.0</td>\n",
       "      <td>3.4</td>\n",
       "      <td>3.7</td>\n",
       "      <td>4.0</td>\n",
       "      <td>4.0</td>\n",
       "      <td>4.0</td>\n",
       "      <td>3.5</td>\n",
       "      <td>3.8</td>\n",
       "      <td>4.0</td>\n",
       "      <td>3.8</td>\n",
       "      <td>3.0</td>\n",
       "      <td>2.6</td>\n",
       "      <td>3.5</td>\n",
       "    </tr>\n",
       "    <tr>\n",
       "      <th>12979706</th>\n",
       "      <td>1.0</td>\n",
       "      <td>3.0</td>\n",
       "      <td>1.0</td>\n",
       "      <td>3.0</td>\n",
       "      <td>1.0</td>\n",
       "      <td>1.5</td>\n",
       "      <td>1.0</td>\n",
       "      <td>2.5</td>\n",
       "      <td>1.0</td>\n",
       "      <td>1.5</td>\n",
       "      <td>3.0</td>\n",
       "      <td>2.0</td>\n",
       "      <td>2.0</td>\n",
       "      <td>3.0</td>\n",
       "      <td>2.5</td>\n",
       "      <td>2.5</td>\n",
       "      <td>2.0</td>\n",
       "      <td>2.5</td>\n",
       "      <td>1.5</td>\n",
       "      <td>2.5</td>\n",
       "    </tr>\n",
       "    <tr>\n",
       "      <th>11740806</th>\n",
       "      <td>2.0</td>\n",
       "      <td>2.0</td>\n",
       "      <td>1.0</td>\n",
       "      <td>2.5</td>\n",
       "      <td>1.5</td>\n",
       "      <td>2.0</td>\n",
       "      <td>3.0</td>\n",
       "      <td>1.5</td>\n",
       "      <td>3.0</td>\n",
       "      <td>4.0</td>\n",
       "      <td>4.0</td>\n",
       "      <td>4.0</td>\n",
       "      <td>4.0</td>\n",
       "      <td>4.0</td>\n",
       "      <td>4.0</td>\n",
       "      <td>4.0</td>\n",
       "      <td>4.0</td>\n",
       "      <td>2.2</td>\n",
       "      <td>4.0</td>\n",
       "      <td>4.0</td>\n",
       "    </tr>\n",
       "  </tbody>\n",
       "</table>\n",
       "<p>3940 rows × 20 columns</p>\n",
       "</div>"
      ],
      "text/plain": [
       "            BI-PA1  BI-PAI  BI-CAO  BI-PS1  BI-MLO  BI-ZMA  BI-PA2  BI-DBS  \\\n",
       "studium_id                                                                   \n",
       "12375406       2.5     2.0     2.5     3.0     2.5     2.5     3.0     2.5   \n",
       "11736906       4.0     4.0     4.0     4.0     4.0     4.0     4.0     3.6   \n",
       "12032306       4.0     4.0     4.0     4.0     4.0     4.0     4.0     3.6   \n",
       "15613006       1.0     2.5     1.0     2.5     1.5     2.0     1.5     1.5   \n",
       "12948006       3.0     2.0     1.5     2.5     1.5     2.5     2.5     2.0   \n",
       "...            ...     ...     ...     ...     ...     ...     ...     ...   \n",
       "18639206       4.0     2.5     1.5     3.0     2.0     4.0     4.0     2.5   \n",
       "11677106       4.0     2.5     1.0     4.0     4.0     4.0     4.0     3.7   \n",
       "13513806       4.0     4.0     1.0     4.0     4.0     4.0     4.0     4.0   \n",
       "12979706       1.0     3.0     1.0     3.0     1.0     1.5     1.0     2.5   \n",
       "11740806       2.0     2.0     1.0     2.5     1.5     2.0     3.0     1.5   \n",
       "\n",
       "            BI-SAP  BI-LIN  BI-AG1  BI-AAG  BI-ZDM  BI-OSY  BI-PSI  BI-BEZ  \\\n",
       "studium_id                                                                   \n",
       "12375406       2.5     2.5     2.8     3.0     3.0     3.0     2.5     2.5   \n",
       "11736906       3.6     3.4     4.0     4.0     3.7     3.1     3.4     3.5   \n",
       "12032306       3.6     3.4     4.0     4.0     3.7     3.1     3.4     3.5   \n",
       "15613006       1.0     3.0     1.5     2.5     2.0     2.5     1.5     2.5   \n",
       "12948006       1.0     3.0     2.5     2.0     2.0     2.5     2.5     2.5   \n",
       "...            ...     ...     ...     ...     ...     ...     ...     ...   \n",
       "18639206       4.0     4.0     4.0     4.0     4.0     4.0     3.7     3.7   \n",
       "11677106       3.6     3.7     4.0     4.0     4.0     3.3     3.5     4.0   \n",
       "13513806       3.4     3.7     4.0     4.0     4.0     3.5     3.8     4.0   \n",
       "12979706       1.0     1.5     3.0     2.0     2.0     3.0     2.5     2.5   \n",
       "11740806       3.0     4.0     4.0     4.0     4.0     4.0     4.0     4.0   \n",
       "\n",
       "            BI-PST  BI-DPR  BI-SI1.2  BI-EMP  \n",
       "studium_id                                    \n",
       "12375406       2.0     1.0       2.0     2.0  \n",
       "11736906       2.9     1.8       3.2     2.9  \n",
       "12032306       2.9     1.8       3.2     2.9  \n",
       "15613006       1.5     1.7       2.0     1.5  \n",
       "12948006       2.0     1.0       2.5     1.0  \n",
       "...            ...     ...       ...     ...  \n",
       "18639206       3.7     1.5       3.0     2.8  \n",
       "11677106       3.8     2.3       2.6     2.6  \n",
       "13513806       3.8     3.0       2.6     3.5  \n",
       "12979706       2.0     2.5       1.5     2.5  \n",
       "11740806       4.0     2.2       4.0     4.0  \n",
       "\n",
       "[3940 rows x 20 columns]"
      ]
     },
     "execution_count": 8,
     "metadata": {},
     "output_type": "execute_result"
    }
   ],
   "source": [
    "matrix"
   ]
  },
  {
   "cell_type": "markdown",
   "id": "supreme-examination",
   "metadata": {},
   "source": [
    "## Zaokrouhlení doplněných hodnot"
   ]
  },
  {
   "cell_type": "code",
   "execution_count": 9,
   "id": "organized-aquarium",
   "metadata": {},
   "outputs": [],
   "source": [
    "grades = [1, 1.5, 2, 2.5, 3, 4]"
   ]
  },
  {
   "cell_type": "code",
   "execution_count": 10,
   "id": "communist-terminology",
   "metadata": {},
   "outputs": [],
   "source": [
    "def custom_round(value):\n",
    "    return min(grades, key=lambda x:abs(x-value))"
   ]
  },
  {
   "cell_type": "code",
   "execution_count": 11,
   "id": "parallel-illness",
   "metadata": {},
   "outputs": [],
   "source": [
    "matrix = matrix.applymap(custom_round)"
   ]
  },
  {
   "cell_type": "code",
   "execution_count": 12,
   "id": "royal-rally",
   "metadata": {},
   "outputs": [
    {
     "name": "stdout",
     "output_type": "stream",
     "text": [
      "<class 'pandas.core.frame.DataFrame'>\n",
      "Int64Index: 3940 entries, 12375406 to 11740806\n",
      "Data columns (total 20 columns):\n",
      " #   Column    Non-Null Count  Dtype  \n",
      "---  ------    --------------  -----  \n",
      " 0   BI-PA1    3940 non-null   float64\n",
      " 1   BI-PAI    3940 non-null   float64\n",
      " 2   BI-CAO    3940 non-null   float64\n",
      " 3   BI-PS1    3940 non-null   float64\n",
      " 4   BI-MLO    3940 non-null   float64\n",
      " 5   BI-ZMA    3940 non-null   float64\n",
      " 6   BI-PA2    3940 non-null   float64\n",
      " 7   BI-DBS    3940 non-null   float64\n",
      " 8   BI-SAP    3940 non-null   float64\n",
      " 9   BI-LIN    3940 non-null   float64\n",
      " 10  BI-AG1    3940 non-null   float64\n",
      " 11  BI-AAG    3940 non-null   float64\n",
      " 12  BI-ZDM    3940 non-null   float64\n",
      " 13  BI-OSY    3940 non-null   float64\n",
      " 14  BI-PSI    3940 non-null   float64\n",
      " 15  BI-BEZ    3940 non-null   float64\n",
      " 16  BI-PST    3940 non-null   float64\n",
      " 17  BI-DPR    3940 non-null   float64\n",
      " 18  BI-SI1.2  3940 non-null   float64\n",
      " 19  BI-EMP    3940 non-null   float64\n",
      "dtypes: float64(20)\n",
      "memory usage: 646.4 KB\n"
     ]
    }
   ],
   "source": [
    "matrix.info()"
   ]
  },
  {
   "cell_type": "markdown",
   "id": "molecular-organization",
   "metadata": {},
   "source": [
    "## Rozdělení datasetu"
   ]
  },
  {
   "cell_type": "code",
   "execution_count": 13,
   "id": "governmental-testament",
   "metadata": {},
   "outputs": [],
   "source": [
    "train, test = train_test_split(matrix, test_size=0.2, shuffle=True)"
   ]
  },
  {
   "cell_type": "markdown",
   "id": "incorporated-occurrence",
   "metadata": {},
   "source": [
    "## Nastavení param_grid "
   ]
  },
  {
   "cell_type": "code",
   "execution_count": 14,
   "id": "white-grove",
   "metadata": {},
   "outputs": [],
   "source": [
    "param_grid = {\n",
    "    'n_neighbors' : range(1, 12), # Počet nejbližších sousedů\n",
    "    'p': range(1, 3), # Stupeň Minkowského vzdálenosti\n",
    "    'weights': ['uniform', 'distance'] \n",
    "}\n",
    "param_comb = ParameterGrid(param_grid)"
   ]
  },
  {
   "cell_type": "code",
   "execution_count": 15,
   "id": "celtic-connection",
   "metadata": {},
   "outputs": [],
   "source": [
    "courses = np.array(matrix.columns.unique())"
   ]
  },
  {
   "cell_type": "code",
   "execution_count": 16,
   "id": "parliamentary-color",
   "metadata": {},
   "outputs": [],
   "source": [
    "def get_prediction(course):\n",
    "    # rozdeleni datasetu\n",
    "    Xtrain_course = train.drop(columns=course)\n",
    "    ytrain_course = train[course]\n",
    "    Xtest_course = test.drop(columns=course)\n",
    "    ytest_course = test[course]\n",
    "    \n",
    "    # zmena priznaku na kategoricke ordinalni\n",
    "    grades_category = pd.api.types.CategoricalDtype(categories=[1, 1.5, 2, 2.5, 3, 4], ordered=True)\n",
    "    course_arr = np.array(course)\n",
    "    feature_courses = np.setdiff1d(course_arr, courses)\n",
    "    for feature in feature_courses:\n",
    "        Xtrain_course[feature] = Xtrain_course[feature].astype(grades_category)\n",
    "        Xtest_course[feature] = Xtest_course[feature].astype(grades_category)\n",
    "    \n",
    "    # create model\n",
    "    model = GridSearchCV(KNeighborsRegressor(), param_grid, cv=5)\n",
    "    model.fit(Xtrain_course, ytrain_course)\n",
    "    \n",
    "    # get prediction\n",
    "    y_train_predicted = model.predict(Xtrain_course)\n",
    "    y_test_predicted = model.predict(Xtest_course)\n",
    "    \n",
    "    # get RMSE\n",
    "    train_err = np.sqrt(mean_squared_error(model.predict(Xtrain_course), np.array(ytrain_course)))\n",
    "    test_err = np.sqrt(mean_squared_error(model.predict(Xtest_course), np.array(ytest_course)))\n",
    "    return model, train_err, test_err"
   ]
  },
  {
   "cell_type": "markdown",
   "id": "religious-diabetes",
   "metadata": {},
   "source": [
    "## PA1"
   ]
  },
  {
   "cell_type": "code",
   "execution_count": 17,
   "id": "continued-semester",
   "metadata": {},
   "outputs": [],
   "source": [
    "knn_pa1, train_pa1_err, test_pa1_err = get_prediction('BI-PA1')"
   ]
  },
  {
   "cell_type": "code",
   "execution_count": 18,
   "id": "golden-playback",
   "metadata": {},
   "outputs": [
    {
     "name": "stdout",
     "output_type": "stream",
     "text": [
      "RMSE reg (train): 0.057908341690866866\n",
      "RMSE reg (test): 0.4952459809337416\n"
     ]
    }
   ],
   "source": [
    "print('RMSE reg (train):', train_pa1_err)\n",
    "print('RMSE reg (test):', test_pa1_err)"
   ]
  },
  {
   "cell_type": "markdown",
   "id": "norwegian-uniform",
   "metadata": {},
   "source": [
    "## PAI"
   ]
  },
  {
   "cell_type": "code",
   "execution_count": 19,
   "id": "pleased-russell",
   "metadata": {},
   "outputs": [],
   "source": [
    "knn_pai, train_pai_err, test_pai_err = get_prediction('BI-PAI')"
   ]
  },
  {
   "cell_type": "code",
   "execution_count": 20,
   "id": "adolescent-harvey",
   "metadata": {},
   "outputs": [
    {
     "name": "stdout",
     "output_type": "stream",
     "text": [
      "RMSE reg (train): 0.08362500322927037\n",
      "RMSE reg (test): 0.4411331532465948\n"
     ]
    }
   ],
   "source": [
    "print('RMSE reg (train):', train_pai_err)\n",
    "print('RMSE reg (test):', test_pai_err)"
   ]
  },
  {
   "cell_type": "markdown",
   "id": "quality-insulin",
   "metadata": {},
   "source": [
    "## ZMA"
   ]
  },
  {
   "cell_type": "code",
   "execution_count": 21,
   "id": "behind-surprise",
   "metadata": {},
   "outputs": [],
   "source": [
    "knn_zma, train_zma_err, test_zma_err = get_prediction('BI-PAI')"
   ]
  },
  {
   "cell_type": "code",
   "execution_count": 22,
   "id": "functional-child",
   "metadata": {},
   "outputs": [
    {
     "name": "stdout",
     "output_type": "stream",
     "text": [
      "RMSE reg (train): 0.08362500322927037\n",
      "RMSE reg (test): 0.4411331532465948\n"
     ]
    }
   ],
   "source": [
    "print('RMSE reg (train):', train_zma_err)\n",
    "print('RMSE reg (test):', test_zma_err)"
   ]
  },
  {
   "cell_type": "markdown",
   "id": "correct-picking",
   "metadata": {},
   "source": [
    "## MLO"
   ]
  },
  {
   "cell_type": "code",
   "execution_count": 23,
   "id": "blocked-treatment",
   "metadata": {},
   "outputs": [],
   "source": [
    "knn_mlo, train_mlo_err, test_mlo_err = get_prediction('BI-MLO')"
   ]
  },
  {
   "cell_type": "code",
   "execution_count": 24,
   "id": "contemporary-recognition",
   "metadata": {},
   "outputs": [
    {
     "name": "stdout",
     "output_type": "stream",
     "text": [
      "RMSE reg (train): 0.048343980389830524\n",
      "RMSE reg (test): 0.47955107185238693\n"
     ]
    }
   ],
   "source": [
    "print('RMSE reg (train):', train_mlo_err)\n",
    "print('RMSE reg (test):', test_mlo_err)"
   ]
  },
  {
   "cell_type": "markdown",
   "id": "subjective-concept",
   "metadata": {},
   "source": [
    "## CAO"
   ]
  },
  {
   "cell_type": "code",
   "execution_count": 25,
   "id": "dense-yeast",
   "metadata": {},
   "outputs": [],
   "source": [
    "knn_cao, train_cao_err, test_cao_err = get_prediction('BI-CAO')"
   ]
  },
  {
   "cell_type": "code",
   "execution_count": 26,
   "id": "liberal-smith",
   "metadata": {},
   "outputs": [
    {
     "name": "stdout",
     "output_type": "stream",
     "text": [
      "RMSE reg (train): 0.08020731295402846\n",
      "RMSE reg (test): 0.37438031872112115\n"
     ]
    }
   ],
   "source": [
    "print('RMSE reg (train):', train_cao_err)\n",
    "print('RMSE reg (test):', test_cao_err)"
   ]
  },
  {
   "cell_type": "markdown",
   "id": "defined-albany",
   "metadata": {},
   "source": [
    "## PS1"
   ]
  },
  {
   "cell_type": "code",
   "execution_count": 27,
   "id": "plastic-thesaurus",
   "metadata": {},
   "outputs": [],
   "source": [
    "knn_ps1, train_ps1_err, test_ps1_err = get_prediction('BI-PS1')"
   ]
  },
  {
   "cell_type": "code",
   "execution_count": 28,
   "id": "exempt-classification",
   "metadata": {},
   "outputs": [
    {
     "name": "stdout",
     "output_type": "stream",
     "text": [
      "RMSE reg (train): 0.08471025915742152\n",
      "RMSE reg (test): 0.5046656641015004\n"
     ]
    }
   ],
   "source": [
    "print('RMSE reg (train):', train_ps1_err)\n",
    "print('RMSE reg (test):', test_ps1_err)"
   ]
  },
  {
   "cell_type": "markdown",
   "id": "italic-hardwood",
   "metadata": {},
   "source": [
    "## PA2"
   ]
  },
  {
   "cell_type": "code",
   "execution_count": 29,
   "id": "cleared-parade",
   "metadata": {},
   "outputs": [],
   "source": [
    "knn_pa2, train_pa2_err, test_pa2_err = get_prediction('BI-PA2')"
   ]
  },
  {
   "cell_type": "code",
   "execution_count": 30,
   "id": "ceramic-appeal",
   "metadata": {},
   "outputs": [
    {
     "name": "stdout",
     "output_type": "stream",
     "text": [
      "RMSE reg (train): 0.0\n",
      "RMSE reg (test): 0.40786800262867484\n"
     ]
    }
   ],
   "source": [
    "print('RMSE reg (train):', train_pa2_err)\n",
    "print('RMSE reg (test):', test_pa2_err)"
   ]
  },
  {
   "cell_type": "markdown",
   "id": "military-philosophy",
   "metadata": {},
   "source": [
    "## LIN"
   ]
  },
  {
   "cell_type": "code",
   "execution_count": 31,
   "id": "colonial-recall",
   "metadata": {},
   "outputs": [],
   "source": [
    "knn_lin, train_lin_err, test_lin_err = get_prediction('BI-LIN')"
   ]
  },
  {
   "cell_type": "code",
   "execution_count": 32,
   "id": "polar-japan",
   "metadata": {},
   "outputs": [
    {
     "name": "stdout",
     "output_type": "stream",
     "text": [
      "RMSE reg (train): 0.007271621589539376\n",
      "RMSE reg (test): 0.37894640742348434\n"
     ]
    }
   ],
   "source": [
    "print('RMSE reg (train):', train_lin_err)\n",
    "print('RMSE reg (test):', test_lin_err)"
   ]
  },
  {
   "cell_type": "markdown",
   "id": "abroad-peace",
   "metadata": {},
   "source": [
    "## DBS"
   ]
  },
  {
   "cell_type": "code",
   "execution_count": 33,
   "id": "endangered-still",
   "metadata": {},
   "outputs": [],
   "source": [
    "knn_dbs, train_dbs_err, test_dbs_err = get_prediction('BI-DBS')"
   ]
  },
  {
   "cell_type": "code",
   "execution_count": 34,
   "id": "living-hamilton",
   "metadata": {},
   "outputs": [
    {
     "name": "stdout",
     "output_type": "stream",
     "text": [
      "RMSE reg (train): 0.0\n",
      "RMSE reg (test): 0.4737521291936694\n"
     ]
    }
   ],
   "source": [
    "print('RMSE reg (train):', train_dbs_err)\n",
    "print('RMSE reg (test):', test_dbs_err)"
   ]
  },
  {
   "cell_type": "markdown",
   "id": "confirmed-pressure",
   "metadata": {},
   "source": [
    "## SAP"
   ]
  },
  {
   "cell_type": "code",
   "execution_count": 35,
   "id": "sized-attribute",
   "metadata": {},
   "outputs": [],
   "source": [
    "knn_sap, train_sap_err, test_sap_err = get_prediction('BI-SAP')"
   ]
  },
  {
   "cell_type": "code",
   "execution_count": 36,
   "id": "polish-disabled",
   "metadata": {},
   "outputs": [
    {
     "name": "stdout",
     "output_type": "stream",
     "text": [
      "RMSE reg (train): 0.012594818046496958\n",
      "RMSE reg (test): 0.6138425100011963\n"
     ]
    }
   ],
   "source": [
    "print('RMSE reg (train):', train_sap_err)\n",
    "print('RMSE reg (test):', test_sap_err)"
   ]
  },
  {
   "cell_type": "markdown",
   "id": "applied-colombia",
   "metadata": {},
   "source": [
    "## AAG"
   ]
  },
  {
   "cell_type": "code",
   "execution_count": 37,
   "id": "round-inflation",
   "metadata": {},
   "outputs": [],
   "source": [
    "knn_aag, train_aag_err, test_aag_err = get_prediction('BI-AAG')"
   ]
  },
  {
   "cell_type": "code",
   "execution_count": 38,
   "id": "stone-failing",
   "metadata": {},
   "outputs": [
    {
     "name": "stdout",
     "output_type": "stream",
     "text": [
      "RMSE reg (train): 0.0\n",
      "RMSE reg (test): 0.40110861346593946\n"
     ]
    }
   ],
   "source": [
    "print('RMSE reg (train):', train_aag_err)\n",
    "print('RMSE reg (test):', test_aag_err)"
   ]
  },
  {
   "cell_type": "markdown",
   "id": "drawn-virgin",
   "metadata": {},
   "source": [
    "## AG1"
   ]
  },
  {
   "cell_type": "code",
   "execution_count": 39,
   "id": "orange-alaska",
   "metadata": {},
   "outputs": [],
   "source": [
    "knn_ag1, train_ag1_err, test_ag1_err = get_prediction('BI-AG1')"
   ]
  },
  {
   "cell_type": "code",
   "execution_count": 40,
   "id": "supreme-salon",
   "metadata": {},
   "outputs": [
    {
     "name": "stdout",
     "output_type": "stream",
     "text": [
      "RMSE reg (train): 0.0\n",
      "RMSE reg (test): 0.3605832605496296\n"
     ]
    }
   ],
   "source": [
    "print('RMSE reg (train):', train_ag1_err)\n",
    "print('RMSE reg (test):', test_ag1_err)"
   ]
  },
  {
   "cell_type": "markdown",
   "id": "advised-headline",
   "metadata": {},
   "source": [
    "## ZDM"
   ]
  },
  {
   "cell_type": "code",
   "execution_count": 41,
   "id": "detailed-integral",
   "metadata": {},
   "outputs": [],
   "source": [
    "knn_zdm, train_zdm_err, test_zdm_err = get_prediction('BI-ZDM')"
   ]
  },
  {
   "cell_type": "code",
   "execution_count": 42,
   "id": "bacterial-samuel",
   "metadata": {},
   "outputs": [
    {
     "name": "stdout",
     "output_type": "stream",
     "text": [
      "RMSE reg (train): 0.0\n",
      "RMSE reg (test): 0.3265452550937246\n"
     ]
    }
   ],
   "source": [
    "print('RMSE reg (train):', train_zdm_err)\n",
    "print('RMSE reg (test):', test_zdm_err)"
   ]
  },
  {
   "cell_type": "markdown",
   "id": "central-passage",
   "metadata": {},
   "source": [
    "## OSY"
   ]
  },
  {
   "cell_type": "code",
   "execution_count": 43,
   "id": "quality-updating",
   "metadata": {},
   "outputs": [],
   "source": [
    "knn_osy, train_osy_err, test_osy_err = get_prediction('BI-OSY')"
   ]
  },
  {
   "cell_type": "code",
   "execution_count": 44,
   "id": "promising-klein",
   "metadata": {},
   "outputs": [
    {
     "name": "stdout",
     "output_type": "stream",
     "text": [
      "RMSE reg (train): 0.015425438808557384\n",
      "RMSE reg (test): 0.3817697103144756\n"
     ]
    }
   ],
   "source": [
    "print('RMSE reg (train):', train_osy_err)\n",
    "print('RMSE reg (test):', test_osy_err)"
   ]
  },
  {
   "cell_type": "markdown",
   "id": "ethical-mentor",
   "metadata": {},
   "source": [
    "## PSI"
   ]
  },
  {
   "cell_type": "code",
   "execution_count": 45,
   "id": "numerous-islam",
   "metadata": {},
   "outputs": [],
   "source": [
    "knn_psi, train_psi_err, test_psi_err = get_prediction('BI-PSI')"
   ]
  },
  {
   "cell_type": "code",
   "execution_count": 46,
   "id": "motivated-diesel",
   "metadata": {},
   "outputs": [
    {
     "name": "stdout",
     "output_type": "stream",
     "text": [
      "RMSE reg (train): 0.012594818046496958\n",
      "RMSE reg (test): 0.39769785102766964\n"
     ]
    }
   ],
   "source": [
    "print('RMSE reg (train):', train_psi_err)\n",
    "print('RMSE reg (test):', test_psi_err)"
   ]
  },
  {
   "cell_type": "markdown",
   "id": "aggregate-shirt",
   "metadata": {},
   "source": [
    "## BEZ"
   ]
  },
  {
   "cell_type": "code",
   "execution_count": 47,
   "id": "administrative-cambridge",
   "metadata": {},
   "outputs": [],
   "source": [
    "knn_bez, train_bez_err, test_bez_err = get_prediction('BI-BEZ')"
   ]
  },
  {
   "cell_type": "code",
   "execution_count": 48,
   "id": "novel-settlement",
   "metadata": {},
   "outputs": [
    {
     "name": "stdout",
     "output_type": "stream",
     "text": [
      "RMSE reg (train): 0.02056725174474318\n",
      "RMSE reg (test): 0.37090732375172614\n"
     ]
    }
   ],
   "source": [
    "print('RMSE reg (train):', train_bez_err)\n",
    "print('RMSE reg (test):', test_bez_err)"
   ]
  },
  {
   "cell_type": "markdown",
   "id": "mighty-stone",
   "metadata": {},
   "source": [
    "## PST"
   ]
  },
  {
   "cell_type": "code",
   "execution_count": 49,
   "id": "incorrect-habitat",
   "metadata": {},
   "outputs": [],
   "source": [
    "knn_pst, train_pst_err, test_pst_err = get_prediction('BI-PST')"
   ]
  },
  {
   "cell_type": "code",
   "execution_count": 50,
   "id": "united-carpet",
   "metadata": {},
   "outputs": [
    {
     "name": "stdout",
     "output_type": "stream",
     "text": [
      "RMSE reg (train): 0.019238902354089385\n",
      "RMSE reg (test): 0.3813304770673925\n"
     ]
    }
   ],
   "source": [
    "print('RMSE reg (train):', train_pst_err)\n",
    "print('RMSE reg (test):', test_pst_err)"
   ]
  },
  {
   "cell_type": "markdown",
   "id": "acquired-julian",
   "metadata": {},
   "source": [
    "## DPR"
   ]
  },
  {
   "cell_type": "code",
   "execution_count": 51,
   "id": "married-disco",
   "metadata": {},
   "outputs": [],
   "source": [
    "knn_dpr, train_dpr_err, test_dpr_err = get_prediction('BI-DPR')"
   ]
  },
  {
   "cell_type": "code",
   "execution_count": 52,
   "id": "divided-backing",
   "metadata": {},
   "outputs": [
    {
     "name": "stdout",
     "output_type": "stream",
     "text": [
      "RMSE reg (train): 0.039171738623146816\n",
      "RMSE reg (test): 0.4104532702782274\n"
     ]
    }
   ],
   "source": [
    "print('RMSE reg (train):', train_dpr_err)\n",
    "print('RMSE reg (test):', test_dpr_err)"
   ]
  },
  {
   "cell_type": "markdown",
   "id": "elementary-strip",
   "metadata": {},
   "source": [
    "## EMP"
   ]
  },
  {
   "cell_type": "code",
   "execution_count": 53,
   "id": "difficult-madison",
   "metadata": {},
   "outputs": [],
   "source": [
    "knn_emp, train_emp_err, test_emp_err = get_prediction('BI-EMP')"
   ]
  },
  {
   "cell_type": "code",
   "execution_count": 54,
   "id": "proved-majority",
   "metadata": {},
   "outputs": [
    {
     "name": "stdout",
     "output_type": "stream",
     "text": [
      "RMSE reg (train): 0.0\n",
      "RMSE reg (test): 0.5162648978553697\n"
     ]
    }
   ],
   "source": [
    "print('RMSE reg (train):', train_emp_err)\n",
    "print('RMSE reg (test):', test_emp_err)"
   ]
  },
  {
   "cell_type": "markdown",
   "id": "sophisticated-negotiation",
   "metadata": {},
   "source": [
    "## SI1.2"
   ]
  },
  {
   "cell_type": "code",
   "execution_count": 55,
   "id": "capital-scenario",
   "metadata": {},
   "outputs": [],
   "source": [
    "knn_si1, train_si1_err, test_si1_err = get_prediction('BI-SI1.2')"
   ]
  },
  {
   "cell_type": "code",
   "execution_count": 56,
   "id": "negative-honduras",
   "metadata": {},
   "outputs": [
    {
     "name": "stdout",
     "output_type": "stream",
     "text": [
      "RMSE reg (train): 0.03127642706603362\n",
      "RMSE reg (test): 0.43961997968341904\n"
     ]
    }
   ],
   "source": [
    "print('RMSE reg (train):', train_si1_err)\n",
    "print('RMSE reg (test):', test_si1_err)"
   ]
  },
  {
   "cell_type": "markdown",
   "id": "lesser-irrigation",
   "metadata": {},
   "source": [
    "# Výsledky"
   ]
  },
  {
   "cell_type": "code",
   "execution_count": 65,
   "id": "fitting-wesley",
   "metadata": {},
   "outputs": [
    {
     "name": "stderr",
     "output_type": "stream",
     "text": [
      "No handles with labels found to put in legend.\n"
     ]
    },
    {
     "data": {
      "image/png": "[encoded data removed]",
      "text/plain": [
       "<Figure size 1800x720 with 1 Axes>"
      ]
     },
     "metadata": {
      "needs_background": "light"
     },
     "output_type": "display_data"
    }
   ],
   "source": [
    "y = [\n",
    "    test_pa1_err,\n",
    "    test_pai_err,\n",
    "    test_cao_err,\n",
    "    test_ps1_err,\n",
    "    test_mlo_err,\n",
    "    test_zma_err,\n",
    "    test_pa2_err,\n",
    "    test_dbs_err,\n",
    "    test_sap_err,\n",
    "    test_lin_err,\n",
    "    test_ag1_err,\n",
    "    test_aag_err,\n",
    "    test_zdm_err,\n",
    "    test_osy_err,\n",
    "    test_psi_err,\n",
    "    test_bez_err,\n",
    "    test_pst_err,\n",
    "    test_dpr_err,\n",
    "    test_si1_err,\n",
    "    test_emp_err\n",
    "]\n",
    "y = np.round(y, decimals = 3)\n",
    "\n",
    "x = ['BI-PA1', 'BI-PAI', 'BI-CAO', 'BI-PS1', 'BI-MLO', 'BI-ZMA', 'BI-PA2',\n",
    "       'BI-DBS', 'BI-SAP', 'BI-LIN', 'BI-AG1', 'BI-AAG', 'BI-ZDM', 'BI-OSY',\n",
    "       'BI-PSI', 'BI-BEZ', 'BI-PST', 'BI-DPR', 'BI-SI1.2', 'BI-EMP']\n",
    "width = 0.5  # the width of the bars\n",
    "\n",
    "\n",
    "fig, ax = plt.subplots()\n",
    "rects = ax.bar(x , y, width)\n",
    "\n",
    "y_values = np.arange(0.0, 1.05, 0.05)\n",
    "\n",
    "ax.set_ylabel('RMSE', fontsize=18)\n",
    "ax.set_xlabel('Předměty', fontsize=18)\n",
    "#ax.set_title('Úspěšnost jednotlivých predikcí známek PP předmětů')\n",
    "ax.set_xticks(x)\n",
    "plt.yticks(y_values)\n",
    "ax.legend(loc='best')\n",
    "ax.grid(True)\n",
    "\n",
    "ax.set_xticklabels(x, fontsize=15)\n",
    "ax.bar_label(rects, padding=3, fontsize=18)\n",
    "\n",
    "plt.ylim(ymin=0)\n",
    "plt.ylim(ymax=1)\n",
    "\n",
    "fig.set_size_inches(25,10)\n",
    "plt.show()"
   ]
  },
  {
   "cell_type": "code",
   "execution_count": null,
   "id": "developed-posting",
   "metadata": {},
   "outputs": [],
   "source": []
  }
 ],
 "metadata": {
  "kernelspec": {
   "display_name": "Python 3",
   "language": "python",
   "name": "python3"
  },
  "language_info": {
   "codemirror_mode": {
    "name": "ipython",
    "version": 3
   },
   "file_extension": ".py",
   "mimetype": "text/x-python",
   "name": "python",
   "nbconvert_exporter": "python",
   "pygments_lexer": "ipython3",
   "version": "3.8.10"
  }
 },
 "nbformat": 4,
 "nbformat_minor": 5
}
