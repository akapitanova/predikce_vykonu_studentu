{
 "cells": [
  {
   "cell_type": "code",
   "execution_count": 1,
   "id": "pending-palmer",
   "metadata": {},
   "outputs": [],
   "source": [
    "import os\n",
    "import math\n",
    "import matplotlib.pyplot as plt\n",
    "import pandas as pd\n",
    "import numpy as np\n",
    "\n",
    "from numpy import save\n",
    "\n",
    "%matplotlib inline\n",
    "pd.set_option('display.max_columns', None)\n",
    "pd.set_option('display.max_rows', 500)"
   ]
  },
  {
   "cell_type": "markdown",
   "id": "identified-radar",
   "metadata": {},
   "source": [
    "# Předzpracování dat"
   ]
  },
  {
   "cell_type": "markdown",
   "id": "advanced-connectivity",
   "metadata": {},
   "source": [
    "## Nahrání dat"
   ]
  },
  {
   "cell_type": "markdown",
   "id": "fourth-accommodation",
   "metadata": {},
   "source": [
    "### Záznamy z kosu"
   ]
  },
  {
   "cell_type": "code",
   "execution_count": 2,
   "id": "oriental-science",
   "metadata": {},
   "outputs": [],
   "source": [
    "def readFilesFromData(dirName):\n",
    "    fileNames = []\n",
    "    pandasNames = []\n",
    "    with os.scandir(dirName) as entries:\n",
    "        for entry in entries:\n",
    "            if entry.name[0] != '.':\n",
    "                fileNames.append(entry.name)\n",
    "                name = entry.name[0:-4].split('_')\n",
    "                pandasNames.append(name[-2] + '_' + name[-1])\n",
    "    return fileNames, pandasNames"
   ]
  },
  {
   "cell_type": "code",
   "execution_count": 3,
   "id": "coated-frame",
   "metadata": {},
   "outputs": [],
   "source": [
    "#fileNames, pandasNames = readFilesFromData('data')"
   ]
  },
  {
   "cell_type": "code",
   "execution_count": 4,
   "id": "monthly-graphic",
   "metadata": {},
   "outputs": [],
   "source": [
    "path_file = os.sep.join(['data', 'dm_vysledky_studentu_v_predmetech_mv_prihlaska_dim.csv'])\n",
    "prihlaska_dim = pd.read_csv(path_file, sep=\";\") \n",
    "\n",
    "path_file = os.sep.join(['data', 'dm_vysledky_studentu_v_predmetech_mv_klasifikace_fact.csv'])\n",
    "klasifikace_fact = pd.read_csv(path_file, sep=\";\")\n",
    "\n",
    "path_file = os.sep.join(['data', 'dm_vysledky_studentu_v_predmetech_mv_predmet_dim.csv'])\n",
    "predmet_dim = pd.read_csv(path_file, sep=\";\")\n",
    "\n",
    "path_file = os.sep.join(['data', 'dm_vysledky_studentu_szzk_mv_zaverecne_prace_fact.csv'])\n",
    "prace_fact = pd.read_csv(path_file, sep=\";\")\n",
    "\n",
    "path_file = os.sep.join(['data', 'dm_vysledky_studentu_szzk_mv_szzk_dim.csv'])\n",
    "szzk_dim = pd.read_csv(path_file, sep=\";\")\n",
    "\n",
    "path_file = os.sep.join(['data', 'dm_vysledky_studentu_v_predmetech_mv_student_dim.csv'])\n",
    "student_dim = pd.read_csv(path_file, sep=\";\")\n",
    "\n",
    "path_file = os.sep.join(['data', 'dm_vysledky_studentu_v_predmetech_mv_studium_dim.csv'])\n",
    "studium_dim = pd.read_csv(path_file, sep=\";\")\n",
    "\n",
    "path_file = os.sep.join(['data', 'dm_vysledky_studentu_v_predmetech_mv_semestr_dim.csv'])\n",
    "semestr_dim = pd.read_csv(path_file, sep=\";\")\n",
    "\n",
    "path_file = os.sep.join(['data', 'dm_vysledky_studentu_szzk_mv_zaverecne_prace_dilci_hodnoceni_dim.csv'])\n",
    "hodnoceni_dim = pd.read_csv(path_file, sep=\";\")\n",
    "\n",
    "path_file = os.sep.join(['created_data', 'klasifikace_fact_changed.csv'])\n",
    "klasifikace_fact_changed = pd.read_csv(path_file, sep=\",\")"
   ]
  },
  {
   "cell_type": "markdown",
   "id": "protected-reasoning",
   "metadata": {},
   "source": [
    "### Předměty"
   ]
  },
  {
   "cell_type": "code",
   "execution_count": 5,
   "id": "mysterious-persian",
   "metadata": {},
   "outputs": [],
   "source": [
    "def readFilesFromPredmety(dirName):\n",
    "    fileNamesCourses = []\n",
    "    with os.scandir(dirName) as entries:\n",
    "        for entry in entries:\n",
    "            if entry.name[0] != '.':\n",
    "                fileNamesCourses.append(entry.name)\n",
    "    return fileNamesCourses"
   ]
  },
  {
   "cell_type": "code",
   "execution_count": 6,
   "id": "excellent-platform",
   "metadata": {},
   "outputs": [],
   "source": [
    "fileNamesCourses = readFilesFromPredmety('predmety')"
   ]
  },
  {
   "cell_type": "code",
   "execution_count": 7,
   "id": "increasing-bridges",
   "metadata": {},
   "outputs": [
    {
     "data": {
      "text/plain": [
       "['zi_1617_mag.csv',\n",
       " 'sp_1619_mag.csv',\n",
       " 'wsi_si_mag.csv',\n",
       " 'courses_baks.csv',\n",
       " 'courses_bak_spec.csv',\n",
       " 'zi_1517_bak.csv',\n",
       " 'zi_1819_mag.csv',\n",
       " 'wsi_wi_bak.csv',\n",
       " 'npvs_mag.csv',\n",
       " 'Zjištění oborových předmětů.ipynb',\n",
       " 'wsi_si_bak.csv',\n",
       " 'wsi_pg_bak.csv',\n",
       " 'bit_bak.csv',\n",
       " 'zi_1820_bak.csv',\n",
       " 'sp_1617_mag.csv',\n",
       " 'pss_mag.csv',\n",
       " 'courses_mag.csv',\n",
       " 'courses_mag_spec.csv',\n",
       " 'pb_mag.csv',\n",
       " 'ti_bak.csv',\n",
       " 'wsi_ism_mag.csv',\n",
       " 'wsi_wi_mag.csv',\n",
       " 'ism_bak.csv',\n",
       " 'pi_bak.csv']"
      ]
     },
     "execution_count": 7,
     "metadata": {},
     "output_type": "execute_result"
    }
   ],
   "source": [
    "fileNamesCourses"
   ]
  },
  {
   "cell_type": "code",
   "execution_count": 8,
   "id": "occupied-breast",
   "metadata": {},
   "outputs": [],
   "source": [
    "# bakalar vsechny povinne spolecne predmety\n",
    "path_file = os.sep.join(['predmety', 'courses_baks.csv'])\n",
    "courses_baks = pd.read_csv(path_file, sep=\",\")\n",
    "\n",
    "# magistr vsechny povinne spolecne predmety\n",
    "path_file = os.sep.join(['predmety', 'courses_mag.csv'])\n",
    "courses_mag = pd.read_csv(path_file, sep=\",\")\n",
    "\n",
    "# bakalar vsechny specializace\n",
    "path_file = os.sep.join(['predmety', 'courses_bak_spec.csv'])\n",
    "courses_bak_spec = pd.read_csv(path_file, sep=\",\")\n",
    "\n",
    "# magistr vsechny specializace\n",
    "path_file = os.sep.join(['predmety', 'courses_mag_spec.csv'])\n",
    "courses_mag_spec = pd.read_csv(path_file, sep=\",\")\n",
    "\n",
    "# bakalar\n",
    "path_file = os.sep.join(['predmety', 'zi_1517_bak.csv'])\n",
    "zi_1517_bak = pd.read_csv(path_file, sep=\",\")\n",
    "\n",
    "path_file = os.sep.join(['predmety', 'wsi_wi_bak.csv'])\n",
    "wsi_wi_bak = pd.read_csv(path_file, sep=\",\")\n",
    "\n",
    "path_file = os.sep.join(['predmety', 'wsi_si_bak.csv'])\n",
    "wsi_si_bak = pd.read_csv(path_file, sep=\",\")\n",
    "\n",
    "path_file = os.sep.join(['predmety', 'wsi_pg_bak.csv'])\n",
    "wsi_pg_bak = pd.read_csv(path_file, sep=\",\")\n",
    "\n",
    "path_file = os.sep.join(['predmety', 'bit_bak.csv'])\n",
    "bit_bak = pd.read_csv(path_file, sep=\",\")\n",
    "\n",
    "path_file = os.sep.join(['predmety', 'zi_1820_bak.csv'])\n",
    "zi_1820_bak = pd.read_csv(path_file, sep=\",\")\n",
    "\n",
    "path_file = os.sep.join(['predmety', 'ti_bak.csv'])\n",
    "ti_bak = pd.read_csv(path_file, sep=\",\")\n",
    "\n",
    "path_file = os.sep.join(['predmety', 'ism_bak.csv'])\n",
    "ism_bak = pd.read_csv(path_file, sep=\",\")\n",
    "\n",
    "path_file = os.sep.join(['predmety', 'pi_bak.csv'])\n",
    "pi_bak = pd.read_csv(path_file, sep=\",\")\n",
    "\n",
    "# magistr\n",
    "path_file = os.sep.join(['predmety', 'zi_1617_mag.csv'])\n",
    "zi_1617_mag = pd.read_csv(path_file, sep=\",\") \n",
    "\n",
    "path_file = os.sep.join(['predmety', 'sp_1619_mag.csv'])\n",
    "sp_1619_mag = pd.read_csv(path_file, sep=\",\")\n",
    "\n",
    "path_file = os.sep.join(['predmety', 'wsi_si_mag.csv'])\n",
    "wsi_si_mag = pd.read_csv(path_file, sep=\",\")\n",
    "\n",
    "path_file = os.sep.join(['predmety', 'zi_1819_mag.csv'])\n",
    "zi_1819_mag = pd.read_csv(path_file, sep=\",\")\n",
    "\n",
    "path_file = os.sep.join(['predmety', 'npvs_mag.csv'])\n",
    "npvs_mag = pd.read_csv(path_file, sep=\",\")\n",
    "\n",
    "path_file = os.sep.join(['predmety', 'sp_1617_mag.csv'])\n",
    "sp_1617_mag = pd.read_csv(path_file, sep=\",\")\n",
    "\n",
    "path_file = os.sep.join(['predmety', 'pss_mag.csv'])\n",
    "pss_mag = pd.read_csv(path_file, sep=\",\")\n",
    "\n",
    "path_file = os.sep.join(['predmety', 'pb_mag.csv'])\n",
    "pb_mag = pd.read_csv(path_file, sep=\",\")\n",
    "\n",
    "path_file = os.sep.join(['predmety', 'wsi_ism_mag.csv'])\n",
    "wsi_ism_mag = pd.read_csv(path_file, sep=\",\")\n",
    "\n",
    "path_file = os.sep.join(['predmety', 'wsi_wi_mag.csv'])\n",
    "wsi_wi_mag = pd.read_csv(path_file, sep=\",\")"
   ]
  },
  {
   "cell_type": "markdown",
   "id": "handled-continent",
   "metadata": {},
   "source": [
    "## Odstranění zbytečných sloupců"
   ]
  },
  {
   "cell_type": "code",
   "execution_count": 9,
   "id": "framed-turkey",
   "metadata": {},
   "outputs": [
    {
     "name": "stdout",
     "output_type": "stream",
     "text": [
      "<class 'pandas.core.frame.DataFrame'>\n",
      "RangeIndex: 16431 entries, 0 to 16430\n",
      "Data columns (total 12 columns):\n",
      " #   Column                    Non-Null Count  Dtype  \n",
      "---  ------                    --------------  -----  \n",
      " 0   studium_id                16431 non-null  int64  \n",
      " 1   peridno                   16431 non-null  int64  \n",
      " 2   pohlavi_kod               16163 non-null  object \n",
      " 3   datum_narozeni            16258 non-null  object \n",
      " 4   misto_narozeni            16044 non-null  object \n",
      " 5   statni_prislusnost_nazev  16246 non-null  object \n",
      " 6   stat_narozeni_nazev       13195 non-null  object \n",
      " 7   typ_adresy                16431 non-null  object \n",
      " 8   kod_obce                  12242 non-null  float64\n",
      " 9   kod_okresu                12506 non-null  float64\n",
      " 10  kod_zeme                  16431 non-null  int64  \n",
      " 11  psc                       12597 non-null  object \n",
      "dtypes: float64(2), int64(3), object(7)\n",
      "memory usage: 1.5+ MB\n"
     ]
    }
   ],
   "source": [
    "student_dim.info()"
   ]
  },
  {
   "cell_type": "code",
   "execution_count": 10,
   "id": "super-leadership",
   "metadata": {},
   "outputs": [],
   "source": [
    "prihlaska_dim_o = prihlaska_dim.copy(deep=True)\n",
    "prihlaska_dim = prihlaska_dim.loc[:, ['cislo_prihlasky', \n",
    "                                      'odkud_uchazec_prihlasen_kod', \n",
    "                                      'prihlaska_kod', 'studium_id', \n",
    "                                      'rozhodnuti_kod', 'obor_ss_kod', \n",
    "                                      'ss_izo', 'ss_typ', 'predchozi_studium', \n",
    "                                      'maturita_rok', 'hodnoceni_pz', \n",
    "                                      'trvaly_pobyt_v_cr', 'financovani', \n",
    "                                      'stupen_predchoziho_vzdelani', \n",
    "                                      'cislo_uchazece', 'scio_test', \n",
    "                                      'olympiady', 'postizeni_kod', \n",
    "                                      'datum_registrace', 'misto_kod', \n",
    "                                      'okres_kod', 'zeme_kod', 'psc']]\n",
    "\n",
    "prace_fact_o = prace_fact.copy(deep=True)\n",
    "prace_fact = prace_fact.drop(columns=['nazev_cs', 'nazev_en'])\n",
    "\n",
    "student_dim_o = student_dim.copy(deep=True)\n",
    "student_dim = student_dim.drop(columns=['typ_adresy'])\n",
    "\n",
    "studium_dim_o = studium_dim.copy(deep=True)\n",
    "studium_dim = studium_dim.drop(columns=['zamereni_id', \n",
    "                                        'nazev_fakulty', \n",
    "                                        'fakulta_id', \n",
    "                                        'platby_stav', \n",
    "                                        'pruchod',\n",
    "                                        'ukonceni_zpusob'])\n",
    "\n",
    "hodnoceni_dim_o = hodnoceni_dim.copy(deep=True)\n",
    "hodnoceni_dim = hodnoceni_dim.drop(columns=['predmet_cislo'])"
   ]
  },
  {
   "cell_type": "markdown",
   "id": "fixed-validity",
   "metadata": {},
   "source": [
    "## Selekce záznamů"
   ]
  },
  {
   "cell_type": "markdown",
   "id": "gothic-cable",
   "metadata": {},
   "source": [
    "### Pomocné proměnné"
   ]
  },
  {
   "cell_type": "code",
   "execution_count": 11,
   "id": "physical-celtic",
   "metadata": {},
   "outputs": [],
   "source": [
    "# kódy semestrů od roku 2015\n",
    "sem = ['B202', 'B201', 'B192', 'B191', 'B182', 'B181', 'B172', 'B171',\n",
    "       'B162', 'B161', 'B152', 'B151']"
   ]
  },
  {
   "cell_type": "code",
   "execution_count": 12,
   "id": "compliant-apache",
   "metadata": {},
   "outputs": [],
   "source": [
    "# id a kody relevantních předmětů (od roku 2015, jen povinné / povinné spec)\n",
    "courses_kod_bak = courses_bak_spec[\"kod_predmetu\"].unique()\n",
    "courses_bak = predmet_dim[(predmet_dim['kod_predmetu'].isin(courses_kod_bak))].loc[:, ['kod_predmetu', 'predmet_id']]\n",
    "courses_id_bak = courses_bak['predmet_id'].unique()\n",
    "\n",
    "courses_kod_mag = courses_mag_spec[\"kod_predmetu\"].unique()\n",
    "courses_mag = predmet_dim[(predmet_dim['kod_predmetu'].isin(courses_kod_mag))].loc[:, ['kod_predmetu', 'predmet_id']]\n",
    "courses_id_mag = courses_mag['predmet_id'].unique()\n",
    "\n"
   ]
  },
  {
   "cell_type": "markdown",
   "id": "violent-register",
   "metadata": {},
   "source": [
    "#### studium_dim"
   ]
  },
  {
   "cell_type": "code",
   "execution_count": 13,
   "id": "sized-hamilton",
   "metadata": {},
   "outputs": [],
   "source": [
    "# zmena datum_zahajeni pouze na rok a zmena ze stringu na int\n",
    "studium_dim['datum_zahajeni'] = studium_dim['datum_zahajeni'].apply(lambda x: x.split('-')[0])\n",
    "\n",
    "studium_dim['datum_ukonceni'] = studium_dim['datum_ukonceni'].fillna('0')\n",
    "studium_dim['datum_ukonceni'] = studium_dim['datum_ukonceni'].apply(lambda x: x.split('-')[0])\n",
    "\n",
    "studium_dim['rok_maturity'] = studium_dim['rok_maturity'].fillna('0')\n",
    "studium_dim['rok_maturity'] = studium_dim['rok_maturity'].apply(lambda x: x.split('-')[0])\n",
    "\n",
    "studium_dim['datum_zahajeni'] = pd.to_numeric(studium_dim['datum_zahajeni'])\n",
    "studium_dim['datum_ukonceni'] = pd.to_numeric(studium_dim['datum_ukonceni'])\n",
    "studium_dim['rok_maturity'] = pd.to_numeric(studium_dim['rok_maturity'])"
   ]
  },
  {
   "cell_type": "code",
   "execution_count": 14,
   "id": "social-making",
   "metadata": {},
   "outputs": [],
   "source": [
    "# jen studenti, kteri nastoupili od roku 2015, studuji v cj a jedna se o prezencni formu studia\n",
    "studium_dim_bak = studium_dim[(studium_dim['datum_zahajeni'] >= 2015) \n",
    "                             & (studium_dim['jazyk_vyuky'] == 'CS')\n",
    "                             & (studium_dim['forma_studia'] == 'P')\n",
    "                             & (studium_dim['typ_programu'] == 'B')]\n",
    "studium_dim_mag = studium_dim[(studium_dim['datum_zahajeni'] >= 2015)\n",
    "                             & (studium_dim['jazyk_vyuky'] == 'CS')\n",
    "                             & (studium_dim['forma_studia'] == 'P')\n",
    "                             & (studium_dim['typ_programu'] == 'N')]\n",
    "\n",
    "# vsichni studenti, kteri studuji v cj a jedna se o prezencni formu studia\n",
    "studium_dim_bak_09 = studium_dim[(studium_dim['jazyk_vyuky'] == 'CS')\n",
    "                             & (studium_dim['forma_studia'] == 'P')\n",
    "                             & (studium_dim['typ_programu'] == 'B')]\n",
    "studium_dim_mag_09 = studium_dim[(studium_dim['jazyk_vyuky'] == 'CS')\n",
    "                             & (studium_dim['forma_studia'] == 'P')\n",
    "                             & (studium_dim['typ_programu'] == 'N')]"
   ]
  },
  {
   "cell_type": "code",
   "execution_count": 15,
   "id": "innocent-cedar",
   "metadata": {},
   "outputs": [],
   "source": [
    "# id techto studentu \n",
    "student_id_bak = studium_dim_bak['studium_id'].unique()\n",
    "student_id_mag = studium_dim_mag['studium_id'].unique()\n",
    "\n",
    "student_id_bak_09 = studium_dim_bak_09['studium_id'].unique()\n",
    "student_id_mag_09 = studium_dim_mag_09['studium_id'].unique()"
   ]
  },
  {
   "cell_type": "code",
   "execution_count": 16,
   "id": "neutral-nickname",
   "metadata": {},
   "outputs": [
    {
     "data": {
      "text/html": [
       "<div>\n",
       "<style scoped>\n",
       "    .dataframe tbody tr th:only-of-type {\n",
       "        vertical-align: middle;\n",
       "    }\n",
       "\n",
       "    .dataframe tbody tr th {\n",
       "        vertical-align: top;\n",
       "    }\n",
       "\n",
       "    .dataframe thead th {\n",
       "        text-align: right;\n",
       "    }\n",
       "</style>\n",
       "<table border=\"1\" class=\"dataframe\">\n",
       "  <thead>\n",
       "    <tr style=\"text-align: right;\">\n",
       "      <th></th>\n",
       "      <th>studium_id</th>\n",
       "      <th>typ_programu</th>\n",
       "      <th>forma_studia</th>\n",
       "      <th>datum_zahajeni</th>\n",
       "      <th>datum_ukonceni</th>\n",
       "      <th>rocnik</th>\n",
       "      <th>studijni_stav</th>\n",
       "      <th>studuje</th>\n",
       "      <th>jazyk_vyuky</th>\n",
       "      <th>rok_maturity</th>\n",
       "      <th>odkud_skola_kod</th>\n",
       "    </tr>\n",
       "  </thead>\n",
       "  <tbody>\n",
       "  </tbody>\n",
       "</table>\n",
       "</div>"
      ],
      "text/plain": [
       "Empty DataFrame\n",
       "Columns: [studium_id, typ_programu, forma_studia, datum_zahajeni, datum_ukonceni, rocnik, studijni_stav, studuje, jazyk_vyuky, rok_maturity, odkud_skola_kod]\n",
       "Index: []"
      ]
     },
     "execution_count": 16,
     "metadata": {},
     "output_type": "execute_result"
    }
   ],
   "source": [
    "# kontrola\n",
    "ids = studium_dim['studium_id']\n",
    "studium_dim[ids.isin(ids[ids.duplicated()])]"
   ]
  },
  {
   "cell_type": "markdown",
   "id": "recreational-ensemble",
   "metadata": {},
   "source": [
    "#### klasifikace_fact"
   ]
  },
  {
   "cell_type": "code",
   "execution_count": 17,
   "id": "enhanced-creek",
   "metadata": {},
   "outputs": [
    {
     "data": {
      "text/html": [
       "<div>\n",
       "<style scoped>\n",
       "    .dataframe tbody tr th:only-of-type {\n",
       "        vertical-align: middle;\n",
       "    }\n",
       "\n",
       "    .dataframe tbody tr th {\n",
       "        vertical-align: top;\n",
       "    }\n",
       "\n",
       "    .dataframe thead th {\n",
       "        text-align: right;\n",
       "    }\n",
       "</style>\n",
       "<table border=\"1\" class=\"dataframe\">\n",
       "  <thead>\n",
       "    <tr style=\"text-align: right;\">\n",
       "      <th></th>\n",
       "      <th>semestr_id</th>\n",
       "      <th>predmet_id</th>\n",
       "      <th>studium_id</th>\n",
       "      <th>zapocteno</th>\n",
       "      <th>zakonceno</th>\n",
       "      <th>znamka</th>\n",
       "      <th>poradi_zapisu</th>\n",
       "    </tr>\n",
       "  </thead>\n",
       "  <tbody>\n",
       "    <tr>\n",
       "      <th>0</th>\n",
       "      <td>B202</td>\n",
       "      <td>4417206</td>\n",
       "      <td>17583006</td>\n",
       "      <td>NaN</td>\n",
       "      <td>1.0</td>\n",
       "      <td>NaN</td>\n",
       "      <td>1</td>\n",
       "    </tr>\n",
       "    <tr>\n",
       "      <th>1</th>\n",
       "      <td>B202</td>\n",
       "      <td>4417206</td>\n",
       "      <td>16990806</td>\n",
       "      <td>NaN</td>\n",
       "      <td>1.0</td>\n",
       "      <td>NaN</td>\n",
       "      <td>1</td>\n",
       "    </tr>\n",
       "    <tr>\n",
       "      <th>2</th>\n",
       "      <td>B202</td>\n",
       "      <td>4417206</td>\n",
       "      <td>17201506</td>\n",
       "      <td>NaN</td>\n",
       "      <td>1.0</td>\n",
       "      <td>NaN</td>\n",
       "      <td>1</td>\n",
       "    </tr>\n",
       "    <tr>\n",
       "      <th>3</th>\n",
       "      <td>B202</td>\n",
       "      <td>4417206</td>\n",
       "      <td>16964906</td>\n",
       "      <td>NaN</td>\n",
       "      <td>1.0</td>\n",
       "      <td>NaN</td>\n",
       "      <td>1</td>\n",
       "    </tr>\n",
       "    <tr>\n",
       "      <th>4</th>\n",
       "      <td>B202</td>\n",
       "      <td>4417206</td>\n",
       "      <td>16964806</td>\n",
       "      <td>NaN</td>\n",
       "      <td>1.0</td>\n",
       "      <td>NaN</td>\n",
       "      <td>1</td>\n",
       "    </tr>\n",
       "    <tr>\n",
       "      <th>...</th>\n",
       "      <td>...</td>\n",
       "      <td>...</td>\n",
       "      <td>...</td>\n",
       "      <td>...</td>\n",
       "      <td>...</td>\n",
       "      <td>...</td>\n",
       "      <td>...</td>\n",
       "    </tr>\n",
       "    <tr>\n",
       "      <th>280627</th>\n",
       "      <td>B211</td>\n",
       "      <td>6813906</td>\n",
       "      <td>17891606</td>\n",
       "      <td>NaN</td>\n",
       "      <td>NaN</td>\n",
       "      <td>NaN</td>\n",
       "      <td>1</td>\n",
       "    </tr>\n",
       "    <tr>\n",
       "      <th>280628</th>\n",
       "      <td>B211</td>\n",
       "      <td>6813906</td>\n",
       "      <td>19158306</td>\n",
       "      <td>NaN</td>\n",
       "      <td>NaN</td>\n",
       "      <td>NaN</td>\n",
       "      <td>1</td>\n",
       "    </tr>\n",
       "    <tr>\n",
       "      <th>280629</th>\n",
       "      <td>B211</td>\n",
       "      <td>6813906</td>\n",
       "      <td>19157106</td>\n",
       "      <td>NaN</td>\n",
       "      <td>NaN</td>\n",
       "      <td>NaN</td>\n",
       "      <td>1</td>\n",
       "    </tr>\n",
       "    <tr>\n",
       "      <th>280630</th>\n",
       "      <td>B211</td>\n",
       "      <td>6813906</td>\n",
       "      <td>17892406</td>\n",
       "      <td>NaN</td>\n",
       "      <td>NaN</td>\n",
       "      <td>NaN</td>\n",
       "      <td>1</td>\n",
       "    </tr>\n",
       "    <tr>\n",
       "      <th>280631</th>\n",
       "      <td>B211</td>\n",
       "      <td>6813906</td>\n",
       "      <td>18529506</td>\n",
       "      <td>NaN</td>\n",
       "      <td>NaN</td>\n",
       "      <td>NaN</td>\n",
       "      <td>1</td>\n",
       "    </tr>\n",
       "  </tbody>\n",
       "</table>\n",
       "<p>280632 rows × 7 columns</p>\n",
       "</div>"
      ],
      "text/plain": [
       "       semestr_id  predmet_id  studium_id zapocteno  zakonceno  znamka  \\\n",
       "0            B202     4417206    17583006       NaN        1.0     NaN   \n",
       "1            B202     4417206    16990806       NaN        1.0     NaN   \n",
       "2            B202     4417206    17201506       NaN        1.0     NaN   \n",
       "3            B202     4417206    16964906       NaN        1.0     NaN   \n",
       "4            B202     4417206    16964806       NaN        1.0     NaN   \n",
       "...           ...         ...         ...       ...        ...     ...   \n",
       "280627       B211     6813906    17891606       NaN        NaN     NaN   \n",
       "280628       B211     6813906    19158306       NaN        NaN     NaN   \n",
       "280629       B211     6813906    19157106       NaN        NaN     NaN   \n",
       "280630       B211     6813906    17892406       NaN        NaN     NaN   \n",
       "280631       B211     6813906    18529506       NaN        NaN     NaN   \n",
       "\n",
       "        poradi_zapisu  \n",
       "0                   1  \n",
       "1                   1  \n",
       "2                   1  \n",
       "3                   1  \n",
       "4                   1  \n",
       "...               ...  \n",
       "280627              1  \n",
       "280628              1  \n",
       "280629              1  \n",
       "280630              1  \n",
       "280631              1  \n",
       "\n",
       "[280632 rows x 7 columns]"
      ]
     },
     "execution_count": 17,
     "metadata": {},
     "output_type": "execute_result"
    }
   ],
   "source": [
    "klasifikace_fact"
   ]
  },
  {
   "cell_type": "code",
   "execution_count": 18,
   "id": "encouraging-hunter",
   "metadata": {},
   "outputs": [],
   "source": [
    "# pokud je zapocteno, zakonceno i znamka nan, zmena znamky na 4\n",
    "#for index, row in klasifikace_fact.iterrows():\n",
    "#    if math.isnan(klasifikace_fact.loc[index, 'znamka']) and klasifikace_fact.loc[index, 'zapocteno'] != 'Z' and math.isnan(klasifikace_fact.loc[index, 'zakonceno']):\n",
    "#        klasifikace_fact.loc[index, 'znamka'] = 4"
   ]
  },
  {
   "cell_type": "code",
   "execution_count": 19,
   "id": "informative-realtor",
   "metadata": {},
   "outputs": [],
   "source": [
    "#path_file = os.sep.join(['created_data', 'klasifikace_fact_changed.csv'])\n",
    "#klasifikace_fact.to_csv(path_file, index=False)"
   ]
  },
  {
   "cell_type": "code",
   "execution_count": 21,
   "id": "tight-bronze",
   "metadata": {},
   "outputs": [
    {
     "data": {
      "text/plain": [
       "139201"
      ]
     },
     "execution_count": 21,
     "metadata": {},
     "output_type": "execute_result"
    }
   ],
   "source": [
    "len(klasifikace_fact[(klasifikace_fact['zapocteno']=='Z')\n",
    "                & (klasifikace_fact['zakonceno'].notna())\n",
    "                & (klasifikace_fact['znamka'].notna())])"
   ]
  },
  {
   "cell_type": "code",
   "execution_count": 22,
   "id": "quantitative-hanging",
   "metadata": {},
   "outputs": [],
   "source": [
    "klasifikace_fact_o = klasifikace_fact.copy(deep=True)\n",
    "\n",
    "# vsichni studenti bez bakalarky a diplomky\n",
    "klasifikace_fact_bak_09 = klasifikace_fact_changed[(klasifikace_fact_changed['predmet_id'] != 1142806)\n",
    "                                        & (klasifikace_fact_changed['predmet_id'] != 3458906)]\n",
    "\n",
    "klasifikace_fact_mag_09 = klasifikace_fact_changed[(klasifikace_fact_changed['predmet_id'] != 1495306)\n",
    "                                        & (klasifikace_fact_changed['predmet_id'] != 1499406)]\n",
    "\n",
    "# jen klasifikace povinnych spolecnych bak. predmetů, \n",
    "# ve vybraných semestrech\n",
    "# bez bakalarky/diplomky a bak./mag. projektu\n",
    "klasifikace_fact_bak = klasifikace_fact_changed[(klasifikace_fact_changed['predmet_id'].isin(courses_id_bak)) \n",
    "                                        & (klasifikace_fact_changed['predmet_id'] != 1142806)\n",
    "                                        & (klasifikace_fact_changed['predmet_id'] != 3458906)\n",
    "                                        & (klasifikace_fact_changed['studium_id'].isin(student_id_bak))]\n",
    "klasifikace_fact_mag = klasifikace_fact_changed[(klasifikace_fact_changed['predmet_id'].isin(courses_id_mag))\n",
    "                                        & (klasifikace_fact_changed['predmet_id'] != 1495306)\n",
    "                                        & (klasifikace_fact_changed['predmet_id'] != 1499406)\n",
    "                                        & (klasifikace_fact_changed['studium_id'].isin(student_id_mag))]\n",
    "\n",
    "# bez aktualniho semestru\n",
    "klasifikace_fact_bak_past = klasifikace_fact_bak[(klasifikace_fact_bak['semestr_id'] != 'B211')]\n",
    "klasifikace_fact_mag_past = klasifikace_fact_mag[(klasifikace_fact_mag['semestr_id'] != 'B211')]\n",
    "\n",
    "# jen aktualni semestr\n",
    "klasifikace_fact_bak_act = klasifikace_fact_bak[(klasifikace_fact_bak['semestr_id'] == 'B211')]\n",
    "klasifikace_fact_mag_act = klasifikace_fact_mag[(klasifikace_fact_mag['semestr_id'] == 'B211')]\n",
    "\n",
    "#pomocna promenna array vsech pp bak pred\n",
    "courses_baks = courses_baks[(courses_baks['kod_predmetu'] != 'BI-BAP')\n",
    "                            & (courses_baks['kod_predmetu'] != 'BI-BPR')]\n",
    "courses = courses_baks['kod_predmetu'].unique()\n",
    "\n",
    "#slovnik predmet_id: kod_predmetu\n",
    "courses_bak_tran_id_kod = dict()\n",
    "for index, row in predmet_dim.iterrows():\n",
    "    courses_bak_tran_id_kod[row['predmet_id']] = row['kod_predmetu']\n",
    "    \n",
    "#slovnik kod_predmetu: predmet_id\n",
    "courses_bak_tran_kod_id = dict()\n",
    "for index, row in predmet_dim.iterrows():\n",
    "    courses_bak_tran_kod_id[row['kod_predmetu']] = row['predmet_id']\n",
    "    \n",
    "courses_ids = []\n",
    "for course in courses:\n",
    "    courses_ids.append(courses_bak_tran_kod_id[course])\n",
    "    \n",
    "#jen povinne spolecne predmety serazene\n",
    "klasifikace_fact_bak_pp = klasifikace_fact_bak_past[\n",
    "    (klasifikace_fact_bak_past['predmet_id'].isin(courses_ids))].sort_values(by=['poradi_zapisu']) \n",
    "\n",
    "#vsichni studenti bakalare od roku 2009, jen vybrane predmety bez akt. semestru\n",
    "#aag, lin, zdm, zma\n",
    "#serazeno\n",
    "imp_courses_ids = np.array([1122106, 1124106, 1122206, 1121206])\n",
    "klasifikace_fact_bak_imp_09 = klasifikace_fact[(klasifikace_fact['predmet_id'].isin(imp_courses_ids)) \n",
    "                                        & (klasifikace_fact_bak['semestr_id'] != 'B211')\n",
    "                                        & (klasifikace_fact['studium_id'].isin(student_id_bak))].sort_values(by=['poradi_zapisu'])"
   ]
  },
  {
   "cell_type": "code",
   "execution_count": 23,
   "id": "junior-violin",
   "metadata": {},
   "outputs": [],
   "source": [
    "predmety = klasifikace_fact_bak['predmet_id'].unique()\n",
    "predmety_nazev = np.array([])\n",
    "for predmet in predmety:\n",
    "    predmety_nazev = np.append(predmety_nazev, courses_bak_tran_id_kod[predmet])"
   ]
  },
  {
   "cell_type": "code",
   "execution_count": 24,
   "id": "brilliant-rabbit",
   "metadata": {},
   "outputs": [
    {
     "data": {
      "text/plain": [
       "array(['BI-DBS', 'BI-DPR', 'BI-SP1', 'BI-PJV', 'BI-PAI', 'BI-TJV',\n",
       "       'BI-TIS', 'BI-SI1.2', 'BI-PRP', 'BI-TWA.1', 'BI-PYT', 'BI-SI2.3',\n",
       "       'BI-SP2.1', 'BI-PGA', 'BI-BIG', 'BI-MGA', 'BI-KOM', 'BI-VWM',\n",
       "       'BI-EMP', 'BI-PGR.1', 'BI-XML', 'BI-VZD', 'BI-ZUM', 'BI-ZNS',\n",
       "       'BI-PST', 'BI-ZMA', 'BI-ZDM', 'BI-MLO', 'BI-LIN', 'BI-AAG',\n",
       "       'BI-AG1', 'BI-PA2', 'BI-PJP', 'BI-PPA', 'BI-AG2', 'BI-PA1',\n",
       "       'BI-OOP', 'BI-CAO', 'BI-SRC', 'BI-PNO', 'BI-SAP', 'BI-TUR',\n",
       "       'BI-ZRS', 'BI-JPO', 'BI-VES', 'BI-PS1', 'BI-ADW.1', 'BI-ADU.1',\n",
       "       'BI-APS.1', 'BI-OSY', 'BI-PSI', 'BI-SSB', 'BI-BEZ', 'BI-BEK',\n",
       "       'BI-HWB'], dtype='<U32')"
      ]
     },
     "execution_count": 24,
     "metadata": {},
     "output_type": "execute_result"
    }
   ],
   "source": [
    "predmety_nazev"
   ]
  },
  {
   "cell_type": "markdown",
   "id": "viral-river",
   "metadata": {},
   "source": [
    "#### matice klasifikace"
   ]
  },
  {
   "cell_type": "code",
   "execution_count": 25,
   "id": "eastern-notion",
   "metadata": {},
   "outputs": [],
   "source": [
    "#matice klasikace\n",
    "class_matrix_bak = pd.DataFrame(index=student_id_bak, columns=courses)  \n",
    "\n",
    "for index, row in klasifikace_fact_bak_pp.iterrows():\n",
    "    if not math.isnan(row['znamka']):\n",
    "        class_matrix_bak[courses_bak_tran_id_kod[row['predmet_id']]][row['studium_id']] = row['znamka']"
   ]
  },
  {
   "cell_type": "code",
   "execution_count": 26,
   "id": "challenging-palestinian",
   "metadata": {},
   "outputs": [],
   "source": [
    "path_file = os.sep.join(['created_data', 'class_matrix_bak.csv'])\n",
    "class_matrix_bak.to_csv(path_file, index=True, index_label='studium_id')"
   ]
  },
  {
   "cell_type": "code",
   "execution_count": 27,
   "id": "honey-stanley",
   "metadata": {},
   "outputs": [
    {
     "data": {
      "text/html": [
       "<div>\n",
       "<style scoped>\n",
       "    .dataframe tbody tr th:only-of-type {\n",
       "        vertical-align: middle;\n",
       "    }\n",
       "\n",
       "    .dataframe tbody tr th {\n",
       "        vertical-align: top;\n",
       "    }\n",
       "\n",
       "    .dataframe thead th {\n",
       "        text-align: right;\n",
       "    }\n",
       "</style>\n",
       "<table border=\"1\" class=\"dataframe\">\n",
       "  <thead>\n",
       "    <tr style=\"text-align: right;\">\n",
       "      <th></th>\n",
       "      <th>BI-PA1</th>\n",
       "      <th>BI-PAI</th>\n",
       "      <th>BI-CAO</th>\n",
       "      <th>BI-PS1</th>\n",
       "      <th>BI-MLO</th>\n",
       "      <th>BI-ZMA</th>\n",
       "      <th>BI-PA2</th>\n",
       "      <th>BI-DBS</th>\n",
       "      <th>BI-SAP</th>\n",
       "      <th>BI-LIN</th>\n",
       "      <th>BI-AG1</th>\n",
       "      <th>BI-AAG</th>\n",
       "      <th>BI-ZDM</th>\n",
       "      <th>BI-OSY</th>\n",
       "      <th>BI-PSI</th>\n",
       "      <th>BI-BEZ</th>\n",
       "      <th>BI-PST</th>\n",
       "      <th>BI-DPR</th>\n",
       "      <th>BI-SI1.2</th>\n",
       "      <th>BI-EMP</th>\n",
       "    </tr>\n",
       "  </thead>\n",
       "  <tbody>\n",
       "    <tr>\n",
       "      <th>15569706</th>\n",
       "      <td>3</td>\n",
       "      <td>1.5</td>\n",
       "      <td>1.5</td>\n",
       "      <td>2</td>\n",
       "      <td>1.5</td>\n",
       "      <td>1.5</td>\n",
       "      <td>2</td>\n",
       "      <td>1</td>\n",
       "      <td>1</td>\n",
       "      <td>2</td>\n",
       "      <td>2</td>\n",
       "      <td>1.5</td>\n",
       "      <td>2</td>\n",
       "      <td>1</td>\n",
       "      <td>2</td>\n",
       "      <td>1.5</td>\n",
       "      <td>4</td>\n",
       "      <td>4</td>\n",
       "      <td>1.5</td>\n",
       "      <td>4</td>\n",
       "    </tr>\n",
       "    <tr>\n",
       "      <th>14249306</th>\n",
       "      <td>2.5</td>\n",
       "      <td>2.5</td>\n",
       "      <td>2</td>\n",
       "      <td>1</td>\n",
       "      <td>1.5</td>\n",
       "      <td>2.5</td>\n",
       "      <td>2.5</td>\n",
       "      <td>2</td>\n",
       "      <td>2.5</td>\n",
       "      <td>3</td>\n",
       "      <td>2.5</td>\n",
       "      <td>2.5</td>\n",
       "      <td>2.5</td>\n",
       "      <td>2.5</td>\n",
       "      <td>2</td>\n",
       "      <td>2.5</td>\n",
       "      <td>2.5</td>\n",
       "      <td>4</td>\n",
       "      <td>2.5</td>\n",
       "      <td>1.5</td>\n",
       "    </tr>\n",
       "    <tr>\n",
       "      <th>14247306</th>\n",
       "      <td>1</td>\n",
       "      <td>2</td>\n",
       "      <td>1</td>\n",
       "      <td>1</td>\n",
       "      <td>1.5</td>\n",
       "      <td>2</td>\n",
       "      <td>2</td>\n",
       "      <td>1</td>\n",
       "      <td>1</td>\n",
       "      <td>3</td>\n",
       "      <td>2</td>\n",
       "      <td>2</td>\n",
       "      <td>2.5</td>\n",
       "      <td>3</td>\n",
       "      <td>2.5</td>\n",
       "      <td>3</td>\n",
       "      <td>2.5</td>\n",
       "      <td>4</td>\n",
       "      <td>2.5</td>\n",
       "      <td>1.5</td>\n",
       "    </tr>\n",
       "    <tr>\n",
       "      <th>14291006</th>\n",
       "      <td>3</td>\n",
       "      <td>2</td>\n",
       "      <td>1</td>\n",
       "      <td>2</td>\n",
       "      <td>2.5</td>\n",
       "      <td>2</td>\n",
       "      <td>3</td>\n",
       "      <td>1.5</td>\n",
       "      <td>2.5</td>\n",
       "      <td>2.5</td>\n",
       "      <td>2.5</td>\n",
       "      <td>2</td>\n",
       "      <td>3</td>\n",
       "      <td>3</td>\n",
       "      <td>2.5</td>\n",
       "      <td>2.5</td>\n",
       "      <td>3</td>\n",
       "      <td>2.5</td>\n",
       "      <td>3</td>\n",
       "      <td>3</td>\n",
       "    </tr>\n",
       "    <tr>\n",
       "      <th>14318106</th>\n",
       "      <td>2.5</td>\n",
       "      <td>2.5</td>\n",
       "      <td>1</td>\n",
       "      <td>3</td>\n",
       "      <td>2</td>\n",
       "      <td>3</td>\n",
       "      <td>2</td>\n",
       "      <td>3</td>\n",
       "      <td>3</td>\n",
       "      <td>2</td>\n",
       "      <td>2.5</td>\n",
       "      <td>2.5</td>\n",
       "      <td>2.5</td>\n",
       "      <td>1</td>\n",
       "      <td>2.5</td>\n",
       "      <td>1</td>\n",
       "      <td>3</td>\n",
       "      <td>2.5</td>\n",
       "      <td>2.5</td>\n",
       "      <td>2</td>\n",
       "    </tr>\n",
       "    <tr>\n",
       "      <th>...</th>\n",
       "      <td>...</td>\n",
       "      <td>...</td>\n",
       "      <td>...</td>\n",
       "      <td>...</td>\n",
       "      <td>...</td>\n",
       "      <td>...</td>\n",
       "      <td>...</td>\n",
       "      <td>...</td>\n",
       "      <td>...</td>\n",
       "      <td>...</td>\n",
       "      <td>...</td>\n",
       "      <td>...</td>\n",
       "      <td>...</td>\n",
       "      <td>...</td>\n",
       "      <td>...</td>\n",
       "      <td>...</td>\n",
       "      <td>...</td>\n",
       "      <td>...</td>\n",
       "      <td>...</td>\n",
       "      <td>...</td>\n",
       "    </tr>\n",
       "    <tr>\n",
       "      <th>12031406</th>\n",
       "      <td>2.5</td>\n",
       "      <td>2</td>\n",
       "      <td>1.5</td>\n",
       "      <td>3</td>\n",
       "      <td>2</td>\n",
       "      <td>2.5</td>\n",
       "      <td>3</td>\n",
       "      <td>1.5</td>\n",
       "      <td>1</td>\n",
       "      <td>2</td>\n",
       "      <td>1.5</td>\n",
       "      <td>2.5</td>\n",
       "      <td>1.5</td>\n",
       "      <td>2</td>\n",
       "      <td>1.5</td>\n",
       "      <td>1.5</td>\n",
       "      <td>2</td>\n",
       "      <td>1.5</td>\n",
       "      <td>1.5</td>\n",
       "      <td>1</td>\n",
       "    </tr>\n",
       "    <tr>\n",
       "      <th>12031006</th>\n",
       "      <td>3</td>\n",
       "      <td>2</td>\n",
       "      <td>1.5</td>\n",
       "      <td>3</td>\n",
       "      <td>2.5</td>\n",
       "      <td>3</td>\n",
       "      <td>3</td>\n",
       "      <td>2.5</td>\n",
       "      <td>2</td>\n",
       "      <td>3</td>\n",
       "      <td>3</td>\n",
       "      <td>3</td>\n",
       "      <td>2.5</td>\n",
       "      <td>3</td>\n",
       "      <td>2.5</td>\n",
       "      <td>2.5</td>\n",
       "      <td>2.5</td>\n",
       "      <td>1.5</td>\n",
       "      <td>3</td>\n",
       "      <td>1</td>\n",
       "    </tr>\n",
       "    <tr>\n",
       "      <th>12971906</th>\n",
       "      <td>2</td>\n",
       "      <td>2.5</td>\n",
       "      <td>1</td>\n",
       "      <td>2.5</td>\n",
       "      <td>2.5</td>\n",
       "      <td>2.5</td>\n",
       "      <td>2</td>\n",
       "      <td>2.5</td>\n",
       "      <td>1.5</td>\n",
       "      <td>3</td>\n",
       "      <td>2.5</td>\n",
       "      <td>3</td>\n",
       "      <td>3</td>\n",
       "      <td>2.5</td>\n",
       "      <td>2.5</td>\n",
       "      <td>3</td>\n",
       "      <td>2</td>\n",
       "      <td>1.5</td>\n",
       "      <td>2.5</td>\n",
       "      <td>1.5</td>\n",
       "    </tr>\n",
       "    <tr>\n",
       "      <th>12966906</th>\n",
       "      <td>3</td>\n",
       "      <td>2</td>\n",
       "      <td>1</td>\n",
       "      <td>3</td>\n",
       "      <td>2</td>\n",
       "      <td>1.5</td>\n",
       "      <td>2.5</td>\n",
       "      <td>2</td>\n",
       "      <td>1</td>\n",
       "      <td>3</td>\n",
       "      <td>2.5</td>\n",
       "      <td>2</td>\n",
       "      <td>2</td>\n",
       "      <td>2.5</td>\n",
       "      <td>2</td>\n",
       "      <td>2</td>\n",
       "      <td>1.5</td>\n",
       "      <td>1.5</td>\n",
       "      <td>2</td>\n",
       "      <td>1.5</td>\n",
       "    </tr>\n",
       "    <tr>\n",
       "      <th>12978706</th>\n",
       "      <td>2</td>\n",
       "      <td>2.5</td>\n",
       "      <td>1</td>\n",
       "      <td>2.5</td>\n",
       "      <td>2</td>\n",
       "      <td>2</td>\n",
       "      <td>2</td>\n",
       "      <td>2</td>\n",
       "      <td>1.5</td>\n",
       "      <td>3</td>\n",
       "      <td>1.5</td>\n",
       "      <td>2</td>\n",
       "      <td>2.5</td>\n",
       "      <td>3</td>\n",
       "      <td>2</td>\n",
       "      <td>1.5</td>\n",
       "      <td>2</td>\n",
       "      <td>1</td>\n",
       "      <td>1.5</td>\n",
       "      <td>1.5</td>\n",
       "    </tr>\n",
       "  </tbody>\n",
       "</table>\n",
       "<p>692 rows × 20 columns</p>\n",
       "</div>"
      ],
      "text/plain": [
       "         BI-PA1 BI-PAI BI-CAO BI-PS1 BI-MLO BI-ZMA BI-PA2 BI-DBS BI-SAP  \\\n",
       "15569706      3    1.5    1.5      2    1.5    1.5      2      1      1   \n",
       "14249306    2.5    2.5      2      1    1.5    2.5    2.5      2    2.5   \n",
       "14247306      1      2      1      1    1.5      2      2      1      1   \n",
       "14291006      3      2      1      2    2.5      2      3    1.5    2.5   \n",
       "14318106    2.5    2.5      1      3      2      3      2      3      3   \n",
       "...         ...    ...    ...    ...    ...    ...    ...    ...    ...   \n",
       "12031406    2.5      2    1.5      3      2    2.5      3    1.5      1   \n",
       "12031006      3      2    1.5      3    2.5      3      3    2.5      2   \n",
       "12971906      2    2.5      1    2.5    2.5    2.5      2    2.5    1.5   \n",
       "12966906      3      2      1      3      2    1.5    2.5      2      1   \n",
       "12978706      2    2.5      1    2.5      2      2      2      2    1.5   \n",
       "\n",
       "         BI-LIN BI-AG1 BI-AAG BI-ZDM BI-OSY BI-PSI BI-BEZ BI-PST BI-DPR  \\\n",
       "15569706      2      2    1.5      2      1      2    1.5      4      4   \n",
       "14249306      3    2.5    2.5    2.5    2.5      2    2.5    2.5      4   \n",
       "14247306      3      2      2    2.5      3    2.5      3    2.5      4   \n",
       "14291006    2.5    2.5      2      3      3    2.5    2.5      3    2.5   \n",
       "14318106      2    2.5    2.5    2.5      1    2.5      1      3    2.5   \n",
       "...         ...    ...    ...    ...    ...    ...    ...    ...    ...   \n",
       "12031406      2    1.5    2.5    1.5      2    1.5    1.5      2    1.5   \n",
       "12031006      3      3      3    2.5      3    2.5    2.5    2.5    1.5   \n",
       "12971906      3    2.5      3      3    2.5    2.5      3      2    1.5   \n",
       "12966906      3    2.5      2      2    2.5      2      2    1.5    1.5   \n",
       "12978706      3    1.5      2    2.5      3      2    1.5      2      1   \n",
       "\n",
       "         BI-SI1.2 BI-EMP  \n",
       "15569706      1.5      4  \n",
       "14249306      2.5    1.5  \n",
       "14247306      2.5    1.5  \n",
       "14291006        3      3  \n",
       "14318106      2.5      2  \n",
       "...           ...    ...  \n",
       "12031406      1.5      1  \n",
       "12031006        3      1  \n",
       "12971906      2.5    1.5  \n",
       "12966906        2    1.5  \n",
       "12978706      1.5    1.5  \n",
       "\n",
       "[692 rows x 20 columns]"
      ]
     },
     "execution_count": 27,
     "metadata": {},
     "output_type": "execute_result"
    }
   ],
   "source": [
    "class_matrix_bak.dropna()"
   ]
  },
  {
   "cell_type": "markdown",
   "id": "dress-function",
   "metadata": {},
   "source": [
    "#### stud_success"
   ]
  },
  {
   "cell_type": "code",
   "execution_count": 28,
   "id": "analyzed-analyst",
   "metadata": {},
   "outputs": [],
   "source": [
    "bak_students = studium_dim[(studium_dim['typ_programu'] == 'B')\n",
    "                          & (studium_dim['forma_studia'] == 'P')\n",
    "                          & (studium_dim['jazyk_vyuky'] == 'CS')\n",
    "                          & (studium_dim['studuje'] == 'K')]['studium_id'].unique()"
   ]
  },
  {
   "cell_type": "code",
   "execution_count": 30,
   "id": "frequent-official",
   "metadata": {},
   "outputs": [],
   "source": [
    "# i po 2. pokusu jsou neuspesni\n",
    "failed_students = np.array([])\n",
    "tmp = szzk_dim[(szzk_dim['celkove_hodnoceni'] == 4) \n",
    "    & (szzk_dim['cislo_terminu'] == 2)]['studium_id'].unique()\n",
    "for t in tmp:\n",
    "    if t in bak_students:\n",
    "        failed_students = np.append(failed_students, [t])\n",
    "\n",
    "tmp_1 = szzk_dim.merge(hodnoceni_dim[(hodnoceni_dim['hodnoceni'] == 4) \n",
    "    & (hodnoceni_dim['cislo_terminu'] == 2)], on='statni_zkouska_id', how='inner')\n",
    "\n",
    "# kvuli chybe v datech\n",
    "tmp_1 = tmp_1[(tmp_1['studium_id'] != 14240606) \n",
    "    & (tmp_1['studium_id'] != 14808406)]['studium_id'].unique()\n",
    "for t in tmp_1:\n",
    "    if t in bak_students:\n",
    "        failed_students = np.append(failed_students, [t])\n",
    "\n",
    "# neuspesni v prvnim pokusu a nemaji druhy pokus\n",
    "second_chance = szzk_dim[(szzk_dim['cislo_terminu'] == 2)]['studium_id'].unique()\n",
    "for st in second_chance:\n",
    "    if st in bak_students:\n",
    "        failed_students = np.append(failed_students, [st])\n",
    "\n",
    "# studenti, kteri maji 4 u druheho zapisu povinneho predmetu\n",
    "tmp_2 = klasifikace_fact_bak_pp[(klasifikace_fact_bak_pp['poradi_zapisu'] == 2) \n",
    "                 & (klasifikace_fact_bak_pp['znamka'] == 4)]['studium_id'].unique()\n",
    "for t in tmp_2:\n",
    "    if t in bak_students:\n",
    "        failed_students = np.append(failed_students, [t])\n",
    "\n",
    "failed_students = np.unique(failed_students)"
   ]
  },
  {
   "cell_type": "code",
   "execution_count": 31,
   "id": "objective-british",
   "metadata": {},
   "outputs": [
    {
     "data": {
      "text/plain": [
       "852"
      ]
     },
     "execution_count": 31,
     "metadata": {},
     "output_type": "execute_result"
    }
   ],
   "source": [
    "len(failed_students)"
   ]
  },
  {
   "cell_type": "code",
   "execution_count": 32,
   "id": "fancy-substance",
   "metadata": {},
   "outputs": [],
   "source": [
    "# uspeli u statnic\n",
    "szzk_success = np.array([])\n",
    "tmp = szzk_dim.merge(hodnoceni_dim, on='statni_zkouska_id', how='outer')\n",
    "succ_studs_szzk = tmp[((tmp['celkove_hodnoceni'].notna()) \n",
    "                       & (tmp['celkove_hodnoceni'] != 4))]['studium_id'].unique()\n",
    "\n",
    "# succ_studs_szzk jsou tu i magistri\n",
    "successful_students = np.array([])\n",
    "for st in succ_studs_szzk:\n",
    "    if st in bak_students:\n",
    "        successful_students = np.append(successful_students, [st])"
   ]
  },
  {
   "cell_type": "code",
   "execution_count": 33,
   "id": "equipped-scenario",
   "metadata": {},
   "outputs": [
    {
     "name": "stdout",
     "output_type": "stream",
     "text": [
      "3557\n",
      "2096\n"
     ]
    }
   ],
   "source": [
    "print(len(succ_studs_szzk))\n",
    "print(len(successful_students))"
   ]
  },
  {
   "cell_type": "code",
   "execution_count": 34,
   "id": "removed-booking",
   "metadata": {},
   "outputs": [],
   "source": [
    "# studenti, kteri maji dokoncene studium a zaroven\n",
    "# nemaji dokoncene vsechny povinne bakalarske predmety\n",
    "ended_students_bak = studium_dim[(studium_dim['studuje'] == 'K') \n",
    "            & (studium_dim['typ_programu'] == 'B')\n",
    "            & (studium_dim['forma_studia'] == 'P')\n",
    "            & (studium_dim['jazyk_vyuky'] == 'CS')]['studium_id'].to_numpy()\n",
    "completed = class_matrix_bak[~class_matrix_bak.isnull().any(axis=1)]\n",
    "completed_arr = completed.index.to_numpy()\n",
    "not_completed_arr = class_matrix_bak[(~class_matrix_bak.index.isin(completed_arr))].index.to_numpy()\n",
    "\n",
    "for st in ended_students_bak:\n",
    "    if st in not_completed_arr:\n",
    "        if st not in successful_students:\n",
    "            failed_students = np.append(failed_students, [st])\n",
    "        \n",
    "failed_students = np.unique(failed_students)"
   ]
  },
  {
   "cell_type": "code",
   "execution_count": 35,
   "id": "computational-dancing",
   "metadata": {},
   "outputs": [
    {
     "name": "stdout",
     "output_type": "stream",
     "text": [
      "3062\n",
      "7736\n"
     ]
    }
   ],
   "source": [
    "print(len(failed_students))\n",
    "print(len(ended_students_bak))"
   ]
  },
  {
   "cell_type": "code",
   "execution_count": 36,
   "id": "portable-syracuse",
   "metadata": {},
   "outputs": [],
   "source": [
    "# nedokoncili ani jeden predmet\n",
    "not_even_one_course_arr = np.array([])\n",
    "for st in ended_students_bak:\n",
    "    # and (st in bak_students)\n",
    "    if (st not in student_id_bak) and (st not in successful_students):\n",
    "        not_even_one_course_arr = np.append(not_even_one_course_arr, [st])\n",
    "\n",
    "failed_students = np.append(failed_students, not_even_one_course_arr)\n",
    "failed_students = np.unique(failed_students)"
   ]
  },
  {
   "cell_type": "code",
   "execution_count": null,
   "id": "behind-newton",
   "metadata": {},
   "outputs": [],
   "source": []
  },
  {
   "cell_type": "code",
   "execution_count": 37,
   "id": "fifteen-instrument",
   "metadata": {},
   "outputs": [
    {
     "name": "stdout",
     "output_type": "stream",
     "text": [
      "2685\n",
      "5729\n"
     ]
    }
   ],
   "source": [
    "print(len(not_even_one_course_arr))\n",
    "print(len(failed_students))"
   ]
  },
  {
   "cell_type": "code",
   "execution_count": 38,
   "id": "average-tournament",
   "metadata": {},
   "outputs": [],
   "source": [
    "cnt = 0\n",
    "fail_success = np.array([])\n",
    "for st in failed_students:\n",
    "    if st in successful_students:\n",
    "        fail_success = np.append(fail_success, [st])\n",
    "        cnt += 1"
   ]
  },
  {
   "cell_type": "code",
   "execution_count": 39,
   "id": "referenced-motor",
   "metadata": {},
   "outputs": [
    {
     "data": {
      "text/plain": [
       "98"
      ]
     },
     "execution_count": 39,
     "metadata": {},
     "output_type": "execute_result"
    }
   ],
   "source": [
    "cnt"
   ]
  },
  {
   "cell_type": "code",
   "execution_count": 40,
   "id": "formal-inspiration",
   "metadata": {},
   "outputs": [],
   "source": [
    "cnt = 0\n",
    "for st in successful_students:\n",
    "    if st in failed_students:\n",
    "        fail_success = np.append(fail_success, [st])\n",
    "        cnt += 1"
   ]
  },
  {
   "cell_type": "code",
   "execution_count": 41,
   "id": "hispanic-picking",
   "metadata": {},
   "outputs": [
    {
     "data": {
      "text/plain": [
       "98"
      ]
     },
     "execution_count": 41,
     "metadata": {},
     "output_type": "execute_result"
    }
   ],
   "source": [
    "cnt"
   ]
  },
  {
   "cell_type": "code",
   "execution_count": 42,
   "id": "rental-upset",
   "metadata": {},
   "outputs": [],
   "source": [
    "fail_success = np.unique(fail_success)\n",
    "failed_students_update = np.array([])\n",
    "for st in failed_students:\n",
    "    if st not in fail_success:\n",
    "        failed_students_update = np.append(failed_students_update, [st])"
   ]
  },
  {
   "cell_type": "code",
   "execution_count": 43,
   "id": "knowing-harvey",
   "metadata": {},
   "outputs": [
    {
     "data": {
      "text/plain": [
       "5631"
      ]
     },
     "execution_count": 43,
     "metadata": {},
     "output_type": "execute_result"
    }
   ],
   "source": [
    "len(failed_students_update)"
   ]
  },
  {
   "cell_type": "code",
   "execution_count": 44,
   "id": "plastic-freight",
   "metadata": {},
   "outputs": [
    {
     "name": "stdout",
     "output_type": "stream",
     "text": [
      "15569706\n",
      "14249306\n",
      "14253806\n",
      "13007306\n",
      "11724106\n",
      "12970006\n",
      "12992806\n",
      "11702906\n",
      "11713806\n"
     ]
    }
   ],
   "source": [
    "cnt = 0\n",
    "for st in bak_students:\n",
    "    if st not in failed_students_update and st not in successful_students:\n",
    "        print(st)\n",
    "        cnt += 1"
   ]
  },
  {
   "cell_type": "code",
   "execution_count": 45,
   "id": "second-fifth",
   "metadata": {},
   "outputs": [
    {
     "data": {
      "text/plain": [
       "9"
      ]
     },
     "execution_count": 45,
     "metadata": {},
     "output_type": "execute_result"
    }
   ],
   "source": [
    "cnt"
   ]
  },
  {
   "cell_type": "code",
   "execution_count": 46,
   "id": "czech-upgrade",
   "metadata": {},
   "outputs": [],
   "source": [
    "path_file = os.sep.join(['created_data', 'successful_students.npy'])\n",
    "save(path_file, successful_students)\n",
    "\n",
    "path_file = os.sep.join(['created_data', 'failed_students.npy'])\n",
    "save(path_file, failed_students_update)"
   ]
  },
  {
   "cell_type": "markdown",
   "id": "buried-premiere",
   "metadata": {},
   "source": [
    "#### Průměry v povinných předmětech"
   ]
  },
  {
   "cell_type": "code",
   "execution_count": 47,
   "id": "innovative-attitude",
   "metadata": {},
   "outputs": [
    {
     "data": {
      "text/plain": [
       "BI-PA1      3.108985\n",
       "BI-PAI      2.668257\n",
       "BI-CAO      1.873104\n",
       "BI-PS1      2.959585\n",
       "BI-MLO      2.934201\n",
       "BI-ZMA      3.122029\n",
       "BI-PA2      2.855662\n",
       "BI-DBS      2.389488\n",
       "BI-SAP      2.370043\n",
       "BI-LIN      3.143392\n",
       "BI-AG1      2.816277\n",
       "BI-AAG      2.728651\n",
       "BI-ZDM      2.833069\n",
       "BI-OSY      2.599057\n",
       "BI-PSI      2.592041\n",
       "BI-BEZ      2.400759\n",
       "BI-PST      2.370370\n",
       "BI-DPR      1.533140\n",
       "BI-SI1.2    2.111277\n",
       "BI-EMP      1.799462\n",
       "dtype: float64"
      ]
     },
     "execution_count": 47,
     "metadata": {},
     "output_type": "execute_result"
    }
   ],
   "source": [
    "class_matrix_bak.mean()"
   ]
  },
  {
   "cell_type": "code",
   "execution_count": 48,
   "id": "exterior-johns",
   "metadata": {},
   "outputs": [],
   "source": [
    "success = class_matrix_bak[class_matrix_bak.index.isin(successful_students)]"
   ]
  },
  {
   "cell_type": "code",
   "execution_count": 49,
   "id": "baking-strain",
   "metadata": {},
   "outputs": [
    {
     "data": {
      "text/plain": [
       "BI-PA1      2.086231\n",
       "BI-PAI      2.287129\n",
       "BI-CAO      1.152924\n",
       "BI-PS1      2.217302\n",
       "BI-MLO      1.915452\n",
       "BI-ZMA      1.961538\n",
       "BI-PA2      2.006729\n",
       "BI-DBS      1.835000\n",
       "BI-SAP      1.616379\n",
       "BI-LIN      2.346204\n",
       "BI-AG1      2.065596\n",
       "BI-AAG      1.975366\n",
       "BI-ZDM      2.177807\n",
       "BI-OSY      2.324254\n",
       "BI-PSI      2.158254\n",
       "BI-BEZ      2.024601\n",
       "BI-PST      2.114597\n",
       "BI-DPR      1.343668\n",
       "BI-SI1.2    1.945047\n",
       "BI-EMP      1.445592\n",
       "dtype: float64"
      ]
     },
     "execution_count": 49,
     "metadata": {},
     "output_type": "execute_result"
    }
   ],
   "source": [
    "success.mean()"
   ]
  },
  {
   "cell_type": "code",
   "execution_count": 50,
   "id": "standard-frost",
   "metadata": {},
   "outputs": [],
   "source": [
    "fail = class_matrix_bak[class_matrix_bak.index.isin(failed_students)]"
   ]
  },
  {
   "cell_type": "code",
   "execution_count": 51,
   "id": "ancient-excess",
   "metadata": {},
   "outputs": [
    {
     "data": {
      "text/plain": [
       "BI-PA1      3.580196\n",
       "BI-PAI      3.000752\n",
       "BI-CAO      2.273647\n",
       "BI-PS1      3.420617\n",
       "BI-MLO      3.400498\n",
       "BI-ZMA      3.615739\n",
       "BI-PA2      3.634664\n",
       "BI-DBS      3.004829\n",
       "BI-SAP      3.012176\n",
       "BI-LIN      3.781016\n",
       "BI-AG1      3.670354\n",
       "BI-AAG      3.587312\n",
       "BI-ZDM      3.652949\n",
       "BI-OSY      3.569164\n",
       "BI-PSI      3.368317\n",
       "BI-BEZ      3.382353\n",
       "BI-PST      3.397143\n",
       "BI-DPR      2.842593\n",
       "BI-SI1.2    2.863636\n",
       "BI-EMP      2.516166\n",
       "dtype: float64"
      ]
     },
     "execution_count": 51,
     "metadata": {},
     "output_type": "execute_result"
    }
   ],
   "source": [
    "fail.mean()"
   ]
  },
  {
   "cell_type": "code",
   "execution_count": 52,
   "id": "dress-moscow",
   "metadata": {},
   "outputs": [
    {
     "data": {
      "text/plain": [
       "BI-PA1      1.493965\n",
       "BI-PAI      0.713623\n",
       "BI-CAO      1.120724\n",
       "BI-PS1      1.203315\n",
       "BI-MLO      1.485046\n",
       "BI-ZMA      1.654201\n",
       "BI-PA2      1.627935\n",
       "BI-DBS      1.169829\n",
       "BI-SAP      1.395797\n",
       "BI-LIN      1.434812\n",
       "BI-AG1      1.604758\n",
       "BI-AAG      1.611945\n",
       "BI-ZDM      1.475142\n",
       "BI-OSY      1.244910\n",
       "BI-PSI      1.210063\n",
       "BI-BEZ      1.357752\n",
       "BI-PST      1.282546\n",
       "BI-DPR      1.498925\n",
       "BI-SI1.2    0.918589\n",
       "BI-EMP      1.070574\n",
       "dtype: float64"
      ]
     },
     "execution_count": 52,
     "metadata": {},
     "output_type": "execute_result"
    }
   ],
   "source": [
    "fail.mean() - success.mean()"
   ]
  },
  {
   "cell_type": "markdown",
   "id": "fantastic-attack",
   "metadata": {},
   "source": [
    "#### important_courses_matrix"
   ]
  },
  {
   "cell_type": "code",
   "execution_count": 53,
   "id": "confirmed-roulette",
   "metadata": {},
   "outputs": [],
   "source": [
    "#matice klasikace u vybranych predmetu u vsech studentu bakalare od roku 2009\n",
    "important_courses_matrix = pd.DataFrame(index=student_id_bak_09, columns=['BI-AAG', 'BI-ZMA', 'BI-LIN', 'BI-ZDM', 'prumer'])\n",
    "\n",
    "for index, row in klasifikace_fact_bak_imp_09.iterrows():\n",
    "    if not math.isnan(row['znamka']):\n",
    "        important_courses_matrix[courses_bak_tran_id_kod[row['predmet_id']]][row['studium_id']] = row['znamka']\n",
    "        \n",
    "for index, row in important_courses_matrix.iterrows():\n",
    "    important_courses_matrix.loc[index, 'prumer'] = row.mean()"
   ]
  },
  {
   "cell_type": "code",
   "execution_count": 54,
   "id": "inside-apparatus",
   "metadata": {},
   "outputs": [
    {
     "data": {
      "text/html": [
       "<div>\n",
       "<style scoped>\n",
       "    .dataframe tbody tr th:only-of-type {\n",
       "        vertical-align: middle;\n",
       "    }\n",
       "\n",
       "    .dataframe tbody tr th {\n",
       "        vertical-align: top;\n",
       "    }\n",
       "\n",
       "    .dataframe thead th {\n",
       "        text-align: right;\n",
       "    }\n",
       "</style>\n",
       "<table border=\"1\" class=\"dataframe\">\n",
       "  <thead>\n",
       "    <tr style=\"text-align: right;\">\n",
       "      <th></th>\n",
       "      <th>BI-AAG</th>\n",
       "      <th>BI-ZMA</th>\n",
       "      <th>BI-LIN</th>\n",
       "      <th>BI-ZDM</th>\n",
       "      <th>prumer</th>\n",
       "    </tr>\n",
       "  </thead>\n",
       "  <tbody>\n",
       "    <tr>\n",
       "      <th>17929506</th>\n",
       "      <td>NaN</td>\n",
       "      <td>2.5</td>\n",
       "      <td>3</td>\n",
       "      <td>NaN</td>\n",
       "      <td>2.75</td>\n",
       "    </tr>\n",
       "    <tr>\n",
       "      <th>17931206</th>\n",
       "      <td>NaN</td>\n",
       "      <td>NaN</td>\n",
       "      <td>NaN</td>\n",
       "      <td>NaN</td>\n",
       "      <td>NaN</td>\n",
       "    </tr>\n",
       "    <tr>\n",
       "      <th>15569706</th>\n",
       "      <td>1.5</td>\n",
       "      <td>1.5</td>\n",
       "      <td>2</td>\n",
       "      <td>2</td>\n",
       "      <td>1.75</td>\n",
       "    </tr>\n",
       "    <tr>\n",
       "      <th>16729706</th>\n",
       "      <td>4</td>\n",
       "      <td>2</td>\n",
       "      <td>4</td>\n",
       "      <td>NaN</td>\n",
       "      <td>3.33333</td>\n",
       "    </tr>\n",
       "    <tr>\n",
       "      <th>17931606</th>\n",
       "      <td>NaN</td>\n",
       "      <td>2.5</td>\n",
       "      <td>NaN</td>\n",
       "      <td>NaN</td>\n",
       "      <td>2.5</td>\n",
       "    </tr>\n",
       "    <tr>\n",
       "      <th>...</th>\n",
       "      <td>...</td>\n",
       "      <td>...</td>\n",
       "      <td>...</td>\n",
       "      <td>...</td>\n",
       "      <td>...</td>\n",
       "    </tr>\n",
       "    <tr>\n",
       "      <th>19351806</th>\n",
       "      <td>NaN</td>\n",
       "      <td>NaN</td>\n",
       "      <td>NaN</td>\n",
       "      <td>NaN</td>\n",
       "      <td>NaN</td>\n",
       "    </tr>\n",
       "    <tr>\n",
       "      <th>19351406</th>\n",
       "      <td>NaN</td>\n",
       "      <td>NaN</td>\n",
       "      <td>NaN</td>\n",
       "      <td>NaN</td>\n",
       "      <td>NaN</td>\n",
       "    </tr>\n",
       "    <tr>\n",
       "      <th>19351006</th>\n",
       "      <td>NaN</td>\n",
       "      <td>NaN</td>\n",
       "      <td>NaN</td>\n",
       "      <td>NaN</td>\n",
       "      <td>NaN</td>\n",
       "    </tr>\n",
       "    <tr>\n",
       "      <th>19350506</th>\n",
       "      <td>NaN</td>\n",
       "      <td>NaN</td>\n",
       "      <td>NaN</td>\n",
       "      <td>NaN</td>\n",
       "      <td>NaN</td>\n",
       "    </tr>\n",
       "    <tr>\n",
       "      <th>19350006</th>\n",
       "      <td>NaN</td>\n",
       "      <td>NaN</td>\n",
       "      <td>NaN</td>\n",
       "      <td>NaN</td>\n",
       "      <td>NaN</td>\n",
       "    </tr>\n",
       "  </tbody>\n",
       "</table>\n",
       "<p>9403 rows × 5 columns</p>\n",
       "</div>"
      ],
      "text/plain": [
       "         BI-AAG BI-ZMA BI-LIN BI-ZDM   prumer\n",
       "17929506    NaN    2.5      3    NaN     2.75\n",
       "17931206    NaN    NaN    NaN    NaN      NaN\n",
       "15569706    1.5    1.5      2      2     1.75\n",
       "16729706      4      2      4    NaN  3.33333\n",
       "17931606    NaN    2.5    NaN    NaN      2.5\n",
       "...         ...    ...    ...    ...      ...\n",
       "19351806    NaN    NaN    NaN    NaN      NaN\n",
       "19351406    NaN    NaN    NaN    NaN      NaN\n",
       "19351006    NaN    NaN    NaN    NaN      NaN\n",
       "19350506    NaN    NaN    NaN    NaN      NaN\n",
       "19350006    NaN    NaN    NaN    NaN      NaN\n",
       "\n",
       "[9403 rows x 5 columns]"
      ]
     },
     "execution_count": 54,
     "metadata": {},
     "output_type": "execute_result"
    }
   ],
   "source": [
    "important_courses_matrix"
   ]
  },
  {
   "cell_type": "code",
   "execution_count": 55,
   "id": "inner-accounting",
   "metadata": {},
   "outputs": [],
   "source": [
    "path_file = os.sep.join(['created_data', 'important_courses_matrix.csv'])\n",
    "important_courses_matrix.to_csv(path_file, index=True, index_label='studium_id')"
   ]
  }
 ],
 "metadata": {
  "kernelspec": {
   "display_name": "Python 3",
   "language": "python",
   "name": "python3"
  },
  "language_info": {
   "codemirror_mode": {
    "name": "ipython",
    "version": 3
   },
   "file_extension": ".py",
   "mimetype": "text/x-python",
   "name": "python",
   "nbconvert_exporter": "python",
   "pygments_lexer": "ipython3",
   "version": "3.8.10"
  }
 },
 "nbformat": 4,
 "nbformat_minor": 5
}
