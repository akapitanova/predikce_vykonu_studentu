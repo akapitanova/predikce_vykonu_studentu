{
 "cells": [
  {
   "cell_type": "code",
   "execution_count": 1,
   "id": "departmental-democrat",
   "metadata": {},
   "outputs": [],
   "source": [
    "import os\n",
    "import math\n",
    "\n",
    "import pandas as pd\n",
    "import numpy as np\n",
    "import sklearn.metrics as metrics\n",
    "import matplotlib.pyplot as plt\n",
    "\n",
    "from sklearn.neighbors import NearestNeighbors\n",
    "from sklearn.neighbors import KNeighborsClassifier\n",
    "\n",
    "from sklearn.neighbors import KNeighborsRegressor\n",
    "from sklearn.metrics import mean_squared_error\n",
    "\n",
    "from sklearn.model_selection import GridSearchCV\n",
    "from sklearn.model_selection import ParameterGrid\n",
    "from sklearn.metrics import mean_squared_error\n",
    "\n",
    "from sklearn.impute import KNNImputer\n",
    "\n",
    "from sklearn.model_selection import train_test_split\n",
    "\n",
    "%matplotlib inline\n",
    "pd.set_option('display.max_columns', None)\n",
    "np.set_printoptions(threshold=1000)\n",
    "\n",
    "rd_seed = 333"
   ]
  },
  {
   "cell_type": "code",
   "execution_count": 2,
   "id": "excited-second",
   "metadata": {},
   "outputs": [],
   "source": [
    "path_file = os.sep.join(['created_data', 'matrix_bak_2015.csv'])\n",
    "matrix = pd.read_csv(path_file, sep=\",\", index_col='studium_id') "
   ]
  },
  {
   "cell_type": "code",
   "execution_count": 3,
   "id": "embedded-advice",
   "metadata": {},
   "outputs": [
    {
     "name": "stdout",
     "output_type": "stream",
     "text": [
      "<class 'pandas.core.frame.DataFrame'>\n",
      "Int64Index: 4081 entries, 19374606 to 11740806\n",
      "Data columns (total 32 columns):\n",
      " #   Column                  Non-Null Count  Dtype  \n",
      "---  ------                  --------------  -----  \n",
      " 0   pohlavi_kod             4081 non-null   int64  \n",
      " 1   je_cech                 4081 non-null   int64  \n",
      " 2   datum_zahajeni          4081 non-null   int64  \n",
      " 3   rok_maturity            4081 non-null   int64  \n",
      " 4   maturita_nastup_rozdil  4081 non-null   int64  \n",
      " 5   gymnazium               4081 non-null   int64  \n",
      " 6   praha                   4081 non-null   int64  \n",
      " 7   scio                    4081 non-null   int64  \n",
      " 8   olym                    4081 non-null   int64  \n",
      " 9   zkouska                 4081 non-null   int64  \n",
      " 10  prominuti               4081 non-null   int64  \n",
      " 11  dostudoval_uspesne      4081 non-null   int64  \n",
      " 12  BI-PA1                  3918 non-null   float64\n",
      " 13  BI-PAI                  3894 non-null   float64\n",
      " 14  BI-CAO                  3840 non-null   float64\n",
      " 15  BI-PS1                  4002 non-null   float64\n",
      " 16  BI-MLO                  3855 non-null   float64\n",
      " 17  BI-ZMA                  3848 non-null   float64\n",
      " 18  BI-PA2                  2243 non-null   float64\n",
      " 19  BI-DBS                  2516 non-null   float64\n",
      " 20  BI-SAP                  2465 non-null   float64\n",
      " 21  BI-LIN                  2382 non-null   float64\n",
      " 22  BI-AG1                  1586 non-null   float64\n",
      " 23  BI-AAG                  1790 non-null   float64\n",
      " 24  BI-ZDM                  1726 non-null   float64\n",
      " 25  BI-OSY                  1254 non-null   float64\n",
      " 26  BI-PSI                  1475 non-null   float64\n",
      " 27  BI-BEZ                  1367 non-null   float64\n",
      " 28  BI-PST                  1068 non-null   float64\n",
      " 29  BI-DPR                  918 non-null    float64\n",
      " 30  BI-SI1.2                1248 non-null   float64\n",
      " 31  BI-EMP                  1439 non-null   float64\n",
      "dtypes: float64(20), int64(12)\n",
      "memory usage: 1.0 MB\n"
     ]
    }
   ],
   "source": [
    "matrix.info()"
   ]
  },
  {
   "cell_type": "code",
   "execution_count": 4,
   "id": "entire-liability",
   "metadata": {},
   "outputs": [
    {
     "data": {
      "text/html": [
       "<div>\n",
       "<style scoped>\n",
       "    .dataframe tbody tr th:only-of-type {\n",
       "        vertical-align: middle;\n",
       "    }\n",
       "\n",
       "    .dataframe tbody tr th {\n",
       "        vertical-align: top;\n",
       "    }\n",
       "\n",
       "    .dataframe thead th {\n",
       "        text-align: right;\n",
       "    }\n",
       "</style>\n",
       "<table border=\"1\" class=\"dataframe\">\n",
       "  <thead>\n",
       "    <tr style=\"text-align: right;\">\n",
       "      <th></th>\n",
       "      <th>pohlavi_kod</th>\n",
       "      <th>je_cech</th>\n",
       "      <th>datum_zahajeni</th>\n",
       "      <th>rok_maturity</th>\n",
       "      <th>maturita_nastup_rozdil</th>\n",
       "      <th>gymnazium</th>\n",
       "      <th>praha</th>\n",
       "      <th>scio</th>\n",
       "      <th>olym</th>\n",
       "      <th>zkouska</th>\n",
       "      <th>prominuti</th>\n",
       "      <th>dostudoval_uspesne</th>\n",
       "      <th>BI-PA1</th>\n",
       "      <th>BI-PAI</th>\n",
       "      <th>BI-CAO</th>\n",
       "      <th>BI-PS1</th>\n",
       "      <th>BI-MLO</th>\n",
       "      <th>BI-ZMA</th>\n",
       "      <th>BI-PA2</th>\n",
       "      <th>BI-DBS</th>\n",
       "      <th>BI-SAP</th>\n",
       "      <th>BI-LIN</th>\n",
       "      <th>BI-AG1</th>\n",
       "      <th>BI-AAG</th>\n",
       "      <th>BI-ZDM</th>\n",
       "      <th>BI-OSY</th>\n",
       "      <th>BI-PSI</th>\n",
       "      <th>BI-BEZ</th>\n",
       "      <th>BI-PST</th>\n",
       "      <th>BI-DPR</th>\n",
       "      <th>BI-SI1.2</th>\n",
       "      <th>BI-EMP</th>\n",
       "    </tr>\n",
       "    <tr>\n",
       "      <th>studium_id</th>\n",
       "      <th></th>\n",
       "      <th></th>\n",
       "      <th></th>\n",
       "      <th></th>\n",
       "      <th></th>\n",
       "      <th></th>\n",
       "      <th></th>\n",
       "      <th></th>\n",
       "      <th></th>\n",
       "      <th></th>\n",
       "      <th></th>\n",
       "      <th></th>\n",
       "      <th></th>\n",
       "      <th></th>\n",
       "      <th></th>\n",
       "      <th></th>\n",
       "      <th></th>\n",
       "      <th></th>\n",
       "      <th></th>\n",
       "      <th></th>\n",
       "      <th></th>\n",
       "      <th></th>\n",
       "      <th></th>\n",
       "      <th></th>\n",
       "      <th></th>\n",
       "      <th></th>\n",
       "      <th></th>\n",
       "      <th></th>\n",
       "      <th></th>\n",
       "      <th></th>\n",
       "      <th></th>\n",
       "      <th></th>\n",
       "    </tr>\n",
       "  </thead>\n",
       "  <tbody>\n",
       "    <tr>\n",
       "      <th>19374606</th>\n",
       "      <td>0</td>\n",
       "      <td>1</td>\n",
       "      <td>2021</td>\n",
       "      <td>2009</td>\n",
       "      <td>12</td>\n",
       "      <td>1</td>\n",
       "      <td>0</td>\n",
       "      <td>0</td>\n",
       "      <td>1</td>\n",
       "      <td>0</td>\n",
       "      <td>0</td>\n",
       "      <td>0</td>\n",
       "      <td>4.0</td>\n",
       "      <td>NaN</td>\n",
       "      <td>4.0</td>\n",
       "      <td>4.0</td>\n",
       "      <td>NaN</td>\n",
       "      <td>NaN</td>\n",
       "      <td>NaN</td>\n",
       "      <td>NaN</td>\n",
       "      <td>NaN</td>\n",
       "      <td>NaN</td>\n",
       "      <td>NaN</td>\n",
       "      <td>NaN</td>\n",
       "      <td>NaN</td>\n",
       "      <td>NaN</td>\n",
       "      <td>NaN</td>\n",
       "      <td>NaN</td>\n",
       "      <td>NaN</td>\n",
       "      <td>NaN</td>\n",
       "      <td>NaN</td>\n",
       "      <td>NaN</td>\n",
       "    </tr>\n",
       "    <tr>\n",
       "      <th>12375406</th>\n",
       "      <td>0</td>\n",
       "      <td>1</td>\n",
       "      <td>2015</td>\n",
       "      <td>2009</td>\n",
       "      <td>6</td>\n",
       "      <td>0</td>\n",
       "      <td>1</td>\n",
       "      <td>0</td>\n",
       "      <td>0</td>\n",
       "      <td>0</td>\n",
       "      <td>0</td>\n",
       "      <td>1</td>\n",
       "      <td>2.5</td>\n",
       "      <td>2.0</td>\n",
       "      <td>2.5</td>\n",
       "      <td>3.0</td>\n",
       "      <td>2.5</td>\n",
       "      <td>2.5</td>\n",
       "      <td>3.0</td>\n",
       "      <td>2.5</td>\n",
       "      <td>2.5</td>\n",
       "      <td>2.5</td>\n",
       "      <td>NaN</td>\n",
       "      <td>3.0</td>\n",
       "      <td>3.0</td>\n",
       "      <td>3.0</td>\n",
       "      <td>2.5</td>\n",
       "      <td>2.5</td>\n",
       "      <td>2.0</td>\n",
       "      <td>1.0</td>\n",
       "      <td>2.0</td>\n",
       "      <td>2.0</td>\n",
       "    </tr>\n",
       "    <tr>\n",
       "      <th>11736906</th>\n",
       "      <td>0</td>\n",
       "      <td>1</td>\n",
       "      <td>2015</td>\n",
       "      <td>2009</td>\n",
       "      <td>6</td>\n",
       "      <td>1</td>\n",
       "      <td>0</td>\n",
       "      <td>0</td>\n",
       "      <td>0</td>\n",
       "      <td>0</td>\n",
       "      <td>0</td>\n",
       "      <td>0</td>\n",
       "      <td>4.0</td>\n",
       "      <td>4.0</td>\n",
       "      <td>4.0</td>\n",
       "      <td>4.0</td>\n",
       "      <td>4.0</td>\n",
       "      <td>4.0</td>\n",
       "      <td>NaN</td>\n",
       "      <td>NaN</td>\n",
       "      <td>NaN</td>\n",
       "      <td>NaN</td>\n",
       "      <td>NaN</td>\n",
       "      <td>NaN</td>\n",
       "      <td>NaN</td>\n",
       "      <td>NaN</td>\n",
       "      <td>NaN</td>\n",
       "      <td>NaN</td>\n",
       "      <td>NaN</td>\n",
       "      <td>NaN</td>\n",
       "      <td>NaN</td>\n",
       "      <td>NaN</td>\n",
       "    </tr>\n",
       "    <tr>\n",
       "      <th>12032306</th>\n",
       "      <td>0</td>\n",
       "      <td>1</td>\n",
       "      <td>2015</td>\n",
       "      <td>2007</td>\n",
       "      <td>8</td>\n",
       "      <td>0</td>\n",
       "      <td>1</td>\n",
       "      <td>0</td>\n",
       "      <td>0</td>\n",
       "      <td>0</td>\n",
       "      <td>0</td>\n",
       "      <td>0</td>\n",
       "      <td>4.0</td>\n",
       "      <td>4.0</td>\n",
       "      <td>4.0</td>\n",
       "      <td>4.0</td>\n",
       "      <td>4.0</td>\n",
       "      <td>4.0</td>\n",
       "      <td>NaN</td>\n",
       "      <td>NaN</td>\n",
       "      <td>NaN</td>\n",
       "      <td>NaN</td>\n",
       "      <td>NaN</td>\n",
       "      <td>NaN</td>\n",
       "      <td>NaN</td>\n",
       "      <td>NaN</td>\n",
       "      <td>NaN</td>\n",
       "      <td>NaN</td>\n",
       "      <td>NaN</td>\n",
       "      <td>NaN</td>\n",
       "      <td>NaN</td>\n",
       "      <td>NaN</td>\n",
       "    </tr>\n",
       "    <tr>\n",
       "      <th>15613006</th>\n",
       "      <td>0</td>\n",
       "      <td>1</td>\n",
       "      <td>2018</td>\n",
       "      <td>2009</td>\n",
       "      <td>9</td>\n",
       "      <td>1</td>\n",
       "      <td>1</td>\n",
       "      <td>0</td>\n",
       "      <td>0</td>\n",
       "      <td>0</td>\n",
       "      <td>0</td>\n",
       "      <td>0</td>\n",
       "      <td>1.0</td>\n",
       "      <td>2.5</td>\n",
       "      <td>1.0</td>\n",
       "      <td>2.5</td>\n",
       "      <td>1.5</td>\n",
       "      <td>2.0</td>\n",
       "      <td>1.5</td>\n",
       "      <td>1.5</td>\n",
       "      <td>1.0</td>\n",
       "      <td>3.0</td>\n",
       "      <td>1.5</td>\n",
       "      <td>2.5</td>\n",
       "      <td>2.0</td>\n",
       "      <td>2.5</td>\n",
       "      <td>1.5</td>\n",
       "      <td>2.5</td>\n",
       "      <td>1.5</td>\n",
       "      <td>NaN</td>\n",
       "      <td>2.0</td>\n",
       "      <td>1.5</td>\n",
       "    </tr>\n",
       "    <tr>\n",
       "      <th>...</th>\n",
       "      <td>...</td>\n",
       "      <td>...</td>\n",
       "      <td>...</td>\n",
       "      <td>...</td>\n",
       "      <td>...</td>\n",
       "      <td>...</td>\n",
       "      <td>...</td>\n",
       "      <td>...</td>\n",
       "      <td>...</td>\n",
       "      <td>...</td>\n",
       "      <td>...</td>\n",
       "      <td>...</td>\n",
       "      <td>...</td>\n",
       "      <td>...</td>\n",
       "      <td>...</td>\n",
       "      <td>...</td>\n",
       "      <td>...</td>\n",
       "      <td>...</td>\n",
       "      <td>...</td>\n",
       "      <td>...</td>\n",
       "      <td>...</td>\n",
       "      <td>...</td>\n",
       "      <td>...</td>\n",
       "      <td>...</td>\n",
       "      <td>...</td>\n",
       "      <td>...</td>\n",
       "      <td>...</td>\n",
       "      <td>...</td>\n",
       "      <td>...</td>\n",
       "      <td>...</td>\n",
       "      <td>...</td>\n",
       "      <td>...</td>\n",
       "    </tr>\n",
       "    <tr>\n",
       "      <th>19814506</th>\n",
       "      <td>0</td>\n",
       "      <td>1</td>\n",
       "      <td>2021</td>\n",
       "      <td>2021</td>\n",
       "      <td>0</td>\n",
       "      <td>1</td>\n",
       "      <td>1</td>\n",
       "      <td>1</td>\n",
       "      <td>1</td>\n",
       "      <td>0</td>\n",
       "      <td>0</td>\n",
       "      <td>0</td>\n",
       "      <td>4.0</td>\n",
       "      <td>NaN</td>\n",
       "      <td>NaN</td>\n",
       "      <td>4.0</td>\n",
       "      <td>NaN</td>\n",
       "      <td>NaN</td>\n",
       "      <td>NaN</td>\n",
       "      <td>NaN</td>\n",
       "      <td>NaN</td>\n",
       "      <td>NaN</td>\n",
       "      <td>NaN</td>\n",
       "      <td>NaN</td>\n",
       "      <td>NaN</td>\n",
       "      <td>NaN</td>\n",
       "      <td>NaN</td>\n",
       "      <td>NaN</td>\n",
       "      <td>NaN</td>\n",
       "      <td>NaN</td>\n",
       "      <td>NaN</td>\n",
       "      <td>NaN</td>\n",
       "    </tr>\n",
       "    <tr>\n",
       "      <th>11677106</th>\n",
       "      <td>0</td>\n",
       "      <td>1</td>\n",
       "      <td>2015</td>\n",
       "      <td>2003</td>\n",
       "      <td>12</td>\n",
       "      <td>0</td>\n",
       "      <td>1</td>\n",
       "      <td>0</td>\n",
       "      <td>0</td>\n",
       "      <td>0</td>\n",
       "      <td>0</td>\n",
       "      <td>0</td>\n",
       "      <td>4.0</td>\n",
       "      <td>2.5</td>\n",
       "      <td>1.0</td>\n",
       "      <td>4.0</td>\n",
       "      <td>4.0</td>\n",
       "      <td>4.0</td>\n",
       "      <td>NaN</td>\n",
       "      <td>NaN</td>\n",
       "      <td>NaN</td>\n",
       "      <td>NaN</td>\n",
       "      <td>NaN</td>\n",
       "      <td>NaN</td>\n",
       "      <td>NaN</td>\n",
       "      <td>NaN</td>\n",
       "      <td>NaN</td>\n",
       "      <td>NaN</td>\n",
       "      <td>NaN</td>\n",
       "      <td>NaN</td>\n",
       "      <td>NaN</td>\n",
       "      <td>NaN</td>\n",
       "    </tr>\n",
       "    <tr>\n",
       "      <th>13513806</th>\n",
       "      <td>0</td>\n",
       "      <td>1</td>\n",
       "      <td>2016</td>\n",
       "      <td>2006</td>\n",
       "      <td>10</td>\n",
       "      <td>0</td>\n",
       "      <td>1</td>\n",
       "      <td>0</td>\n",
       "      <td>0</td>\n",
       "      <td>0</td>\n",
       "      <td>0</td>\n",
       "      <td>0</td>\n",
       "      <td>4.0</td>\n",
       "      <td>4.0</td>\n",
       "      <td>1.0</td>\n",
       "      <td>4.0</td>\n",
       "      <td>4.0</td>\n",
       "      <td>4.0</td>\n",
       "      <td>NaN</td>\n",
       "      <td>NaN</td>\n",
       "      <td>NaN</td>\n",
       "      <td>NaN</td>\n",
       "      <td>NaN</td>\n",
       "      <td>NaN</td>\n",
       "      <td>NaN</td>\n",
       "      <td>NaN</td>\n",
       "      <td>NaN</td>\n",
       "      <td>NaN</td>\n",
       "      <td>NaN</td>\n",
       "      <td>NaN</td>\n",
       "      <td>NaN</td>\n",
       "      <td>NaN</td>\n",
       "    </tr>\n",
       "    <tr>\n",
       "      <th>12979706</th>\n",
       "      <td>0</td>\n",
       "      <td>1</td>\n",
       "      <td>2016</td>\n",
       "      <td>2009</td>\n",
       "      <td>7</td>\n",
       "      <td>1</td>\n",
       "      <td>1</td>\n",
       "      <td>0</td>\n",
       "      <td>0</td>\n",
       "      <td>0</td>\n",
       "      <td>0</td>\n",
       "      <td>1</td>\n",
       "      <td>1.0</td>\n",
       "      <td>3.0</td>\n",
       "      <td>1.0</td>\n",
       "      <td>3.0</td>\n",
       "      <td>1.0</td>\n",
       "      <td>1.5</td>\n",
       "      <td>1.0</td>\n",
       "      <td>2.5</td>\n",
       "      <td>1.0</td>\n",
       "      <td>1.5</td>\n",
       "      <td>3.0</td>\n",
       "      <td>2.0</td>\n",
       "      <td>2.0</td>\n",
       "      <td>3.0</td>\n",
       "      <td>2.5</td>\n",
       "      <td>2.5</td>\n",
       "      <td>2.0</td>\n",
       "      <td>2.5</td>\n",
       "      <td>1.5</td>\n",
       "      <td>2.5</td>\n",
       "    </tr>\n",
       "    <tr>\n",
       "      <th>11740806</th>\n",
       "      <td>0</td>\n",
       "      <td>1</td>\n",
       "      <td>2015</td>\n",
       "      <td>2007</td>\n",
       "      <td>8</td>\n",
       "      <td>1</td>\n",
       "      <td>0</td>\n",
       "      <td>0</td>\n",
       "      <td>0</td>\n",
       "      <td>0</td>\n",
       "      <td>0</td>\n",
       "      <td>0</td>\n",
       "      <td>2.0</td>\n",
       "      <td>2.0</td>\n",
       "      <td>1.0</td>\n",
       "      <td>2.5</td>\n",
       "      <td>1.5</td>\n",
       "      <td>2.0</td>\n",
       "      <td>3.0</td>\n",
       "      <td>1.5</td>\n",
       "      <td>3.0</td>\n",
       "      <td>4.0</td>\n",
       "      <td>4.0</td>\n",
       "      <td>4.0</td>\n",
       "      <td>4.0</td>\n",
       "      <td>NaN</td>\n",
       "      <td>4.0</td>\n",
       "      <td>4.0</td>\n",
       "      <td>NaN</td>\n",
       "      <td>NaN</td>\n",
       "      <td>NaN</td>\n",
       "      <td>4.0</td>\n",
       "    </tr>\n",
       "  </tbody>\n",
       "</table>\n",
       "<p>4081 rows × 32 columns</p>\n",
       "</div>"
      ],
      "text/plain": [
       "            pohlavi_kod  je_cech  datum_zahajeni  rok_maturity  \\\n",
       "studium_id                                                       \n",
       "19374606              0        1            2021          2009   \n",
       "12375406              0        1            2015          2009   \n",
       "11736906              0        1            2015          2009   \n",
       "12032306              0        1            2015          2007   \n",
       "15613006              0        1            2018          2009   \n",
       "...                 ...      ...             ...           ...   \n",
       "19814506              0        1            2021          2021   \n",
       "11677106              0        1            2015          2003   \n",
       "13513806              0        1            2016          2006   \n",
       "12979706              0        1            2016          2009   \n",
       "11740806              0        1            2015          2007   \n",
       "\n",
       "            maturita_nastup_rozdil  gymnazium  praha  scio  olym  zkouska  \\\n",
       "studium_id                                                                  \n",
       "19374606                        12          1      0     0     1        0   \n",
       "12375406                         6          0      1     0     0        0   \n",
       "11736906                         6          1      0     0     0        0   \n",
       "12032306                         8          0      1     0     0        0   \n",
       "15613006                         9          1      1     0     0        0   \n",
       "...                            ...        ...    ...   ...   ...      ...   \n",
       "19814506                         0          1      1     1     1        0   \n",
       "11677106                        12          0      1     0     0        0   \n",
       "13513806                        10          0      1     0     0        0   \n",
       "12979706                         7          1      1     0     0        0   \n",
       "11740806                         8          1      0     0     0        0   \n",
       "\n",
       "            prominuti  dostudoval_uspesne  BI-PA1  BI-PAI  BI-CAO  BI-PS1  \\\n",
       "studium_id                                                                  \n",
       "19374606            0                   0     4.0     NaN     4.0     4.0   \n",
       "12375406            0                   1     2.5     2.0     2.5     3.0   \n",
       "11736906            0                   0     4.0     4.0     4.0     4.0   \n",
       "12032306            0                   0     4.0     4.0     4.0     4.0   \n",
       "15613006            0                   0     1.0     2.5     1.0     2.5   \n",
       "...               ...                 ...     ...     ...     ...     ...   \n",
       "19814506            0                   0     4.0     NaN     NaN     4.0   \n",
       "11677106            0                   0     4.0     2.5     1.0     4.0   \n",
       "13513806            0                   0     4.0     4.0     1.0     4.0   \n",
       "12979706            0                   1     1.0     3.0     1.0     3.0   \n",
       "11740806            0                   0     2.0     2.0     1.0     2.5   \n",
       "\n",
       "            BI-MLO  BI-ZMA  BI-PA2  BI-DBS  BI-SAP  BI-LIN  BI-AG1  BI-AAG  \\\n",
       "studium_id                                                                   \n",
       "19374606       NaN     NaN     NaN     NaN     NaN     NaN     NaN     NaN   \n",
       "12375406       2.5     2.5     3.0     2.5     2.5     2.5     NaN     3.0   \n",
       "11736906       4.0     4.0     NaN     NaN     NaN     NaN     NaN     NaN   \n",
       "12032306       4.0     4.0     NaN     NaN     NaN     NaN     NaN     NaN   \n",
       "15613006       1.5     2.0     1.5     1.5     1.0     3.0     1.5     2.5   \n",
       "...            ...     ...     ...     ...     ...     ...     ...     ...   \n",
       "19814506       NaN     NaN     NaN     NaN     NaN     NaN     NaN     NaN   \n",
       "11677106       4.0     4.0     NaN     NaN     NaN     NaN     NaN     NaN   \n",
       "13513806       4.0     4.0     NaN     NaN     NaN     NaN     NaN     NaN   \n",
       "12979706       1.0     1.5     1.0     2.5     1.0     1.5     3.0     2.0   \n",
       "11740806       1.5     2.0     3.0     1.5     3.0     4.0     4.0     4.0   \n",
       "\n",
       "            BI-ZDM  BI-OSY  BI-PSI  BI-BEZ  BI-PST  BI-DPR  BI-SI1.2  BI-EMP  \n",
       "studium_id                                                                    \n",
       "19374606       NaN     NaN     NaN     NaN     NaN     NaN       NaN     NaN  \n",
       "12375406       3.0     3.0     2.5     2.5     2.0     1.0       2.0     2.0  \n",
       "11736906       NaN     NaN     NaN     NaN     NaN     NaN       NaN     NaN  \n",
       "12032306       NaN     NaN     NaN     NaN     NaN     NaN       NaN     NaN  \n",
       "15613006       2.0     2.5     1.5     2.5     1.5     NaN       2.0     1.5  \n",
       "...            ...     ...     ...     ...     ...     ...       ...     ...  \n",
       "19814506       NaN     NaN     NaN     NaN     NaN     NaN       NaN     NaN  \n",
       "11677106       NaN     NaN     NaN     NaN     NaN     NaN       NaN     NaN  \n",
       "13513806       NaN     NaN     NaN     NaN     NaN     NaN       NaN     NaN  \n",
       "12979706       2.0     3.0     2.5     2.5     2.0     2.5       1.5     2.5  \n",
       "11740806       4.0     NaN     4.0     4.0     NaN     NaN       NaN     4.0  \n",
       "\n",
       "[4081 rows x 32 columns]"
      ]
     },
     "execution_count": 4,
     "metadata": {},
     "output_type": "execute_result"
    }
   ],
   "source": [
    "matrix"
   ]
  },
  {
   "cell_type": "markdown",
   "id": "earlier-utilization",
   "metadata": {},
   "source": [
    "## Selekce atributů"
   ]
  },
  {
   "cell_type": "code",
   "execution_count": 5,
   "id": "perfect-coating",
   "metadata": {},
   "outputs": [],
   "source": [
    "matrix = matrix.drop(columns=['dostudoval_uspesne'])"
   ]
  },
  {
   "cell_type": "markdown",
   "id": "certain-empty",
   "metadata": {},
   "source": [
    "## Doplnění NaN hodnot"
   ]
  },
  {
   "cell_type": "code",
   "execution_count": 6,
   "id": "thick-feeling",
   "metadata": {},
   "outputs": [],
   "source": [
    "imp = KNNImputer(n_neighbors=5)\n",
    "matrix = pd.DataFrame(imp.fit_transform(matrix), index=matrix.index, columns=matrix.columns)"
   ]
  },
  {
   "cell_type": "code",
   "execution_count": 7,
   "id": "secure-sport",
   "metadata": {},
   "outputs": [
    {
     "data": {
      "text/html": [
       "<div>\n",
       "<style scoped>\n",
       "    .dataframe tbody tr th:only-of-type {\n",
       "        vertical-align: middle;\n",
       "    }\n",
       "\n",
       "    .dataframe tbody tr th {\n",
       "        vertical-align: top;\n",
       "    }\n",
       "\n",
       "    .dataframe thead th {\n",
       "        text-align: right;\n",
       "    }\n",
       "</style>\n",
       "<table border=\"1\" class=\"dataframe\">\n",
       "  <thead>\n",
       "    <tr style=\"text-align: right;\">\n",
       "      <th></th>\n",
       "      <th>pohlavi_kod</th>\n",
       "      <th>je_cech</th>\n",
       "      <th>datum_zahajeni</th>\n",
       "      <th>rok_maturity</th>\n",
       "      <th>maturita_nastup_rozdil</th>\n",
       "      <th>gymnazium</th>\n",
       "      <th>praha</th>\n",
       "      <th>scio</th>\n",
       "      <th>olym</th>\n",
       "      <th>zkouska</th>\n",
       "      <th>prominuti</th>\n",
       "      <th>BI-PA1</th>\n",
       "      <th>BI-PAI</th>\n",
       "      <th>BI-CAO</th>\n",
       "      <th>BI-PS1</th>\n",
       "      <th>BI-MLO</th>\n",
       "      <th>BI-ZMA</th>\n",
       "      <th>BI-PA2</th>\n",
       "      <th>BI-DBS</th>\n",
       "      <th>BI-SAP</th>\n",
       "      <th>BI-LIN</th>\n",
       "      <th>BI-AG1</th>\n",
       "      <th>BI-AAG</th>\n",
       "      <th>BI-ZDM</th>\n",
       "      <th>BI-OSY</th>\n",
       "      <th>BI-PSI</th>\n",
       "      <th>BI-BEZ</th>\n",
       "      <th>BI-PST</th>\n",
       "      <th>BI-DPR</th>\n",
       "      <th>BI-SI1.2</th>\n",
       "      <th>BI-EMP</th>\n",
       "    </tr>\n",
       "    <tr>\n",
       "      <th>studium_id</th>\n",
       "      <th></th>\n",
       "      <th></th>\n",
       "      <th></th>\n",
       "      <th></th>\n",
       "      <th></th>\n",
       "      <th></th>\n",
       "      <th></th>\n",
       "      <th></th>\n",
       "      <th></th>\n",
       "      <th></th>\n",
       "      <th></th>\n",
       "      <th></th>\n",
       "      <th></th>\n",
       "      <th></th>\n",
       "      <th></th>\n",
       "      <th></th>\n",
       "      <th></th>\n",
       "      <th></th>\n",
       "      <th></th>\n",
       "      <th></th>\n",
       "      <th></th>\n",
       "      <th></th>\n",
       "      <th></th>\n",
       "      <th></th>\n",
       "      <th></th>\n",
       "      <th></th>\n",
       "      <th></th>\n",
       "      <th></th>\n",
       "      <th></th>\n",
       "      <th></th>\n",
       "      <th></th>\n",
       "    </tr>\n",
       "  </thead>\n",
       "  <tbody>\n",
       "    <tr>\n",
       "      <th>19374606</th>\n",
       "      <td>0.0</td>\n",
       "      <td>1.0</td>\n",
       "      <td>2021.0</td>\n",
       "      <td>2009.0</td>\n",
       "      <td>12.0</td>\n",
       "      <td>1.0</td>\n",
       "      <td>0.0</td>\n",
       "      <td>0.0</td>\n",
       "      <td>1.0</td>\n",
       "      <td>0.0</td>\n",
       "      <td>0.0</td>\n",
       "      <td>4.0</td>\n",
       "      <td>2.4</td>\n",
       "      <td>4.0</td>\n",
       "      <td>4.0</td>\n",
       "      <td>2.8</td>\n",
       "      <td>3.6</td>\n",
       "      <td>3.0</td>\n",
       "      <td>2.7</td>\n",
       "      <td>3.6</td>\n",
       "      <td>3.7</td>\n",
       "      <td>2.4</td>\n",
       "      <td>3.3</td>\n",
       "      <td>2.9</td>\n",
       "      <td>2.4</td>\n",
       "      <td>2.0</td>\n",
       "      <td>2.3</td>\n",
       "      <td>1.9</td>\n",
       "      <td>2.1</td>\n",
       "      <td>1.8</td>\n",
       "      <td>2.5</td>\n",
       "    </tr>\n",
       "    <tr>\n",
       "      <th>12375406</th>\n",
       "      <td>0.0</td>\n",
       "      <td>1.0</td>\n",
       "      <td>2015.0</td>\n",
       "      <td>2009.0</td>\n",
       "      <td>6.0</td>\n",
       "      <td>0.0</td>\n",
       "      <td>1.0</td>\n",
       "      <td>0.0</td>\n",
       "      <td>0.0</td>\n",
       "      <td>0.0</td>\n",
       "      <td>0.0</td>\n",
       "      <td>2.5</td>\n",
       "      <td>2.0</td>\n",
       "      <td>2.5</td>\n",
       "      <td>3.0</td>\n",
       "      <td>2.5</td>\n",
       "      <td>2.5</td>\n",
       "      <td>3.0</td>\n",
       "      <td>2.5</td>\n",
       "      <td>2.5</td>\n",
       "      <td>2.5</td>\n",
       "      <td>2.9</td>\n",
       "      <td>3.0</td>\n",
       "      <td>3.0</td>\n",
       "      <td>3.0</td>\n",
       "      <td>2.5</td>\n",
       "      <td>2.5</td>\n",
       "      <td>2.0</td>\n",
       "      <td>1.0</td>\n",
       "      <td>2.0</td>\n",
       "      <td>2.0</td>\n",
       "    </tr>\n",
       "    <tr>\n",
       "      <th>11736906</th>\n",
       "      <td>0.0</td>\n",
       "      <td>1.0</td>\n",
       "      <td>2015.0</td>\n",
       "      <td>2009.0</td>\n",
       "      <td>6.0</td>\n",
       "      <td>1.0</td>\n",
       "      <td>0.0</td>\n",
       "      <td>0.0</td>\n",
       "      <td>0.0</td>\n",
       "      <td>0.0</td>\n",
       "      <td>0.0</td>\n",
       "      <td>4.0</td>\n",
       "      <td>4.0</td>\n",
       "      <td>4.0</td>\n",
       "      <td>4.0</td>\n",
       "      <td>4.0</td>\n",
       "      <td>4.0</td>\n",
       "      <td>3.8</td>\n",
       "      <td>3.1</td>\n",
       "      <td>2.6</td>\n",
       "      <td>3.7</td>\n",
       "      <td>3.7</td>\n",
       "      <td>2.8</td>\n",
       "      <td>3.8</td>\n",
       "      <td>3.0</td>\n",
       "      <td>2.5</td>\n",
       "      <td>3.2</td>\n",
       "      <td>2.9</td>\n",
       "      <td>1.1</td>\n",
       "      <td>2.8</td>\n",
       "      <td>2.5</td>\n",
       "    </tr>\n",
       "    <tr>\n",
       "      <th>12032306</th>\n",
       "      <td>0.0</td>\n",
       "      <td>1.0</td>\n",
       "      <td>2015.0</td>\n",
       "      <td>2007.0</td>\n",
       "      <td>8.0</td>\n",
       "      <td>0.0</td>\n",
       "      <td>1.0</td>\n",
       "      <td>0.0</td>\n",
       "      <td>0.0</td>\n",
       "      <td>0.0</td>\n",
       "      <td>0.0</td>\n",
       "      <td>4.0</td>\n",
       "      <td>4.0</td>\n",
       "      <td>4.0</td>\n",
       "      <td>4.0</td>\n",
       "      <td>4.0</td>\n",
       "      <td>4.0</td>\n",
       "      <td>3.0</td>\n",
       "      <td>3.2</td>\n",
       "      <td>2.7</td>\n",
       "      <td>3.7</td>\n",
       "      <td>3.2</td>\n",
       "      <td>3.8</td>\n",
       "      <td>3.8</td>\n",
       "      <td>2.5</td>\n",
       "      <td>2.6</td>\n",
       "      <td>3.0</td>\n",
       "      <td>2.8</td>\n",
       "      <td>1.4</td>\n",
       "      <td>2.3</td>\n",
       "      <td>3.6</td>\n",
       "    </tr>\n",
       "    <tr>\n",
       "      <th>15613006</th>\n",
       "      <td>0.0</td>\n",
       "      <td>1.0</td>\n",
       "      <td>2018.0</td>\n",
       "      <td>2009.0</td>\n",
       "      <td>9.0</td>\n",
       "      <td>1.0</td>\n",
       "      <td>1.0</td>\n",
       "      <td>0.0</td>\n",
       "      <td>0.0</td>\n",
       "      <td>0.0</td>\n",
       "      <td>0.0</td>\n",
       "      <td>1.0</td>\n",
       "      <td>2.5</td>\n",
       "      <td>1.0</td>\n",
       "      <td>2.5</td>\n",
       "      <td>1.5</td>\n",
       "      <td>2.0</td>\n",
       "      <td>1.5</td>\n",
       "      <td>1.5</td>\n",
       "      <td>1.0</td>\n",
       "      <td>3.0</td>\n",
       "      <td>1.5</td>\n",
       "      <td>2.5</td>\n",
       "      <td>2.0</td>\n",
       "      <td>2.5</td>\n",
       "      <td>1.5</td>\n",
       "      <td>2.5</td>\n",
       "      <td>1.5</td>\n",
       "      <td>1.8</td>\n",
       "      <td>2.0</td>\n",
       "      <td>1.5</td>\n",
       "    </tr>\n",
       "    <tr>\n",
       "      <th>...</th>\n",
       "      <td>...</td>\n",
       "      <td>...</td>\n",
       "      <td>...</td>\n",
       "      <td>...</td>\n",
       "      <td>...</td>\n",
       "      <td>...</td>\n",
       "      <td>...</td>\n",
       "      <td>...</td>\n",
       "      <td>...</td>\n",
       "      <td>...</td>\n",
       "      <td>...</td>\n",
       "      <td>...</td>\n",
       "      <td>...</td>\n",
       "      <td>...</td>\n",
       "      <td>...</td>\n",
       "      <td>...</td>\n",
       "      <td>...</td>\n",
       "      <td>...</td>\n",
       "      <td>...</td>\n",
       "      <td>...</td>\n",
       "      <td>...</td>\n",
       "      <td>...</td>\n",
       "      <td>...</td>\n",
       "      <td>...</td>\n",
       "      <td>...</td>\n",
       "      <td>...</td>\n",
       "      <td>...</td>\n",
       "      <td>...</td>\n",
       "      <td>...</td>\n",
       "      <td>...</td>\n",
       "      <td>...</td>\n",
       "    </tr>\n",
       "    <tr>\n",
       "      <th>19814506</th>\n",
       "      <td>0.0</td>\n",
       "      <td>1.0</td>\n",
       "      <td>2021.0</td>\n",
       "      <td>2021.0</td>\n",
       "      <td>0.0</td>\n",
       "      <td>1.0</td>\n",
       "      <td>1.0</td>\n",
       "      <td>1.0</td>\n",
       "      <td>1.0</td>\n",
       "      <td>0.0</td>\n",
       "      <td>0.0</td>\n",
       "      <td>4.0</td>\n",
       "      <td>3.2</td>\n",
       "      <td>3.8</td>\n",
       "      <td>4.0</td>\n",
       "      <td>3.8</td>\n",
       "      <td>4.0</td>\n",
       "      <td>4.0</td>\n",
       "      <td>3.6</td>\n",
       "      <td>4.0</td>\n",
       "      <td>4.0</td>\n",
       "      <td>4.0</td>\n",
       "      <td>4.0</td>\n",
       "      <td>3.7</td>\n",
       "      <td>3.7</td>\n",
       "      <td>4.0</td>\n",
       "      <td>4.0</td>\n",
       "      <td>3.5</td>\n",
       "      <td>1.1</td>\n",
       "      <td>2.2</td>\n",
       "      <td>2.3</td>\n",
       "    </tr>\n",
       "    <tr>\n",
       "      <th>11677106</th>\n",
       "      <td>0.0</td>\n",
       "      <td>1.0</td>\n",
       "      <td>2015.0</td>\n",
       "      <td>2003.0</td>\n",
       "      <td>12.0</td>\n",
       "      <td>0.0</td>\n",
       "      <td>1.0</td>\n",
       "      <td>0.0</td>\n",
       "      <td>0.0</td>\n",
       "      <td>0.0</td>\n",
       "      <td>0.0</td>\n",
       "      <td>4.0</td>\n",
       "      <td>2.5</td>\n",
       "      <td>1.0</td>\n",
       "      <td>4.0</td>\n",
       "      <td>4.0</td>\n",
       "      <td>4.0</td>\n",
       "      <td>2.8</td>\n",
       "      <td>3.1</td>\n",
       "      <td>2.5</td>\n",
       "      <td>3.0</td>\n",
       "      <td>2.5</td>\n",
       "      <td>3.0</td>\n",
       "      <td>2.5</td>\n",
       "      <td>2.5</td>\n",
       "      <td>2.4</td>\n",
       "      <td>2.9</td>\n",
       "      <td>2.0</td>\n",
       "      <td>1.8</td>\n",
       "      <td>1.9</td>\n",
       "      <td>2.6</td>\n",
       "    </tr>\n",
       "    <tr>\n",
       "      <th>13513806</th>\n",
       "      <td>0.0</td>\n",
       "      <td>1.0</td>\n",
       "      <td>2016.0</td>\n",
       "      <td>2006.0</td>\n",
       "      <td>10.0</td>\n",
       "      <td>0.0</td>\n",
       "      <td>1.0</td>\n",
       "      <td>0.0</td>\n",
       "      <td>0.0</td>\n",
       "      <td>0.0</td>\n",
       "      <td>0.0</td>\n",
       "      <td>4.0</td>\n",
       "      <td>4.0</td>\n",
       "      <td>1.0</td>\n",
       "      <td>4.0</td>\n",
       "      <td>4.0</td>\n",
       "      <td>4.0</td>\n",
       "      <td>3.1</td>\n",
       "      <td>3.0</td>\n",
       "      <td>2.8</td>\n",
       "      <td>3.3</td>\n",
       "      <td>2.5</td>\n",
       "      <td>3.2</td>\n",
       "      <td>2.6</td>\n",
       "      <td>2.5</td>\n",
       "      <td>2.4</td>\n",
       "      <td>2.9</td>\n",
       "      <td>1.9</td>\n",
       "      <td>1.4</td>\n",
       "      <td>1.8</td>\n",
       "      <td>3.1</td>\n",
       "    </tr>\n",
       "    <tr>\n",
       "      <th>12979706</th>\n",
       "      <td>0.0</td>\n",
       "      <td>1.0</td>\n",
       "      <td>2016.0</td>\n",
       "      <td>2009.0</td>\n",
       "      <td>7.0</td>\n",
       "      <td>1.0</td>\n",
       "      <td>1.0</td>\n",
       "      <td>0.0</td>\n",
       "      <td>0.0</td>\n",
       "      <td>0.0</td>\n",
       "      <td>0.0</td>\n",
       "      <td>1.0</td>\n",
       "      <td>3.0</td>\n",
       "      <td>1.0</td>\n",
       "      <td>3.0</td>\n",
       "      <td>1.0</td>\n",
       "      <td>1.5</td>\n",
       "      <td>1.0</td>\n",
       "      <td>2.5</td>\n",
       "      <td>1.0</td>\n",
       "      <td>1.5</td>\n",
       "      <td>3.0</td>\n",
       "      <td>2.0</td>\n",
       "      <td>2.0</td>\n",
       "      <td>3.0</td>\n",
       "      <td>2.5</td>\n",
       "      <td>2.5</td>\n",
       "      <td>2.0</td>\n",
       "      <td>2.5</td>\n",
       "      <td>1.5</td>\n",
       "      <td>2.5</td>\n",
       "    </tr>\n",
       "    <tr>\n",
       "      <th>11740806</th>\n",
       "      <td>0.0</td>\n",
       "      <td>1.0</td>\n",
       "      <td>2015.0</td>\n",
       "      <td>2007.0</td>\n",
       "      <td>8.0</td>\n",
       "      <td>1.0</td>\n",
       "      <td>0.0</td>\n",
       "      <td>0.0</td>\n",
       "      <td>0.0</td>\n",
       "      <td>0.0</td>\n",
       "      <td>0.0</td>\n",
       "      <td>2.0</td>\n",
       "      <td>2.0</td>\n",
       "      <td>1.0</td>\n",
       "      <td>2.5</td>\n",
       "      <td>1.5</td>\n",
       "      <td>2.0</td>\n",
       "      <td>3.0</td>\n",
       "      <td>1.5</td>\n",
       "      <td>3.0</td>\n",
       "      <td>4.0</td>\n",
       "      <td>4.0</td>\n",
       "      <td>4.0</td>\n",
       "      <td>4.0</td>\n",
       "      <td>2.9</td>\n",
       "      <td>4.0</td>\n",
       "      <td>4.0</td>\n",
       "      <td>3.2</td>\n",
       "      <td>1.7</td>\n",
       "      <td>1.6</td>\n",
       "      <td>4.0</td>\n",
       "    </tr>\n",
       "  </tbody>\n",
       "</table>\n",
       "<p>4081 rows × 31 columns</p>\n",
       "</div>"
      ],
      "text/plain": [
       "            pohlavi_kod  je_cech  datum_zahajeni  rok_maturity  \\\n",
       "studium_id                                                       \n",
       "19374606            0.0      1.0          2021.0        2009.0   \n",
       "12375406            0.0      1.0          2015.0        2009.0   \n",
       "11736906            0.0      1.0          2015.0        2009.0   \n",
       "12032306            0.0      1.0          2015.0        2007.0   \n",
       "15613006            0.0      1.0          2018.0        2009.0   \n",
       "...                 ...      ...             ...           ...   \n",
       "19814506            0.0      1.0          2021.0        2021.0   \n",
       "11677106            0.0      1.0          2015.0        2003.0   \n",
       "13513806            0.0      1.0          2016.0        2006.0   \n",
       "12979706            0.0      1.0          2016.0        2009.0   \n",
       "11740806            0.0      1.0          2015.0        2007.0   \n",
       "\n",
       "            maturita_nastup_rozdil  gymnazium  praha  scio  olym  zkouska  \\\n",
       "studium_id                                                                  \n",
       "19374606                      12.0        1.0    0.0   0.0   1.0      0.0   \n",
       "12375406                       6.0        0.0    1.0   0.0   0.0      0.0   \n",
       "11736906                       6.0        1.0    0.0   0.0   0.0      0.0   \n",
       "12032306                       8.0        0.0    1.0   0.0   0.0      0.0   \n",
       "15613006                       9.0        1.0    1.0   0.0   0.0      0.0   \n",
       "...                            ...        ...    ...   ...   ...      ...   \n",
       "19814506                       0.0        1.0    1.0   1.0   1.0      0.0   \n",
       "11677106                      12.0        0.0    1.0   0.0   0.0      0.0   \n",
       "13513806                      10.0        0.0    1.0   0.0   0.0      0.0   \n",
       "12979706                       7.0        1.0    1.0   0.0   0.0      0.0   \n",
       "11740806                       8.0        1.0    0.0   0.0   0.0      0.0   \n",
       "\n",
       "            prominuti  BI-PA1  BI-PAI  BI-CAO  BI-PS1  BI-MLO  BI-ZMA  BI-PA2  \\\n",
       "studium_id                                                                      \n",
       "19374606          0.0     4.0     2.4     4.0     4.0     2.8     3.6     3.0   \n",
       "12375406          0.0     2.5     2.0     2.5     3.0     2.5     2.5     3.0   \n",
       "11736906          0.0     4.0     4.0     4.0     4.0     4.0     4.0     3.8   \n",
       "12032306          0.0     4.0     4.0     4.0     4.0     4.0     4.0     3.0   \n",
       "15613006          0.0     1.0     2.5     1.0     2.5     1.5     2.0     1.5   \n",
       "...               ...     ...     ...     ...     ...     ...     ...     ...   \n",
       "19814506          0.0     4.0     3.2     3.8     4.0     3.8     4.0     4.0   \n",
       "11677106          0.0     4.0     2.5     1.0     4.0     4.0     4.0     2.8   \n",
       "13513806          0.0     4.0     4.0     1.0     4.0     4.0     4.0     3.1   \n",
       "12979706          0.0     1.0     3.0     1.0     3.0     1.0     1.5     1.0   \n",
       "11740806          0.0     2.0     2.0     1.0     2.5     1.5     2.0     3.0   \n",
       "\n",
       "            BI-DBS  BI-SAP  BI-LIN  BI-AG1  BI-AAG  BI-ZDM  BI-OSY  BI-PSI  \\\n",
       "studium_id                                                                   \n",
       "19374606       2.7     3.6     3.7     2.4     3.3     2.9     2.4     2.0   \n",
       "12375406       2.5     2.5     2.5     2.9     3.0     3.0     3.0     2.5   \n",
       "11736906       3.1     2.6     3.7     3.7     2.8     3.8     3.0     2.5   \n",
       "12032306       3.2     2.7     3.7     3.2     3.8     3.8     2.5     2.6   \n",
       "15613006       1.5     1.0     3.0     1.5     2.5     2.0     2.5     1.5   \n",
       "...            ...     ...     ...     ...     ...     ...     ...     ...   \n",
       "19814506       3.6     4.0     4.0     4.0     4.0     3.7     3.7     4.0   \n",
       "11677106       3.1     2.5     3.0     2.5     3.0     2.5     2.5     2.4   \n",
       "13513806       3.0     2.8     3.3     2.5     3.2     2.6     2.5     2.4   \n",
       "12979706       2.5     1.0     1.5     3.0     2.0     2.0     3.0     2.5   \n",
       "11740806       1.5     3.0     4.0     4.0     4.0     4.0     2.9     4.0   \n",
       "\n",
       "            BI-BEZ  BI-PST  BI-DPR  BI-SI1.2  BI-EMP  \n",
       "studium_id                                            \n",
       "19374606       2.3     1.9     2.1       1.8     2.5  \n",
       "12375406       2.5     2.0     1.0       2.0     2.0  \n",
       "11736906       3.2     2.9     1.1       2.8     2.5  \n",
       "12032306       3.0     2.8     1.4       2.3     3.6  \n",
       "15613006       2.5     1.5     1.8       2.0     1.5  \n",
       "...            ...     ...     ...       ...     ...  \n",
       "19814506       4.0     3.5     1.1       2.2     2.3  \n",
       "11677106       2.9     2.0     1.8       1.9     2.6  \n",
       "13513806       2.9     1.9     1.4       1.8     3.1  \n",
       "12979706       2.5     2.0     2.5       1.5     2.5  \n",
       "11740806       4.0     3.2     1.7       1.6     4.0  \n",
       "\n",
       "[4081 rows x 31 columns]"
      ]
     },
     "execution_count": 7,
     "metadata": {},
     "output_type": "execute_result"
    }
   ],
   "source": [
    "matrix"
   ]
  },
  {
   "cell_type": "markdown",
   "id": "molecular-organization",
   "metadata": {},
   "source": [
    "## Rozdělení datasetu"
   ]
  },
  {
   "cell_type": "code",
   "execution_count": 8,
   "id": "governmental-testament",
   "metadata": {},
   "outputs": [],
   "source": [
    "train, test = train_test_split(matrix, test_size=0.2)"
   ]
  },
  {
   "cell_type": "markdown",
   "id": "incorporated-occurrence",
   "metadata": {},
   "source": [
    "## Nastavení param_grid "
   ]
  },
  {
   "cell_type": "code",
   "execution_count": 9,
   "id": "white-grove",
   "metadata": {},
   "outputs": [],
   "source": [
    "param_grid = {\n",
    "    'n_neighbors' : range(5, 20), # Počet nejbližších sousedů\n",
    "    'weights' : ['uniform', 'distance']\n",
    "}\n",
    "param_comb = ParameterGrid(param_grid)"
   ]
  },
  {
   "cell_type": "markdown",
   "id": "religious-diabetes",
   "metadata": {},
   "source": [
    "## PA1"
   ]
  },
  {
   "cell_type": "code",
   "execution_count": 10,
   "id": "continued-semester",
   "metadata": {},
   "outputs": [],
   "source": [
    "Xtrain_pa1 = train.drop(columns='BI-PA1')\n",
    "ytrain_pa1 = train['BI-PA1']\n",
    "\n",
    "Xtest_pa1 = test.drop(columns='BI-PA1')\n",
    "ytest_pa1 = test['BI-PA1']"
   ]
  },
  {
   "cell_type": "code",
   "execution_count": 11,
   "id": "early-feedback",
   "metadata": {},
   "outputs": [],
   "source": [
    "knn_pa1 = GridSearchCV(KNeighborsRegressor(), param_grid)"
   ]
  },
  {
   "cell_type": "code",
   "execution_count": 12,
   "id": "amazing-siemens",
   "metadata": {},
   "outputs": [
    {
     "data": {
      "text/plain": [
       "GridSearchCV(estimator=KNeighborsRegressor(),\n",
       "             param_grid={'n_neighbors': range(5, 20),\n",
       "                         'weights': ['uniform', 'distance']})"
      ]
     },
     "execution_count": 12,
     "metadata": {},
     "output_type": "execute_result"
    }
   ],
   "source": [
    "knn_pa1.fit(Xtrain_pa1, ytrain_pa1)"
   ]
  },
  {
   "cell_type": "code",
   "execution_count": 13,
   "id": "hollow-acting",
   "metadata": {},
   "outputs": [
    {
     "name": "stdout",
     "output_type": "stream",
     "text": [
      "{'n_neighbors': 11, 'weights': 'distance'}\n"
     ]
    }
   ],
   "source": [
    "print(knn_pa1.best_params_)"
   ]
  },
  {
   "cell_type": "code",
   "execution_count": 14,
   "id": "conditional-physiology",
   "metadata": {},
   "outputs": [],
   "source": [
    "train_pa1_err = np.sqrt(mean_squared_error(knn_pa1.predict(Xtrain_pa1), np.array(ytrain_pa1)))\n",
    "test_pa1_err = np.sqrt(mean_squared_error(knn_pa1.predict(Xtest_pa1), np.array(ytest_pa1)))"
   ]
  },
  {
   "cell_type": "code",
   "execution_count": 15,
   "id": "golden-playback",
   "metadata": {},
   "outputs": [
    {
     "name": "stdout",
     "output_type": "stream",
     "text": [
      "RMSE reg (train): 0.0\n",
      "RMSE reg (test): 0.5122209146223671\n"
     ]
    }
   ],
   "source": [
    "print('RMSE reg (train):', train_pa1_err)\n",
    "print('RMSE reg (test):', test_pa1_err)"
   ]
  },
  {
   "cell_type": "markdown",
   "id": "norwegian-uniform",
   "metadata": {},
   "source": [
    "## PAI"
   ]
  },
  {
   "cell_type": "code",
   "execution_count": 16,
   "id": "pleased-russell",
   "metadata": {},
   "outputs": [],
   "source": [
    "Xtrain_pai = train.drop(columns='BI-PAI')\n",
    "ytrain_pai = train['BI-PAI']\n",
    "\n",
    "Xtest_pai = test.drop(columns='BI-PAI')\n",
    "ytest_pai = test['BI-PAI']"
   ]
  },
  {
   "cell_type": "code",
   "execution_count": 17,
   "id": "adolescent-harvey",
   "metadata": {},
   "outputs": [],
   "source": [
    "knn_pai = GridSearchCV(KNeighborsRegressor(), param_grid, cv=5)"
   ]
  },
  {
   "cell_type": "code",
   "execution_count": 18,
   "id": "mechanical-interstate",
   "metadata": {},
   "outputs": [
    {
     "data": {
      "text/plain": [
       "GridSearchCV(cv=5, estimator=KNeighborsRegressor(),\n",
       "             param_grid={'n_neighbors': range(5, 20),\n",
       "                         'weights': ['uniform', 'distance']})"
      ]
     },
     "execution_count": 18,
     "metadata": {},
     "output_type": "execute_result"
    }
   ],
   "source": [
    "knn_pai.fit(Xtrain_pai, ytrain_pai)"
   ]
  },
  {
   "cell_type": "code",
   "execution_count": 19,
   "id": "contrary-affect",
   "metadata": {},
   "outputs": [],
   "source": [
    "train_pai_err = np.sqrt(mean_squared_error(knn_pai.predict(Xtrain_pai), np.array(ytrain_pai)))\n",
    "test_pai_err = np.sqrt(mean_squared_error(knn_pai.predict(Xtest_pai), np.array(ytest_pai)))"
   ]
  },
  {
   "cell_type": "code",
   "execution_count": 20,
   "id": "white-advisory",
   "metadata": {},
   "outputs": [
    {
     "name": "stdout",
     "output_type": "stream",
     "text": [
      "RMSE reg (train): 0.012376844287208429\n",
      "RMSE reg (test): 0.4654611515622157\n"
     ]
    }
   ],
   "source": [
    "print('RMSE reg (train):', train_pai_err)\n",
    "print('RMSE reg (test):', test_pai_err)"
   ]
  },
  {
   "cell_type": "markdown",
   "id": "quality-insulin",
   "metadata": {},
   "source": [
    "## ZMA"
   ]
  },
  {
   "cell_type": "code",
   "execution_count": 21,
   "id": "behind-surprise",
   "metadata": {},
   "outputs": [],
   "source": [
    "Xtrain_zma = train.drop(columns='BI-ZMA')\n",
    "ytrain_zma = train['BI-ZMA']\n",
    "\n",
    "Xtest_zma = test.drop(columns='BI-ZMA')\n",
    "ytest_zma = test['BI-ZMA']"
   ]
  },
  {
   "cell_type": "code",
   "execution_count": 22,
   "id": "functional-child",
   "metadata": {},
   "outputs": [],
   "source": [
    "knn_zma = GridSearchCV(KNeighborsRegressor(), param_grid, cv=5)"
   ]
  },
  {
   "cell_type": "code",
   "execution_count": 23,
   "id": "sustainable-dealing",
   "metadata": {},
   "outputs": [
    {
     "data": {
      "text/plain": [
       "GridSearchCV(cv=5, estimator=KNeighborsRegressor(),\n",
       "             param_grid={'n_neighbors': range(5, 20),\n",
       "                         'weights': ['uniform', 'distance']})"
      ]
     },
     "execution_count": 23,
     "metadata": {},
     "output_type": "execute_result"
    }
   ],
   "source": [
    "knn_zma.fit(Xtrain_zma, ytrain_zma)"
   ]
  },
  {
   "cell_type": "code",
   "execution_count": 24,
   "id": "seeing-bernard",
   "metadata": {},
   "outputs": [],
   "source": [
    "train_zma_err = np.sqrt(mean_squared_error(knn_zma.predict(Xtrain_zma), np.array(ytrain_zma)))\n",
    "test_zma_err = np.sqrt(mean_squared_error(knn_zma.predict(Xtest_zma), np.array(ytest_zma)))"
   ]
  },
  {
   "cell_type": "code",
   "execution_count": 25,
   "id": "federal-charlotte",
   "metadata": {},
   "outputs": [
    {
     "name": "stdout",
     "output_type": "stream",
     "text": [
      "RMSE reg (train): 0.0\n",
      "RMSE reg (test): 0.512373190284474\n"
     ]
    }
   ],
   "source": [
    "print('RMSE reg (train):', train_zma_err)\n",
    "print('RMSE reg (test):', test_zma_err)"
   ]
  },
  {
   "cell_type": "markdown",
   "id": "correct-picking",
   "metadata": {},
   "source": [
    "## MLO"
   ]
  },
  {
   "cell_type": "code",
   "execution_count": 26,
   "id": "sacred-battery",
   "metadata": {},
   "outputs": [],
   "source": [
    "Xtrain_mlo = train.drop(columns='BI-MLO')\n",
    "ytrain_mlo = train['BI-MLO']\n",
    "\n",
    "Xtest_mlo = test.drop(columns='BI-MLO')\n",
    "ytest_mlo = test['BI-MLO']"
   ]
  },
  {
   "cell_type": "code",
   "execution_count": 27,
   "id": "blocked-treatment",
   "metadata": {},
   "outputs": [],
   "source": [
    "knn_mlo = GridSearchCV(KNeighborsRegressor(), param_grid, cv=5)"
   ]
  },
  {
   "cell_type": "code",
   "execution_count": 28,
   "id": "equivalent-crown",
   "metadata": {},
   "outputs": [
    {
     "data": {
      "text/plain": [
       "GridSearchCV(cv=5, estimator=KNeighborsRegressor(),\n",
       "             param_grid={'n_neighbors': range(5, 20),\n",
       "                         'weights': ['uniform', 'distance']})"
      ]
     },
     "execution_count": 28,
     "metadata": {},
     "output_type": "execute_result"
    }
   ],
   "source": [
    "knn_mlo.fit(Xtrain_mlo, ytrain_mlo)"
   ]
  },
  {
   "cell_type": "code",
   "execution_count": 29,
   "id": "understanding-shadow",
   "metadata": {},
   "outputs": [],
   "source": [
    "train_mlo_err = np.sqrt(mean_squared_error(knn_mlo.predict(Xtrain_mlo), np.array(ytrain_mlo)))\n",
    "test_mlo_err = np.sqrt(mean_squared_error(knn_mlo.predict(Xtest_mlo), np.array(ytest_mlo)))"
   ]
  },
  {
   "cell_type": "code",
   "execution_count": 30,
   "id": "contemporary-recognition",
   "metadata": {},
   "outputs": [
    {
     "name": "stdout",
     "output_type": "stream",
     "text": [
      "RMSE reg (train): 0.0\n",
      "RMSE reg (test): 0.52766071511944\n"
     ]
    }
   ],
   "source": [
    "print('RMSE reg (train):', train_mlo_err)\n",
    "print('RMSE reg (test):', test_mlo_err)"
   ]
  },
  {
   "cell_type": "markdown",
   "id": "subjective-concept",
   "metadata": {},
   "source": [
    "## CAO"
   ]
  },
  {
   "cell_type": "code",
   "execution_count": 31,
   "id": "waiting-dryer",
   "metadata": {},
   "outputs": [],
   "source": [
    "Xtrain_cao = train.drop(columns='BI-CAO')\n",
    "ytrain_cao = train['BI-CAO']\n",
    "\n",
    "Xtest_cao = test.drop(columns='BI-CAO')\n",
    "ytest_cao = test['BI-CAO']"
   ]
  },
  {
   "cell_type": "code",
   "execution_count": 32,
   "id": "dense-yeast",
   "metadata": {},
   "outputs": [],
   "source": [
    "knn_cao = GridSearchCV(KNeighborsRegressor(), param_grid, cv=5)"
   ]
  },
  {
   "cell_type": "code",
   "execution_count": 33,
   "id": "elder-coalition",
   "metadata": {},
   "outputs": [
    {
     "data": {
      "text/plain": [
       "GridSearchCV(cv=5, estimator=KNeighborsRegressor(),\n",
       "             param_grid={'n_neighbors': range(5, 20),\n",
       "                         'weights': ['uniform', 'distance']})"
      ]
     },
     "execution_count": 33,
     "metadata": {},
     "output_type": "execute_result"
    }
   ],
   "source": [
    "knn_cao.fit(Xtrain_cao, ytrain_cao)"
   ]
  },
  {
   "cell_type": "code",
   "execution_count": 34,
   "id": "broadband-knowing",
   "metadata": {},
   "outputs": [],
   "source": [
    "train_cao_err = np.sqrt(mean_squared_error(knn_cao.predict(Xtrain_cao), np.array(ytrain_cao)))\n",
    "test_cao_err = np.sqrt(mean_squared_error(knn_cao.predict(Xtest_cao), np.array(ytest_cao)))"
   ]
  },
  {
   "cell_type": "code",
   "execution_count": 35,
   "id": "liberal-smith",
   "metadata": {},
   "outputs": [
    {
     "name": "stdout",
     "output_type": "stream",
     "text": [
      "RMSE reg (train): 0.024753688574416857\n",
      "RMSE reg (test): 0.5927173290722959\n"
     ]
    }
   ],
   "source": [
    "print('RMSE reg (train):', train_cao_err)\n",
    "print('RMSE reg (test):', test_cao_err)"
   ]
  },
  {
   "cell_type": "markdown",
   "id": "defined-albany",
   "metadata": {},
   "source": [
    "## PS1"
   ]
  },
  {
   "cell_type": "code",
   "execution_count": 36,
   "id": "monetary-miller",
   "metadata": {},
   "outputs": [],
   "source": [
    "Xtrain_ps1 = train.drop(columns='BI-PS1')\n",
    "ytrain_ps1 = train['BI-PS1']\n",
    "\n",
    "Xtest_ps1 = test.drop(columns='BI-PS1')\n",
    "ytest_ps1 = test['BI-PS1']"
   ]
  },
  {
   "cell_type": "code",
   "execution_count": 37,
   "id": "plastic-thesaurus",
   "metadata": {},
   "outputs": [],
   "source": [
    "knn_ps1 = GridSearchCV(KNeighborsRegressor(), param_grid, cv=5)"
   ]
  },
  {
   "cell_type": "code",
   "execution_count": 38,
   "id": "shared-teddy",
   "metadata": {},
   "outputs": [
    {
     "data": {
      "text/plain": [
       "GridSearchCV(cv=5, estimator=KNeighborsRegressor(),\n",
       "             param_grid={'n_neighbors': range(5, 20),\n",
       "                         'weights': ['uniform', 'distance']})"
      ]
     },
     "execution_count": 38,
     "metadata": {},
     "output_type": "execute_result"
    }
   ],
   "source": [
    "knn_ps1.fit(Xtrain_ps1, ytrain_ps1)"
   ]
  },
  {
   "cell_type": "code",
   "execution_count": 39,
   "id": "sonic-multiple",
   "metadata": {},
   "outputs": [],
   "source": [
    "train_ps1_err = np.sqrt(mean_squared_error(knn_ps1.predict(Xtrain_ps1), np.array(ytrain_ps1)))\n",
    "test_ps1_err = np.sqrt(mean_squared_error(knn_ps1.predict(Xtest_ps1), np.array(ytest_ps1)))"
   ]
  },
  {
   "cell_type": "code",
   "execution_count": 40,
   "id": "exempt-classification",
   "metadata": {},
   "outputs": [
    {
     "name": "stdout",
     "output_type": "stream",
     "text": [
      "RMSE reg (train): 0.0\n",
      "RMSE reg (test): 0.5283408707791104\n"
     ]
    }
   ],
   "source": [
    "print('RMSE reg (train):', train_ps1_err)\n",
    "print('RMSE reg (test):', test_ps1_err)"
   ]
  },
  {
   "cell_type": "markdown",
   "id": "italic-hardwood",
   "metadata": {},
   "source": [
    "## PA2"
   ]
  },
  {
   "cell_type": "code",
   "execution_count": 41,
   "id": "cleared-parade",
   "metadata": {},
   "outputs": [],
   "source": [
    "Xtrain_pa2 = train.drop(columns='BI-PA2')\n",
    "ytrain_pa2 = train['BI-PA2']\n",
    "\n",
    "Xtest_pa2 = test.drop(columns='BI-PA2')\n",
    "ytest_pa2 = test['BI-PA2']"
   ]
  },
  {
   "cell_type": "code",
   "execution_count": 42,
   "id": "intensive-water",
   "metadata": {},
   "outputs": [],
   "source": [
    "knn_pa2 = GridSearchCV(KNeighborsRegressor(), param_grid, cv=5)"
   ]
  },
  {
   "cell_type": "code",
   "execution_count": 43,
   "id": "fossil-venezuela",
   "metadata": {},
   "outputs": [
    {
     "data": {
      "text/plain": [
       "GridSearchCV(cv=5, estimator=KNeighborsRegressor(),\n",
       "             param_grid={'n_neighbors': range(5, 20),\n",
       "                         'weights': ['uniform', 'distance']})"
      ]
     },
     "execution_count": 43,
     "metadata": {},
     "output_type": "execute_result"
    }
   ],
   "source": [
    "knn_pa2.fit(Xtrain_pa2, ytrain_pa2)"
   ]
  },
  {
   "cell_type": "code",
   "execution_count": 44,
   "id": "robust-inspection",
   "metadata": {},
   "outputs": [],
   "source": [
    "train_pa2_err = np.sqrt(mean_squared_error(knn_ps1.predict(Xtrain_pa2), np.array(ytrain_pa2)))\n",
    "test_pa2_err = np.sqrt(mean_squared_error(knn_ps1.predict(Xtest_pa2), np.array(ytest_pa2)))"
   ]
  },
  {
   "cell_type": "code",
   "execution_count": 45,
   "id": "ceramic-appeal",
   "metadata": {},
   "outputs": [
    {
     "name": "stdout",
     "output_type": "stream",
     "text": [
      "RMSE reg (train): 0.6608506870180393\n",
      "RMSE reg (test): 0.6675654436014623\n"
     ]
    }
   ],
   "source": [
    "print('RMSE reg (train):', train_pa2_err)\n",
    "print('RMSE reg (test):', test_pa2_err)"
   ]
  },
  {
   "cell_type": "markdown",
   "id": "military-philosophy",
   "metadata": {},
   "source": [
    "## LIN"
   ]
  },
  {
   "cell_type": "code",
   "execution_count": 46,
   "id": "colonial-recall",
   "metadata": {},
   "outputs": [],
   "source": [
    "Xtrain_lin = train.drop(columns='BI-LIN')\n",
    "ytrain_lin = train['BI-LIN']\n",
    "\n",
    "Xtest_lin = test.drop(columns='BI-LIN')\n",
    "ytest_lin = test['BI-LIN']"
   ]
  },
  {
   "cell_type": "code",
   "execution_count": 47,
   "id": "japanese-sheep",
   "metadata": {},
   "outputs": [],
   "source": [
    "knn_lin = GridSearchCV(KNeighborsRegressor(), param_grid, cv=5)"
   ]
  },
  {
   "cell_type": "code",
   "execution_count": 48,
   "id": "three-mailman",
   "metadata": {},
   "outputs": [
    {
     "data": {
      "text/plain": [
       "GridSearchCV(cv=5, estimator=KNeighborsRegressor(),\n",
       "             param_grid={'n_neighbors': range(5, 20),\n",
       "                         'weights': ['uniform', 'distance']})"
      ]
     },
     "execution_count": 48,
     "metadata": {},
     "output_type": "execute_result"
    }
   ],
   "source": [
    "knn_lin.fit(Xtrain_lin, ytrain_lin)"
   ]
  },
  {
   "cell_type": "code",
   "execution_count": 49,
   "id": "anticipated-rendering",
   "metadata": {},
   "outputs": [],
   "source": [
    "train_lin_err = np.sqrt(mean_squared_error(knn_lin.predict(Xtrain_lin), np.array(ytrain_lin)))\n",
    "test_lin_err = np.sqrt(mean_squared_error(knn_lin.predict(Xtest_lin), np.array(ytest_lin)))"
   ]
  },
  {
   "cell_type": "code",
   "execution_count": 50,
   "id": "polar-japan",
   "metadata": {},
   "outputs": [
    {
     "name": "stdout",
     "output_type": "stream",
     "text": [
      "RMSE reg (train): 3.808033558317022e-17\n",
      "RMSE reg (test): 0.3693894560728406\n"
     ]
    }
   ],
   "source": [
    "print('RMSE reg (train):', train_lin_err)\n",
    "print('RMSE reg (test):', test_lin_err)"
   ]
  },
  {
   "cell_type": "markdown",
   "id": "abroad-peace",
   "metadata": {},
   "source": [
    "## DBS"
   ]
  },
  {
   "cell_type": "code",
   "execution_count": 51,
   "id": "endangered-still",
   "metadata": {},
   "outputs": [],
   "source": [
    "Xtrain_dbs = train.drop(columns='BI-DBS')\n",
    "ytrain_dbs = train['BI-DBS']\n",
    "\n",
    "Xtest_dbs = test.drop(columns='BI-DBS')\n",
    "ytest_dbs = test['BI-DBS']"
   ]
  },
  {
   "cell_type": "code",
   "execution_count": 52,
   "id": "academic-austria",
   "metadata": {},
   "outputs": [],
   "source": [
    "knn_dbs = GridSearchCV(KNeighborsRegressor(), param_grid, cv=5)"
   ]
  },
  {
   "cell_type": "code",
   "execution_count": 53,
   "id": "sunset-pharmaceutical",
   "metadata": {},
   "outputs": [
    {
     "data": {
      "text/plain": [
       "GridSearchCV(cv=5, estimator=KNeighborsRegressor(),\n",
       "             param_grid={'n_neighbors': range(5, 20),\n",
       "                         'weights': ['uniform', 'distance']})"
      ]
     },
     "execution_count": 53,
     "metadata": {},
     "output_type": "execute_result"
    }
   ],
   "source": [
    "knn_dbs.fit(Xtrain_dbs, ytrain_dbs)"
   ]
  },
  {
   "cell_type": "code",
   "execution_count": 54,
   "id": "written-business",
   "metadata": {},
   "outputs": [],
   "source": [
    "train_dbs_err = np.sqrt(mean_squared_error(knn_dbs.predict(Xtrain_dbs), np.array(ytrain_dbs)))\n",
    "test_dbs_err = np.sqrt(mean_squared_error(knn_dbs.predict(Xtest_dbs), np.array(ytest_dbs)))"
   ]
  },
  {
   "cell_type": "code",
   "execution_count": 55,
   "id": "living-hamilton",
   "metadata": {},
   "outputs": [
    {
     "name": "stdout",
     "output_type": "stream",
     "text": [
      "RMSE reg (train): 6.95248626542299e-17\n",
      "RMSE reg (test): 0.5004322136615167\n"
     ]
    }
   ],
   "source": [
    "print('RMSE reg (train):', train_dbs_err)\n",
    "print('RMSE reg (test):', test_dbs_err)"
   ]
  },
  {
   "cell_type": "markdown",
   "id": "confirmed-pressure",
   "metadata": {},
   "source": [
    "## SAP"
   ]
  },
  {
   "cell_type": "code",
   "execution_count": 56,
   "id": "sized-attribute",
   "metadata": {},
   "outputs": [],
   "source": [
    "Xtrain_sap = train.drop(columns='BI-SAP')\n",
    "ytrain_sap = train['BI-SAP']\n",
    "\n",
    "Xtest_sap = test.drop(columns='BI-SAP')\n",
    "ytest_sap = test['BI-SAP']"
   ]
  },
  {
   "cell_type": "code",
   "execution_count": 57,
   "id": "crazy-delta",
   "metadata": {},
   "outputs": [],
   "source": [
    "knn_sap = GridSearchCV(KNeighborsRegressor(), param_grid, cv=5)"
   ]
  },
  {
   "cell_type": "code",
   "execution_count": 58,
   "id": "formal-cigarette",
   "metadata": {},
   "outputs": [
    {
     "data": {
      "text/plain": [
       "GridSearchCV(cv=5, estimator=KNeighborsRegressor(),\n",
       "             param_grid={'n_neighbors': range(5, 20),\n",
       "                         'weights': ['uniform', 'distance']})"
      ]
     },
     "execution_count": 58,
     "metadata": {},
     "output_type": "execute_result"
    }
   ],
   "source": [
    "knn_sap.fit(Xtrain_sap, ytrain_sap)"
   ]
  },
  {
   "cell_type": "code",
   "execution_count": 59,
   "id": "earned-shore",
   "metadata": {},
   "outputs": [],
   "source": [
    "train_sap_err = np.sqrt(mean_squared_error(knn_sap.predict(Xtrain_sap), np.array(ytrain_sap)))\n",
    "test_sap_err = np.sqrt(mean_squared_error(knn_sap.predict(Xtest_sap), np.array(ytest_sap)))"
   ]
  },
  {
   "cell_type": "code",
   "execution_count": 60,
   "id": "polish-disabled",
   "metadata": {},
   "outputs": [
    {
     "name": "stdout",
     "output_type": "stream",
     "text": [
      "RMSE reg (train): 1.3508235317673063e-16\n",
      "RMSE reg (test): 0.6130782625090496\n"
     ]
    }
   ],
   "source": [
    "print('RMSE reg (train):', train_sap_err)\n",
    "print('RMSE reg (test):', test_sap_err)"
   ]
  },
  {
   "cell_type": "markdown",
   "id": "applied-colombia",
   "metadata": {},
   "source": [
    "## AAG"
   ]
  },
  {
   "cell_type": "code",
   "execution_count": 61,
   "id": "round-inflation",
   "metadata": {},
   "outputs": [],
   "source": [
    "Xtrain_aag = train.drop(columns='BI-AAG')\n",
    "ytrain_aag = train['BI-AAG']\n",
    "\n",
    "Xtest_aag = test.drop(columns='BI-AAG')\n",
    "ytest_aag = test['BI-AAG']"
   ]
  },
  {
   "cell_type": "code",
   "execution_count": 62,
   "id": "looking-philippines",
   "metadata": {},
   "outputs": [],
   "source": [
    "knn_aag = GridSearchCV(KNeighborsRegressor(), param_grid, cv=5)"
   ]
  },
  {
   "cell_type": "code",
   "execution_count": 63,
   "id": "immune-allen",
   "metadata": {},
   "outputs": [
    {
     "data": {
      "text/plain": [
       "GridSearchCV(cv=5, estimator=KNeighborsRegressor(),\n",
       "             param_grid={'n_neighbors': range(5, 20),\n",
       "                         'weights': ['uniform', 'distance']})"
      ]
     },
     "execution_count": 63,
     "metadata": {},
     "output_type": "execute_result"
    }
   ],
   "source": [
    "knn_aag.fit(Xtrain_aag, ytrain_aag)"
   ]
  },
  {
   "cell_type": "code",
   "execution_count": 64,
   "id": "forced-dairy",
   "metadata": {},
   "outputs": [],
   "source": [
    "train_aag_err = np.sqrt(mean_squared_error(knn_aag.predict(Xtrain_aag), np.array(ytrain_aag)))\n",
    "test_aag_err = np.sqrt(mean_squared_error(knn_aag.predict(Xtest_aag), np.array(ytest_aag)))"
   ]
  },
  {
   "cell_type": "code",
   "execution_count": 65,
   "id": "stone-failing",
   "metadata": {},
   "outputs": [
    {
     "name": "stdout",
     "output_type": "stream",
     "text": [
      "RMSE reg (train): 1.2412670766236366e-16\n",
      "RMSE reg (test): 0.40980276812693833\n"
     ]
    }
   ],
   "source": [
    "print('RMSE reg (train):', train_aag_err)\n",
    "print('RMSE reg (test):', test_aag_err)"
   ]
  },
  {
   "cell_type": "markdown",
   "id": "drawn-virgin",
   "metadata": {},
   "source": [
    "## AG1"
   ]
  },
  {
   "cell_type": "code",
   "execution_count": 66,
   "id": "orange-alaska",
   "metadata": {},
   "outputs": [],
   "source": [
    "Xtrain_ag1 = train.drop(columns='BI-AG1')\n",
    "ytrain_ag1 = train['BI-AG1']\n",
    "\n",
    "Xtest_ag1 = test.drop(columns='BI-AG1')\n",
    "ytest_ag1 = test['BI-AG1']"
   ]
  },
  {
   "cell_type": "code",
   "execution_count": 67,
   "id": "gentle-bernard",
   "metadata": {},
   "outputs": [],
   "source": [
    "knn_ag1 = GridSearchCV(KNeighborsRegressor(), param_grid, cv=5)"
   ]
  },
  {
   "cell_type": "code",
   "execution_count": 68,
   "id": "changing-utilization",
   "metadata": {},
   "outputs": [
    {
     "data": {
      "text/plain": [
       "GridSearchCV(cv=5, estimator=KNeighborsRegressor(),\n",
       "             param_grid={'n_neighbors': range(5, 20),\n",
       "                         'weights': ['uniform', 'distance']})"
      ]
     },
     "execution_count": 68,
     "metadata": {},
     "output_type": "execute_result"
    }
   ],
   "source": [
    "knn_ag1.fit(Xtrain_ag1, ytrain_ag1)"
   ]
  },
  {
   "cell_type": "code",
   "execution_count": 69,
   "id": "christian-remark",
   "metadata": {},
   "outputs": [],
   "source": [
    "train_ag1_err = np.sqrt(mean_squared_error(knn_ag1.predict(Xtrain_ag1), np.array(ytrain_ag1)))\n",
    "test_ag1_err = np.sqrt(mean_squared_error(knn_ag1.predict(Xtest_ag1), np.array(ytest_ag1)))"
   ]
  },
  {
   "cell_type": "code",
   "execution_count": 70,
   "id": "supreme-salon",
   "metadata": {},
   "outputs": [
    {
     "name": "stdout",
     "output_type": "stream",
     "text": [
      "RMSE reg (train): 8.479468414379336e-17\n",
      "RMSE reg (test): 0.3564306655032678\n"
     ]
    }
   ],
   "source": [
    "print('RMSE reg (train):', train_ag1_err)\n",
    "print('RMSE reg (test):', test_ag1_err)"
   ]
  },
  {
   "cell_type": "markdown",
   "id": "advised-headline",
   "metadata": {},
   "source": [
    "## ZDM"
   ]
  },
  {
   "cell_type": "code",
   "execution_count": 71,
   "id": "detailed-integral",
   "metadata": {},
   "outputs": [],
   "source": [
    "Xtrain_zdm = train.drop(columns='BI-ZDM')\n",
    "ytrain_zdm = train['BI-ZDM']\n",
    "\n",
    "Xtest_zdm = test.drop(columns='BI-ZDM')\n",
    "ytest_zdm = test['BI-ZDM']"
   ]
  },
  {
   "cell_type": "code",
   "execution_count": 72,
   "id": "powered-visit",
   "metadata": {},
   "outputs": [],
   "source": [
    "knn_zdm = GridSearchCV(KNeighborsRegressor(), param_grid, cv=5)"
   ]
  },
  {
   "cell_type": "code",
   "execution_count": 73,
   "id": "artistic-riding",
   "metadata": {},
   "outputs": [
    {
     "data": {
      "text/plain": [
       "GridSearchCV(cv=5, estimator=KNeighborsRegressor(),\n",
       "             param_grid={'n_neighbors': range(5, 20),\n",
       "                         'weights': ['uniform', 'distance']})"
      ]
     },
     "execution_count": 73,
     "metadata": {},
     "output_type": "execute_result"
    }
   ],
   "source": [
    "knn_zdm.fit(Xtrain_zdm, ytrain_zdm)"
   ]
  },
  {
   "cell_type": "code",
   "execution_count": 74,
   "id": "muslim-lambda",
   "metadata": {},
   "outputs": [],
   "source": [
    "train_zdm_err = np.sqrt(mean_squared_error(knn_zdm.predict(Xtrain_zdm), np.array(ytrain_zdm)))\n",
    "test_zdm_err = np.sqrt(mean_squared_error(knn_zdm.predict(Xtest_zdm), np.array(ytest_zdm)))"
   ]
  },
  {
   "cell_type": "code",
   "execution_count": 75,
   "id": "bacterial-samuel",
   "metadata": {},
   "outputs": [
    {
     "name": "stdout",
     "output_type": "stream",
     "text": [
      "RMSE reg (train): 1.7206525645354263e-16\n",
      "RMSE reg (test): 0.30700459410409153\n"
     ]
    }
   ],
   "source": [
    "print('RMSE reg (train):', train_zdm_err)\n",
    "print('RMSE reg (test):', test_zdm_err)"
   ]
  },
  {
   "cell_type": "markdown",
   "id": "central-passage",
   "metadata": {},
   "source": [
    "## OSY"
   ]
  },
  {
   "cell_type": "code",
   "execution_count": 76,
   "id": "quality-updating",
   "metadata": {},
   "outputs": [],
   "source": [
    "Xtrain_osy = train.drop(columns='BI-OSY')\n",
    "ytrain_osy = train['BI-OSY']\n",
    "\n",
    "Xtest_osy = test.drop(columns='BI-OSY')\n",
    "ytest_osy = test['BI-OSY']"
   ]
  },
  {
   "cell_type": "code",
   "execution_count": 77,
   "id": "sought-premises",
   "metadata": {},
   "outputs": [],
   "source": [
    "knn_osy = GridSearchCV(KNeighborsRegressor(), param_grid, cv=5)"
   ]
  },
  {
   "cell_type": "code",
   "execution_count": 78,
   "id": "european-ticket",
   "metadata": {},
   "outputs": [
    {
     "data": {
      "text/plain": [
       "GridSearchCV(cv=5, estimator=KNeighborsRegressor(),\n",
       "             param_grid={'n_neighbors': range(5, 20),\n",
       "                         'weights': ['uniform', 'distance']})"
      ]
     },
     "execution_count": 78,
     "metadata": {},
     "output_type": "execute_result"
    }
   ],
   "source": [
    "knn_osy.fit(Xtrain_osy, ytrain_osy)"
   ]
  },
  {
   "cell_type": "code",
   "execution_count": 79,
   "id": "heavy-volunteer",
   "metadata": {},
   "outputs": [],
   "source": [
    "train_osy_err = np.sqrt(mean_squared_error(knn_osy.predict(Xtrain_osy), np.array(ytrain_osy)))\n",
    "test_osy_err = np.sqrt(mean_squared_error(knn_osy.predict(Xtest_osy), np.array(ytest_osy)))"
   ]
  },
  {
   "cell_type": "code",
   "execution_count": 80,
   "id": "promising-klein",
   "metadata": {},
   "outputs": [
    {
     "name": "stdout",
     "output_type": "stream",
     "text": [
      "RMSE reg (train): 1.3926682103051952e-16\n",
      "RMSE reg (test): 0.362571873425004\n"
     ]
    }
   ],
   "source": [
    "print('RMSE reg (train):', train_osy_err)\n",
    "print('RMSE reg (test):', test_osy_err)"
   ]
  },
  {
   "cell_type": "markdown",
   "id": "ethical-mentor",
   "metadata": {},
   "source": [
    "## PSI"
   ]
  },
  {
   "cell_type": "code",
   "execution_count": 81,
   "id": "numerous-islam",
   "metadata": {},
   "outputs": [],
   "source": [
    "Xtrain_psi = train.drop(columns='BI-PSI')\n",
    "ytrain_psi = train['BI-PSI']\n",
    "\n",
    "Xtest_psi = test.drop(columns='BI-PSI')\n",
    "ytest_psi = test['BI-PSI']"
   ]
  },
  {
   "cell_type": "code",
   "execution_count": 82,
   "id": "cellular-confusion",
   "metadata": {},
   "outputs": [],
   "source": [
    "knn_psi = GridSearchCV(KNeighborsRegressor(), param_grid, cv=5)"
   ]
  },
  {
   "cell_type": "code",
   "execution_count": 83,
   "id": "impaired-middle",
   "metadata": {},
   "outputs": [
    {
     "data": {
      "text/plain": [
       "GridSearchCV(cv=5, estimator=KNeighborsRegressor(),\n",
       "             param_grid={'n_neighbors': range(5, 20),\n",
       "                         'weights': ['uniform', 'distance']})"
      ]
     },
     "execution_count": 83,
     "metadata": {},
     "output_type": "execute_result"
    }
   ],
   "source": [
    "knn_psi.fit(Xtrain_psi, ytrain_psi)"
   ]
  },
  {
   "cell_type": "code",
   "execution_count": 84,
   "id": "pointed-insurance",
   "metadata": {},
   "outputs": [],
   "source": [
    "train_psi_err = np.sqrt(mean_squared_error(knn_psi.predict(Xtrain_psi), np.array(ytrain_psi)))\n",
    "test_psi_err = np.sqrt(mean_squared_error(knn_psi.predict(Xtest_psi), np.array(ytest_psi)))"
   ]
  },
  {
   "cell_type": "code",
   "execution_count": 85,
   "id": "motivated-diesel",
   "metadata": {},
   "outputs": [
    {
     "name": "stdout",
     "output_type": "stream",
     "text": [
      "RMSE reg (train): 1.4205887776059193e-16\n",
      "RMSE reg (test): 0.3500434067660575\n"
     ]
    }
   ],
   "source": [
    "print('RMSE reg (train):', train_psi_err)\n",
    "print('RMSE reg (test):', test_psi_err)"
   ]
  },
  {
   "cell_type": "markdown",
   "id": "aggregate-shirt",
   "metadata": {},
   "source": [
    "## BEZ"
   ]
  },
  {
   "cell_type": "code",
   "execution_count": 86,
   "id": "administrative-cambridge",
   "metadata": {},
   "outputs": [],
   "source": [
    "Xtrain_bez = train.drop(columns='BI-BEZ')\n",
    "ytrain_bez = train['BI-BEZ']\n",
    "\n",
    "Xtest_bez = test.drop(columns='BI-BEZ')\n",
    "ytest_bez = test['BI-BEZ']"
   ]
  },
  {
   "cell_type": "code",
   "execution_count": 87,
   "id": "legitimate-heating",
   "metadata": {},
   "outputs": [],
   "source": [
    "knn_bez = GridSearchCV(KNeighborsRegressor(), param_grid, cv=5)"
   ]
  },
  {
   "cell_type": "code",
   "execution_count": 88,
   "id": "promotional-refrigerator",
   "metadata": {},
   "outputs": [
    {
     "data": {
      "text/plain": [
       "GridSearchCV(cv=5, estimator=KNeighborsRegressor(),\n",
       "             param_grid={'n_neighbors': range(5, 20),\n",
       "                         'weights': ['uniform', 'distance']})"
      ]
     },
     "execution_count": 88,
     "metadata": {},
     "output_type": "execute_result"
    }
   ],
   "source": [
    "knn_bez.fit(Xtrain_bez, ytrain_bez)"
   ]
  },
  {
   "cell_type": "code",
   "execution_count": 89,
   "id": "cathedral-hunger",
   "metadata": {},
   "outputs": [],
   "source": [
    "train_bez_err = np.sqrt(mean_squared_error(knn_bez.predict(Xtrain_bez), np.array(ytrain_bez)))\n",
    "test_bez_err = np.sqrt(mean_squared_error(knn_bez.predict(Xtest_bez), np.array(ytest_bez)))"
   ]
  },
  {
   "cell_type": "code",
   "execution_count": 90,
   "id": "novel-settlement",
   "metadata": {},
   "outputs": [
    {
     "name": "stdout",
     "output_type": "stream",
     "text": [
      "RMSE reg (train): 8.759856797776225e-17\n",
      "RMSE reg (test): 0.37076087891599546\n"
     ]
    }
   ],
   "source": [
    "print('RMSE reg (train):', train_bez_err)\n",
    "print('RMSE reg (test):', test_bez_err)"
   ]
  },
  {
   "cell_type": "markdown",
   "id": "mighty-stone",
   "metadata": {},
   "source": [
    "## PST"
   ]
  },
  {
   "cell_type": "code",
   "execution_count": 91,
   "id": "incorrect-habitat",
   "metadata": {},
   "outputs": [],
   "source": [
    "Xtrain_pst = train.drop(columns='BI-PST')\n",
    "ytrain_pst = train['BI-PST']\n",
    "\n",
    "Xtest_pst = test.drop(columns='BI-PST')\n",
    "ytest_pst = test['BI-PST']"
   ]
  },
  {
   "cell_type": "code",
   "execution_count": 92,
   "id": "bizarre-publicity",
   "metadata": {},
   "outputs": [],
   "source": [
    "knn_pst = GridSearchCV(KNeighborsRegressor(), param_grid, cv=5)"
   ]
  },
  {
   "cell_type": "code",
   "execution_count": 93,
   "id": "dangerous-floor",
   "metadata": {},
   "outputs": [
    {
     "data": {
      "text/plain": [
       "GridSearchCV(cv=5, estimator=KNeighborsRegressor(),\n",
       "             param_grid={'n_neighbors': range(5, 20),\n",
       "                         'weights': ['uniform', 'distance']})"
      ]
     },
     "execution_count": 93,
     "metadata": {},
     "output_type": "execute_result"
    }
   ],
   "source": [
    "knn_pst.fit(Xtrain_pst, ytrain_pst)"
   ]
  },
  {
   "cell_type": "code",
   "execution_count": 94,
   "id": "painful-concentrate",
   "metadata": {},
   "outputs": [],
   "source": [
    "train_pst_err = np.sqrt(mean_squared_error(knn_pst.predict(Xtrain_pst), np.array(ytrain_pst)))\n",
    "test_pst_err = np.sqrt(mean_squared_error(knn_pst.predict(Xtest_pst), np.array(ytest_pst)))"
   ]
  },
  {
   "cell_type": "code",
   "execution_count": 95,
   "id": "united-carpet",
   "metadata": {},
   "outputs": [
    {
     "name": "stdout",
     "output_type": "stream",
     "text": [
      "RMSE reg (train): 6.070997633754907e-17\n",
      "RMSE reg (test): 0.35024491488855136\n"
     ]
    }
   ],
   "source": [
    "print('RMSE reg (train):', train_pst_err)\n",
    "print('RMSE reg (test):', test_pst_err)"
   ]
  },
  {
   "cell_type": "markdown",
   "id": "acquired-julian",
   "metadata": {},
   "source": [
    "## DPR"
   ]
  },
  {
   "cell_type": "code",
   "execution_count": 96,
   "id": "married-disco",
   "metadata": {},
   "outputs": [],
   "source": [
    "Xtrain_dpr = train.drop(columns='BI-DPR')\n",
    "ytrain_dpr = train['BI-DPR']\n",
    "\n",
    "Xtest_dpr = test.drop(columns='BI-DPR')\n",
    "ytest_dpr = test['BI-DPR']"
   ]
  },
  {
   "cell_type": "code",
   "execution_count": 97,
   "id": "roman-teddy",
   "metadata": {},
   "outputs": [],
   "source": [
    "knn_dpr = GridSearchCV(KNeighborsRegressor(), param_grid, cv=5)"
   ]
  },
  {
   "cell_type": "code",
   "execution_count": 98,
   "id": "headed-lingerie",
   "metadata": {},
   "outputs": [
    {
     "data": {
      "text/plain": [
       "GridSearchCV(cv=5, estimator=KNeighborsRegressor(),\n",
       "             param_grid={'n_neighbors': range(5, 20),\n",
       "                         'weights': ['uniform', 'distance']})"
      ]
     },
     "execution_count": 98,
     "metadata": {},
     "output_type": "execute_result"
    }
   ],
   "source": [
    "knn_dpr.fit(Xtrain_dpr, ytrain_dpr)"
   ]
  },
  {
   "cell_type": "code",
   "execution_count": 99,
   "id": "clear-perfume",
   "metadata": {},
   "outputs": [],
   "source": [
    "train_dpr_err = np.sqrt(mean_squared_error(knn_dpr.predict(Xtrain_dpr), np.array(ytrain_dpr)))\n",
    "test_dpr_err = np.sqrt(mean_squared_error(knn_dpr.predict(Xtest_dpr), np.array(ytest_dpr)))"
   ]
  },
  {
   "cell_type": "code",
   "execution_count": 100,
   "id": "divided-backing",
   "metadata": {},
   "outputs": [
    {
     "name": "stdout",
     "output_type": "stream",
     "text": [
      "RMSE reg (train): 6.421647670904453e-17\n",
      "RMSE reg (test): 0.40388169963266746\n"
     ]
    }
   ],
   "source": [
    "print('RMSE reg (train):', train_dpr_err)\n",
    "print('RMSE reg (test):', test_dpr_err)"
   ]
  },
  {
   "cell_type": "markdown",
   "id": "elementary-strip",
   "metadata": {},
   "source": [
    "## EMP"
   ]
  },
  {
   "cell_type": "code",
   "execution_count": 101,
   "id": "difficult-madison",
   "metadata": {},
   "outputs": [],
   "source": [
    "Xtrain_emp = train.drop(columns='BI-EMP')\n",
    "ytrain_emp = train['BI-EMP']\n",
    "\n",
    "Xtest_emp = test.drop(columns='BI-EMP')\n",
    "ytest_emp = test['BI-EMP']"
   ]
  },
  {
   "cell_type": "code",
   "execution_count": 102,
   "id": "corrected-remark",
   "metadata": {},
   "outputs": [],
   "source": [
    "knn_emp = GridSearchCV(KNeighborsRegressor(), param_grid, cv=5)"
   ]
  },
  {
   "cell_type": "code",
   "execution_count": 103,
   "id": "loose-provincial",
   "metadata": {},
   "outputs": [
    {
     "data": {
      "text/plain": [
       "GridSearchCV(cv=5, estimator=KNeighborsRegressor(),\n",
       "             param_grid={'n_neighbors': range(5, 20),\n",
       "                         'weights': ['uniform', 'distance']})"
      ]
     },
     "execution_count": 103,
     "metadata": {},
     "output_type": "execute_result"
    }
   ],
   "source": [
    "knn_emp.fit(Xtrain_emp, ytrain_emp)"
   ]
  },
  {
   "cell_type": "code",
   "execution_count": 104,
   "id": "temporal-rental",
   "metadata": {},
   "outputs": [],
   "source": [
    "train_emp_err = np.sqrt(mean_squared_error(knn_emp.predict(Xtrain_emp), np.array(ytrain_emp)))\n",
    "test_emp_err = np.sqrt(mean_squared_error(knn_emp.predict(Xtest_emp), np.array(ytest_emp)))"
   ]
  },
  {
   "cell_type": "code",
   "execution_count": 105,
   "id": "proved-majority",
   "metadata": {},
   "outputs": [
    {
     "name": "stdout",
     "output_type": "stream",
     "text": [
      "RMSE reg (train): 1.1871510263250174e-16\n",
      "RMSE reg (test): 0.5102665175431355\n"
     ]
    }
   ],
   "source": [
    "print('RMSE reg (train):', train_emp_err)\n",
    "print('RMSE reg (test):', test_emp_err)"
   ]
  },
  {
   "cell_type": "markdown",
   "id": "sophisticated-negotiation",
   "metadata": {},
   "source": [
    "## SI1.2"
   ]
  },
  {
   "cell_type": "code",
   "execution_count": 106,
   "id": "capital-scenario",
   "metadata": {},
   "outputs": [],
   "source": [
    "Xtrain_si1 = train.drop(columns='BI-SI1.2')\n",
    "ytrain_si1 = train['BI-SI1.2']\n",
    "\n",
    "Xtest_si1 = test.drop(columns='BI-SI1.2')\n",
    "ytest_si1 = test['BI-SI1.2']"
   ]
  },
  {
   "cell_type": "code",
   "execution_count": 107,
   "id": "precious-birthday",
   "metadata": {},
   "outputs": [],
   "source": [
    "knn_si1 = GridSearchCV(KNeighborsRegressor(), param_grid, cv=5)"
   ]
  },
  {
   "cell_type": "code",
   "execution_count": 108,
   "id": "uniform-measurement",
   "metadata": {},
   "outputs": [
    {
     "data": {
      "text/plain": [
       "GridSearchCV(cv=5, estimator=KNeighborsRegressor(),\n",
       "             param_grid={'n_neighbors': range(5, 20),\n",
       "                         'weights': ['uniform', 'distance']})"
      ]
     },
     "execution_count": 108,
     "metadata": {},
     "output_type": "execute_result"
    }
   ],
   "source": [
    "knn_si1.fit(Xtrain_si1, ytrain_si1)"
   ]
  },
  {
   "cell_type": "code",
   "execution_count": 109,
   "id": "important-python",
   "metadata": {},
   "outputs": [],
   "source": [
    "train_si1_err = np.sqrt(mean_squared_error(knn_si1.predict(Xtrain_si1), np.array(ytrain_si1)))\n",
    "test_si1_err = np.sqrt(mean_squared_error(knn_si1.predict(Xtest_si1), np.array(ytest_si1)))"
   ]
  },
  {
   "cell_type": "code",
   "execution_count": 110,
   "id": "negative-honduras",
   "metadata": {},
   "outputs": [
    {
     "name": "stdout",
     "output_type": "stream",
     "text": [
      "RMSE reg (train): 1.2551837400051216e-16\n",
      "RMSE reg (test): 0.38887887399522997\n"
     ]
    }
   ],
   "source": [
    "print('RMSE reg (train):', train_si1_err)\n",
    "print('RMSE reg (test):', test_si1_err)"
   ]
  },
  {
   "cell_type": "markdown",
   "id": "lesser-irrigation",
   "metadata": {},
   "source": [
    "# Výsledky"
   ]
  },
  {
   "cell_type": "code",
   "execution_count": 111,
   "id": "turkish-market",
   "metadata": {},
   "outputs": [],
   "source": [
    "y = [\n",
    "    test_pa1_err,\n",
    "    test_pai_err,\n",
    "    test_zma_err,\n",
    "    test_mlo_err,\n",
    "    test_cao_err,\n",
    "    test_ps1_err,\n",
    "    test_pa2_err,\n",
    "    test_lin_err,\n",
    "    test_dbs_err,\n",
    "    test_sap_err,\n",
    "    test_aag_err,\n",
    "    test_ag1_err,\n",
    "    test_zdm_err,\n",
    "    test_osy_err,\n",
    "    test_psi_err,\n",
    "    test_bez_err,\n",
    "    test_pst_err,\n",
    "    test_dpr_err,\n",
    "    test_emp_err,\n",
    "    test_si1_err\n",
    "]"
   ]
  },
  {
   "cell_type": "code",
   "execution_count": 112,
   "id": "broadband-guest",
   "metadata": {},
   "outputs": [],
   "source": [
    "courses = matrix.columns"
   ]
  },
  {
   "cell_type": "code",
   "execution_count": 113,
   "id": "included-soldier",
   "metadata": {},
   "outputs": [
    {
     "data": {
      "text/plain": [
       "Index(['pohlavi_kod', 'je_cech', 'datum_zahajeni', 'rok_maturity',\n",
       "       'maturita_nastup_rozdil', 'gymnazium', 'praha', 'scio', 'olym',\n",
       "       'zkouska', 'prominuti', 'BI-PA1', 'BI-PAI', 'BI-CAO', 'BI-PS1',\n",
       "       'BI-MLO', 'BI-ZMA', 'BI-PA2', 'BI-DBS', 'BI-SAP', 'BI-LIN', 'BI-AG1',\n",
       "       'BI-AAG', 'BI-ZDM', 'BI-OSY', 'BI-PSI', 'BI-BEZ', 'BI-PST', 'BI-DPR',\n",
       "       'BI-SI1.2', 'BI-EMP'],\n",
       "      dtype='object')"
      ]
     },
     "execution_count": 113,
     "metadata": {},
     "output_type": "execute_result"
    }
   ],
   "source": [
    "courses"
   ]
  },
  {
   "cell_type": "code",
   "execution_count": 114,
   "id": "fitting-wesley",
   "metadata": {},
   "outputs": [
    {
     "name": "stderr",
     "output_type": "stream",
     "text": [
      "No handles with labels found to put in legend.\n"
     ]
    },
    {
     "data": {
      "image/png": "[encoded data removed]",
      "text/plain": [
       "<Figure size 1800x720 with 1 Axes>"
      ]
     },
     "metadata": {
      "needs_background": "light"
     },
     "output_type": "display_data"
    }
   ],
   "source": [
    "y = [\n",
    "    test_pa1_err,\n",
    "    test_pai_err,\n",
    "    test_cao_err,\n",
    "    test_ps1_err,\n",
    "    test_mlo_err,\n",
    "    test_zma_err,\n",
    "    test_pa2_err,\n",
    "    test_dbs_err,\n",
    "    test_sap_err,\n",
    "    test_lin_err,\n",
    "    test_ag1_err,\n",
    "    test_aag_err,\n",
    "    test_zdm_err,\n",
    "    test_osy_err,\n",
    "    test_psi_err,\n",
    "    test_bez_err,\n",
    "    test_pst_err,\n",
    "    test_dpr_err,\n",
    "    test_si1_err,\n",
    "    test_emp_err\n",
    "]\n",
    "\n",
    "x = ['BI-PA1', 'BI-PAI', 'BI-CAO', 'BI-PS1', 'BI-MLO', 'BI-ZMA', 'BI-PA2',\n",
    "       'BI-DBS', 'BI-SAP', 'BI-LIN', 'BI-AG1', 'BI-AAG', 'BI-ZDM', 'BI-OSY',\n",
    "       'BI-PSI', 'BI-BEZ', 'BI-PST', 'BI-DPR', 'BI-SI1.2', 'BI-EMP']\n",
    "width = 0.5  # the width of the bars\n",
    "\n",
    "\n",
    "fig, ax = plt.subplots()\n",
    "rects_dt = ax.bar(x , y, width)\n",
    "\n",
    "y_values = np.arange(0.0, 1.05, 0.05)\n",
    "\n",
    "ax.set_ylabel('RMSE')\n",
    "ax.set_xlabel('Předměty')\n",
    "ax.set_title('Úspěšnost jednotlivých predikcí známek PP předmětů')\n",
    "ax.set_xticks(x)\n",
    "plt.yticks(y_values)\n",
    "ax.legend(loc='best')\n",
    "ax.grid(True)\n",
    "\n",
    "plt.ylim(ymin=0)\n",
    "plt.ylim(ymax=1)\n",
    "\n",
    "fig.set_size_inches(25,10)\n",
    "plt.show()"
   ]
  },
  {
   "cell_type": "code",
   "execution_count": null,
   "id": "outside-tradition",
   "metadata": {},
   "outputs": [],
   "source": []
  },
  {
   "cell_type": "code",
   "execution_count": null,
   "id": "developed-posting",
   "metadata": {},
   "outputs": [],
   "source": []
  }
 ],
 "metadata": {
  "kernelspec": {
   "display_name": "Python 3",
   "language": "python",
   "name": "python3"
  },
  "language_info": {
   "codemirror_mode": {
    "name": "ipython",
    "version": 3
   },
   "file_extension": ".py",
   "mimetype": "text/x-python",
   "name": "python",
   "nbconvert_exporter": "python",
   "pygments_lexer": "ipython3",
   "version": "3.8.10"
  }
 },
 "nbformat": 4,
 "nbformat_minor": 5
}
