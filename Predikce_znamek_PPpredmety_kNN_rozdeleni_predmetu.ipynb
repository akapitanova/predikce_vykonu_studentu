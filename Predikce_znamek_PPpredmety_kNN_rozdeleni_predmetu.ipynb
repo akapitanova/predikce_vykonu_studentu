{
 "cells": [
  {
   "cell_type": "code",
   "execution_count": 1,
   "id": "departmental-democrat",
   "metadata": {},
   "outputs": [],
   "source": [
    "import os\n",
    "import math\n",
    "\n",
    "import pandas as pd\n",
    "import numpy as np\n",
    "import sklearn.metrics as metrics\n",
    "import matplotlib.pyplot as plt\n",
    "\n",
    "from sklearn.neighbors import NearestNeighbors\n",
    "from sklearn.neighbors import KNeighborsClassifier\n",
    "\n",
    "from sklearn.neighbors import KNeighborsRegressor\n",
    "from sklearn.metrics import mean_squared_error\n",
    "\n",
    "from sklearn.model_selection import GridSearchCV\n",
    "from sklearn.model_selection import ParameterGrid\n",
    "from sklearn.metrics import mean_squared_error\n",
    "\n",
    "from sklearn.impute import KNNImputer\n",
    "\n",
    "from sklearn.model_selection import train_test_split\n",
    "\n",
    "%matplotlib inline\n",
    "pd.set_option('display.max_columns', None)\n",
    "np.set_printoptions(threshold=1000)\n",
    "\n",
    "rd_seed = 333"
   ]
  },
  {
   "cell_type": "code",
   "execution_count": 2,
   "id": "excited-second",
   "metadata": {},
   "outputs": [],
   "source": [
    "path_file = os.sep.join(['created_data', 'class_matrix_bak.csv'])\n",
    "matrix = pd.read_csv(path_file, sep=\",\", index_col='studium_id') "
   ]
  },
  {
   "cell_type": "code",
   "execution_count": 3,
   "id": "embedded-advice",
   "metadata": {},
   "outputs": [
    {
     "name": "stdout",
     "output_type": "stream",
     "text": [
      "<class 'pandas.core.frame.DataFrame'>\n",
      "Int64Index: 5437 entries, 17929506 to 19350006\n",
      "Data columns (total 20 columns):\n",
      " #   Column    Non-Null Count  Dtype  \n",
      "---  ------    --------------  -----  \n",
      " 0   BI-PA1    4948 non-null   float64\n",
      " 1   BI-PAI    4207 non-null   float64\n",
      " 2   BI-CAO    4608 non-null   float64\n",
      " 3   BI-PS1    5031 non-null   float64\n",
      " 4   BI-MLO    4126 non-null   float64\n",
      " 5   BI-ZMA    4271 non-null   float64\n",
      " 6   BI-PA2    2710 non-null   float64\n",
      " 7   BI-DBS    2885 non-null   float64\n",
      " 8   BI-SAP    2783 non-null   float64\n",
      " 9   BI-LIN    2944 non-null   float64\n",
      " 10  BI-AG1    2181 non-null   float64\n",
      " 11  BI-AAG    2361 non-null   float64\n",
      " 12  BI-ZDM    2272 non-null   float64\n",
      " 13  BI-OSY    1489 non-null   float64\n",
      " 14  BI-PSI    1653 non-null   float64\n",
      " 15  BI-BEZ    1590 non-null   float64\n",
      " 16  BI-PST    1377 non-null   float64\n",
      " 17  BI-DPR    966 non-null    float64\n",
      " 18  BI-SI1.2  1421 non-null   float64\n",
      " 19  BI-EMP    1673 non-null   float64\n",
      "dtypes: float64(20)\n",
      "memory usage: 892.0 KB\n"
     ]
    }
   ],
   "source": [
    "matrix.info()"
   ]
  },
  {
   "cell_type": "code",
   "execution_count": 4,
   "id": "entire-liability",
   "metadata": {},
   "outputs": [
    {
     "data": {
      "text/html": [
       "<div>\n",
       "<style scoped>\n",
       "    .dataframe tbody tr th:only-of-type {\n",
       "        vertical-align: middle;\n",
       "    }\n",
       "\n",
       "    .dataframe tbody tr th {\n",
       "        vertical-align: top;\n",
       "    }\n",
       "\n",
       "    .dataframe thead th {\n",
       "        text-align: right;\n",
       "    }\n",
       "</style>\n",
       "<table border=\"1\" class=\"dataframe\">\n",
       "  <thead>\n",
       "    <tr style=\"text-align: right;\">\n",
       "      <th></th>\n",
       "      <th>BI-PA1</th>\n",
       "      <th>BI-PAI</th>\n",
       "      <th>BI-CAO</th>\n",
       "      <th>BI-PS1</th>\n",
       "      <th>BI-MLO</th>\n",
       "      <th>BI-ZMA</th>\n",
       "      <th>BI-PA2</th>\n",
       "      <th>BI-DBS</th>\n",
       "      <th>BI-SAP</th>\n",
       "      <th>BI-LIN</th>\n",
       "      <th>BI-AG1</th>\n",
       "      <th>BI-AAG</th>\n",
       "      <th>BI-ZDM</th>\n",
       "      <th>BI-OSY</th>\n",
       "      <th>BI-PSI</th>\n",
       "      <th>BI-BEZ</th>\n",
       "      <th>BI-PST</th>\n",
       "      <th>BI-DPR</th>\n",
       "      <th>BI-SI1.2</th>\n",
       "      <th>BI-EMP</th>\n",
       "    </tr>\n",
       "    <tr>\n",
       "      <th>studium_id</th>\n",
       "      <th></th>\n",
       "      <th></th>\n",
       "      <th></th>\n",
       "      <th></th>\n",
       "      <th></th>\n",
       "      <th></th>\n",
       "      <th></th>\n",
       "      <th></th>\n",
       "      <th></th>\n",
       "      <th></th>\n",
       "      <th></th>\n",
       "      <th></th>\n",
       "      <th></th>\n",
       "      <th></th>\n",
       "      <th></th>\n",
       "      <th></th>\n",
       "      <th></th>\n",
       "      <th></th>\n",
       "      <th></th>\n",
       "      <th></th>\n",
       "    </tr>\n",
       "  </thead>\n",
       "  <tbody>\n",
       "    <tr>\n",
       "      <th>17929506</th>\n",
       "      <td>1.5</td>\n",
       "      <td>2.0</td>\n",
       "      <td>1.5</td>\n",
       "      <td>2.0</td>\n",
       "      <td>2.0</td>\n",
       "      <td>2.5</td>\n",
       "      <td>4.0</td>\n",
       "      <td>2.0</td>\n",
       "      <td>4.0</td>\n",
       "      <td>3.0</td>\n",
       "      <td>4.0</td>\n",
       "      <td>4.0</td>\n",
       "      <td>4.0</td>\n",
       "      <td>NaN</td>\n",
       "      <td>NaN</td>\n",
       "      <td>NaN</td>\n",
       "      <td>NaN</td>\n",
       "      <td>NaN</td>\n",
       "      <td>NaN</td>\n",
       "      <td>NaN</td>\n",
       "    </tr>\n",
       "    <tr>\n",
       "      <th>17931206</th>\n",
       "      <td>4.0</td>\n",
       "      <td>2.0</td>\n",
       "      <td>1.5</td>\n",
       "      <td>2.5</td>\n",
       "      <td>4.0</td>\n",
       "      <td>4.0</td>\n",
       "      <td>4.0</td>\n",
       "      <td>4.0</td>\n",
       "      <td>4.0</td>\n",
       "      <td>4.0</td>\n",
       "      <td>NaN</td>\n",
       "      <td>NaN</td>\n",
       "      <td>NaN</td>\n",
       "      <td>NaN</td>\n",
       "      <td>NaN</td>\n",
       "      <td>NaN</td>\n",
       "      <td>NaN</td>\n",
       "      <td>NaN</td>\n",
       "      <td>NaN</td>\n",
       "      <td>NaN</td>\n",
       "    </tr>\n",
       "    <tr>\n",
       "      <th>15569706</th>\n",
       "      <td>3.0</td>\n",
       "      <td>1.5</td>\n",
       "      <td>1.5</td>\n",
       "      <td>2.0</td>\n",
       "      <td>1.5</td>\n",
       "      <td>1.5</td>\n",
       "      <td>2.0</td>\n",
       "      <td>1.0</td>\n",
       "      <td>1.0</td>\n",
       "      <td>2.0</td>\n",
       "      <td>2.0</td>\n",
       "      <td>1.5</td>\n",
       "      <td>2.0</td>\n",
       "      <td>1.0</td>\n",
       "      <td>2.0</td>\n",
       "      <td>1.5</td>\n",
       "      <td>4.0</td>\n",
       "      <td>4.0</td>\n",
       "      <td>1.5</td>\n",
       "      <td>4.0</td>\n",
       "    </tr>\n",
       "    <tr>\n",
       "      <th>16729706</th>\n",
       "      <td>NaN</td>\n",
       "      <td>NaN</td>\n",
       "      <td>NaN</td>\n",
       "      <td>NaN</td>\n",
       "      <td>2.0</td>\n",
       "      <td>2.0</td>\n",
       "      <td>4.0</td>\n",
       "      <td>NaN</td>\n",
       "      <td>4.0</td>\n",
       "      <td>4.0</td>\n",
       "      <td>4.0</td>\n",
       "      <td>4.0</td>\n",
       "      <td>4.0</td>\n",
       "      <td>NaN</td>\n",
       "      <td>NaN</td>\n",
       "      <td>NaN</td>\n",
       "      <td>NaN</td>\n",
       "      <td>NaN</td>\n",
       "      <td>1.5</td>\n",
       "      <td>NaN</td>\n",
       "    </tr>\n",
       "    <tr>\n",
       "      <th>17931606</th>\n",
       "      <td>1.5</td>\n",
       "      <td>1.0</td>\n",
       "      <td>1.0</td>\n",
       "      <td>1.5</td>\n",
       "      <td>2.5</td>\n",
       "      <td>2.5</td>\n",
       "      <td>2.0</td>\n",
       "      <td>1.5</td>\n",
       "      <td>1.0</td>\n",
       "      <td>4.0</td>\n",
       "      <td>4.0</td>\n",
       "      <td>4.0</td>\n",
       "      <td>4.0</td>\n",
       "      <td>NaN</td>\n",
       "      <td>NaN</td>\n",
       "      <td>NaN</td>\n",
       "      <td>NaN</td>\n",
       "      <td>NaN</td>\n",
       "      <td>NaN</td>\n",
       "      <td>NaN</td>\n",
       "    </tr>\n",
       "    <tr>\n",
       "      <th>...</th>\n",
       "      <td>...</td>\n",
       "      <td>...</td>\n",
       "      <td>...</td>\n",
       "      <td>...</td>\n",
       "      <td>...</td>\n",
       "      <td>...</td>\n",
       "      <td>...</td>\n",
       "      <td>...</td>\n",
       "      <td>...</td>\n",
       "      <td>...</td>\n",
       "      <td>...</td>\n",
       "      <td>...</td>\n",
       "      <td>...</td>\n",
       "      <td>...</td>\n",
       "      <td>...</td>\n",
       "      <td>...</td>\n",
       "      <td>...</td>\n",
       "      <td>...</td>\n",
       "      <td>...</td>\n",
       "      <td>...</td>\n",
       "    </tr>\n",
       "    <tr>\n",
       "      <th>19351806</th>\n",
       "      <td>4.0</td>\n",
       "      <td>NaN</td>\n",
       "      <td>4.0</td>\n",
       "      <td>4.0</td>\n",
       "      <td>NaN</td>\n",
       "      <td>NaN</td>\n",
       "      <td>NaN</td>\n",
       "      <td>NaN</td>\n",
       "      <td>NaN</td>\n",
       "      <td>NaN</td>\n",
       "      <td>NaN</td>\n",
       "      <td>NaN</td>\n",
       "      <td>NaN</td>\n",
       "      <td>NaN</td>\n",
       "      <td>NaN</td>\n",
       "      <td>NaN</td>\n",
       "      <td>NaN</td>\n",
       "      <td>NaN</td>\n",
       "      <td>NaN</td>\n",
       "      <td>NaN</td>\n",
       "    </tr>\n",
       "    <tr>\n",
       "      <th>19351406</th>\n",
       "      <td>4.0</td>\n",
       "      <td>NaN</td>\n",
       "      <td>4.0</td>\n",
       "      <td>4.0</td>\n",
       "      <td>NaN</td>\n",
       "      <td>NaN</td>\n",
       "      <td>NaN</td>\n",
       "      <td>NaN</td>\n",
       "      <td>NaN</td>\n",
       "      <td>NaN</td>\n",
       "      <td>NaN</td>\n",
       "      <td>NaN</td>\n",
       "      <td>NaN</td>\n",
       "      <td>NaN</td>\n",
       "      <td>NaN</td>\n",
       "      <td>NaN</td>\n",
       "      <td>NaN</td>\n",
       "      <td>NaN</td>\n",
       "      <td>NaN</td>\n",
       "      <td>NaN</td>\n",
       "    </tr>\n",
       "    <tr>\n",
       "      <th>19351006</th>\n",
       "      <td>4.0</td>\n",
       "      <td>NaN</td>\n",
       "      <td>4.0</td>\n",
       "      <td>4.0</td>\n",
       "      <td>NaN</td>\n",
       "      <td>NaN</td>\n",
       "      <td>NaN</td>\n",
       "      <td>NaN</td>\n",
       "      <td>NaN</td>\n",
       "      <td>NaN</td>\n",
       "      <td>NaN</td>\n",
       "      <td>NaN</td>\n",
       "      <td>NaN</td>\n",
       "      <td>NaN</td>\n",
       "      <td>NaN</td>\n",
       "      <td>NaN</td>\n",
       "      <td>NaN</td>\n",
       "      <td>NaN</td>\n",
       "      <td>NaN</td>\n",
       "      <td>NaN</td>\n",
       "    </tr>\n",
       "    <tr>\n",
       "      <th>19350506</th>\n",
       "      <td>4.0</td>\n",
       "      <td>NaN</td>\n",
       "      <td>4.0</td>\n",
       "      <td>4.0</td>\n",
       "      <td>NaN</td>\n",
       "      <td>NaN</td>\n",
       "      <td>NaN</td>\n",
       "      <td>NaN</td>\n",
       "      <td>NaN</td>\n",
       "      <td>NaN</td>\n",
       "      <td>NaN</td>\n",
       "      <td>NaN</td>\n",
       "      <td>NaN</td>\n",
       "      <td>NaN</td>\n",
       "      <td>NaN</td>\n",
       "      <td>NaN</td>\n",
       "      <td>NaN</td>\n",
       "      <td>NaN</td>\n",
       "      <td>NaN</td>\n",
       "      <td>NaN</td>\n",
       "    </tr>\n",
       "    <tr>\n",
       "      <th>19350006</th>\n",
       "      <td>4.0</td>\n",
       "      <td>NaN</td>\n",
       "      <td>4.0</td>\n",
       "      <td>4.0</td>\n",
       "      <td>NaN</td>\n",
       "      <td>NaN</td>\n",
       "      <td>NaN</td>\n",
       "      <td>NaN</td>\n",
       "      <td>NaN</td>\n",
       "      <td>NaN</td>\n",
       "      <td>NaN</td>\n",
       "      <td>NaN</td>\n",
       "      <td>NaN</td>\n",
       "      <td>NaN</td>\n",
       "      <td>NaN</td>\n",
       "      <td>NaN</td>\n",
       "      <td>NaN</td>\n",
       "      <td>NaN</td>\n",
       "      <td>NaN</td>\n",
       "      <td>NaN</td>\n",
       "    </tr>\n",
       "  </tbody>\n",
       "</table>\n",
       "<p>5437 rows × 20 columns</p>\n",
       "</div>"
      ],
      "text/plain": [
       "            BI-PA1  BI-PAI  BI-CAO  BI-PS1  BI-MLO  BI-ZMA  BI-PA2  BI-DBS  \\\n",
       "studium_id                                                                   \n",
       "17929506       1.5     2.0     1.5     2.0     2.0     2.5     4.0     2.0   \n",
       "17931206       4.0     2.0     1.5     2.5     4.0     4.0     4.0     4.0   \n",
       "15569706       3.0     1.5     1.5     2.0     1.5     1.5     2.0     1.0   \n",
       "16729706       NaN     NaN     NaN     NaN     2.0     2.0     4.0     NaN   \n",
       "17931606       1.5     1.0     1.0     1.5     2.5     2.5     2.0     1.5   \n",
       "...            ...     ...     ...     ...     ...     ...     ...     ...   \n",
       "19351806       4.0     NaN     4.0     4.0     NaN     NaN     NaN     NaN   \n",
       "19351406       4.0     NaN     4.0     4.0     NaN     NaN     NaN     NaN   \n",
       "19351006       4.0     NaN     4.0     4.0     NaN     NaN     NaN     NaN   \n",
       "19350506       4.0     NaN     4.0     4.0     NaN     NaN     NaN     NaN   \n",
       "19350006       4.0     NaN     4.0     4.0     NaN     NaN     NaN     NaN   \n",
       "\n",
       "            BI-SAP  BI-LIN  BI-AG1  BI-AAG  BI-ZDM  BI-OSY  BI-PSI  BI-BEZ  \\\n",
       "studium_id                                                                   \n",
       "17929506       4.0     3.0     4.0     4.0     4.0     NaN     NaN     NaN   \n",
       "17931206       4.0     4.0     NaN     NaN     NaN     NaN     NaN     NaN   \n",
       "15569706       1.0     2.0     2.0     1.5     2.0     1.0     2.0     1.5   \n",
       "16729706       4.0     4.0     4.0     4.0     4.0     NaN     NaN     NaN   \n",
       "17931606       1.0     4.0     4.0     4.0     4.0     NaN     NaN     NaN   \n",
       "...            ...     ...     ...     ...     ...     ...     ...     ...   \n",
       "19351806       NaN     NaN     NaN     NaN     NaN     NaN     NaN     NaN   \n",
       "19351406       NaN     NaN     NaN     NaN     NaN     NaN     NaN     NaN   \n",
       "19351006       NaN     NaN     NaN     NaN     NaN     NaN     NaN     NaN   \n",
       "19350506       NaN     NaN     NaN     NaN     NaN     NaN     NaN     NaN   \n",
       "19350006       NaN     NaN     NaN     NaN     NaN     NaN     NaN     NaN   \n",
       "\n",
       "            BI-PST  BI-DPR  BI-SI1.2  BI-EMP  \n",
       "studium_id                                    \n",
       "17929506       NaN     NaN       NaN     NaN  \n",
       "17931206       NaN     NaN       NaN     NaN  \n",
       "15569706       4.0     4.0       1.5     4.0  \n",
       "16729706       NaN     NaN       1.5     NaN  \n",
       "17931606       NaN     NaN       NaN     NaN  \n",
       "...            ...     ...       ...     ...  \n",
       "19351806       NaN     NaN       NaN     NaN  \n",
       "19351406       NaN     NaN       NaN     NaN  \n",
       "19351006       NaN     NaN       NaN     NaN  \n",
       "19350506       NaN     NaN       NaN     NaN  \n",
       "19350006       NaN     NaN       NaN     NaN  \n",
       "\n",
       "[5437 rows x 20 columns]"
      ]
     },
     "execution_count": 4,
     "metadata": {},
     "output_type": "execute_result"
    }
   ],
   "source": [
    "matrix"
   ]
  },
  {
   "cell_type": "markdown",
   "id": "damaged-transmission",
   "metadata": {},
   "source": [
    "## Rozdělení předmětů"
   ]
  },
  {
   "cell_type": "code",
   "execution_count": 5,
   "id": "warming-thermal",
   "metadata": {},
   "outputs": [],
   "source": [
    "courses_cluster_1 = ['BI-CAO', 'BI-DPR', 'BI-EMP']\n",
    "courses_cluster_2 = ['BI-MLO', 'BI-ZMA', 'BI-LIN', 'BI-ZDM', 'BI-PST']\n",
    "courses_cluster_3 = ['BI-PA1', 'BI-PS1', 'BI-PA2', 'BI-AG1', 'BI-OSY']\n",
    "courses_cluster_4 = ['BI-PAI', 'BI-DBS', 'BI-SAP', 'BI-AAG', 'BI-PSI', 'BI-BEZ', 'BI-SI1.2']"
   ]
  },
  {
   "cell_type": "markdown",
   "id": "certain-empty",
   "metadata": {},
   "source": [
    "## Doplnění NaN hodnot"
   ]
  },
  {
   "cell_type": "code",
   "execution_count": 6,
   "id": "thick-feeling",
   "metadata": {},
   "outputs": [],
   "source": [
    "imp = KNNImputer(n_neighbors=5)\n",
    "matrix = pd.DataFrame(imp.fit_transform(matrix), index=matrix.index, columns=matrix.columns)"
   ]
  },
  {
   "cell_type": "code",
   "execution_count": 7,
   "id": "secure-sport",
   "metadata": {},
   "outputs": [
    {
     "data": {
      "text/html": [
       "<div>\n",
       "<style scoped>\n",
       "    .dataframe tbody tr th:only-of-type {\n",
       "        vertical-align: middle;\n",
       "    }\n",
       "\n",
       "    .dataframe tbody tr th {\n",
       "        vertical-align: top;\n",
       "    }\n",
       "\n",
       "    .dataframe thead th {\n",
       "        text-align: right;\n",
       "    }\n",
       "</style>\n",
       "<table border=\"1\" class=\"dataframe\">\n",
       "  <thead>\n",
       "    <tr style=\"text-align: right;\">\n",
       "      <th></th>\n",
       "      <th>BI-PA1</th>\n",
       "      <th>BI-PAI</th>\n",
       "      <th>BI-CAO</th>\n",
       "      <th>BI-PS1</th>\n",
       "      <th>BI-MLO</th>\n",
       "      <th>BI-ZMA</th>\n",
       "      <th>BI-PA2</th>\n",
       "      <th>BI-DBS</th>\n",
       "      <th>BI-SAP</th>\n",
       "      <th>BI-LIN</th>\n",
       "      <th>BI-AG1</th>\n",
       "      <th>BI-AAG</th>\n",
       "      <th>BI-ZDM</th>\n",
       "      <th>BI-OSY</th>\n",
       "      <th>BI-PSI</th>\n",
       "      <th>BI-BEZ</th>\n",
       "      <th>BI-PST</th>\n",
       "      <th>BI-DPR</th>\n",
       "      <th>BI-SI1.2</th>\n",
       "      <th>BI-EMP</th>\n",
       "    </tr>\n",
       "    <tr>\n",
       "      <th>studium_id</th>\n",
       "      <th></th>\n",
       "      <th></th>\n",
       "      <th></th>\n",
       "      <th></th>\n",
       "      <th></th>\n",
       "      <th></th>\n",
       "      <th></th>\n",
       "      <th></th>\n",
       "      <th></th>\n",
       "      <th></th>\n",
       "      <th></th>\n",
       "      <th></th>\n",
       "      <th></th>\n",
       "      <th></th>\n",
       "      <th></th>\n",
       "      <th></th>\n",
       "      <th></th>\n",
       "      <th></th>\n",
       "      <th></th>\n",
       "      <th></th>\n",
       "    </tr>\n",
       "  </thead>\n",
       "  <tbody>\n",
       "    <tr>\n",
       "      <th>17929506</th>\n",
       "      <td>1.5</td>\n",
       "      <td>2.0</td>\n",
       "      <td>1.5</td>\n",
       "      <td>2.0</td>\n",
       "      <td>2.0</td>\n",
       "      <td>2.5</td>\n",
       "      <td>4.0</td>\n",
       "      <td>2.0</td>\n",
       "      <td>4.0</td>\n",
       "      <td>3.0</td>\n",
       "      <td>4.0</td>\n",
       "      <td>4.0</td>\n",
       "      <td>4.0</td>\n",
       "      <td>3.6</td>\n",
       "      <td>3.4</td>\n",
       "      <td>2.3</td>\n",
       "      <td>4.0</td>\n",
       "      <td>4.0</td>\n",
       "      <td>2.7</td>\n",
       "      <td>3.2</td>\n",
       "    </tr>\n",
       "    <tr>\n",
       "      <th>17931206</th>\n",
       "      <td>4.0</td>\n",
       "      <td>2.0</td>\n",
       "      <td>1.5</td>\n",
       "      <td>2.5</td>\n",
       "      <td>4.0</td>\n",
       "      <td>4.0</td>\n",
       "      <td>4.0</td>\n",
       "      <td>4.0</td>\n",
       "      <td>4.0</td>\n",
       "      <td>4.0</td>\n",
       "      <td>4.0</td>\n",
       "      <td>4.0</td>\n",
       "      <td>4.0</td>\n",
       "      <td>3.1</td>\n",
       "      <td>3.2</td>\n",
       "      <td>2.8</td>\n",
       "      <td>3.7</td>\n",
       "      <td>3.4</td>\n",
       "      <td>2.8</td>\n",
       "      <td>2.2</td>\n",
       "    </tr>\n",
       "    <tr>\n",
       "      <th>15569706</th>\n",
       "      <td>3.0</td>\n",
       "      <td>1.5</td>\n",
       "      <td>1.5</td>\n",
       "      <td>2.0</td>\n",
       "      <td>1.5</td>\n",
       "      <td>1.5</td>\n",
       "      <td>2.0</td>\n",
       "      <td>1.0</td>\n",
       "      <td>1.0</td>\n",
       "      <td>2.0</td>\n",
       "      <td>2.0</td>\n",
       "      <td>1.5</td>\n",
       "      <td>2.0</td>\n",
       "      <td>1.0</td>\n",
       "      <td>2.0</td>\n",
       "      <td>1.5</td>\n",
       "      <td>4.0</td>\n",
       "      <td>4.0</td>\n",
       "      <td>1.5</td>\n",
       "      <td>4.0</td>\n",
       "    </tr>\n",
       "    <tr>\n",
       "      <th>16729706</th>\n",
       "      <td>4.0</td>\n",
       "      <td>2.7</td>\n",
       "      <td>1.8</td>\n",
       "      <td>3.2</td>\n",
       "      <td>2.0</td>\n",
       "      <td>2.0</td>\n",
       "      <td>4.0</td>\n",
       "      <td>3.5</td>\n",
       "      <td>4.0</td>\n",
       "      <td>4.0</td>\n",
       "      <td>4.0</td>\n",
       "      <td>4.0</td>\n",
       "      <td>4.0</td>\n",
       "      <td>3.4</td>\n",
       "      <td>3.5</td>\n",
       "      <td>2.6</td>\n",
       "      <td>3.7</td>\n",
       "      <td>3.8</td>\n",
       "      <td>1.5</td>\n",
       "      <td>2.8</td>\n",
       "    </tr>\n",
       "    <tr>\n",
       "      <th>17931606</th>\n",
       "      <td>1.5</td>\n",
       "      <td>1.0</td>\n",
       "      <td>1.0</td>\n",
       "      <td>1.5</td>\n",
       "      <td>2.5</td>\n",
       "      <td>2.5</td>\n",
       "      <td>2.0</td>\n",
       "      <td>1.5</td>\n",
       "      <td>1.0</td>\n",
       "      <td>4.0</td>\n",
       "      <td>4.0</td>\n",
       "      <td>4.0</td>\n",
       "      <td>4.0</td>\n",
       "      <td>2.6</td>\n",
       "      <td>2.9</td>\n",
       "      <td>2.9</td>\n",
       "      <td>3.8</td>\n",
       "      <td>3.8</td>\n",
       "      <td>2.7</td>\n",
       "      <td>3.1</td>\n",
       "    </tr>\n",
       "    <tr>\n",
       "      <th>...</th>\n",
       "      <td>...</td>\n",
       "      <td>...</td>\n",
       "      <td>...</td>\n",
       "      <td>...</td>\n",
       "      <td>...</td>\n",
       "      <td>...</td>\n",
       "      <td>...</td>\n",
       "      <td>...</td>\n",
       "      <td>...</td>\n",
       "      <td>...</td>\n",
       "      <td>...</td>\n",
       "      <td>...</td>\n",
       "      <td>...</td>\n",
       "      <td>...</td>\n",
       "      <td>...</td>\n",
       "      <td>...</td>\n",
       "      <td>...</td>\n",
       "      <td>...</td>\n",
       "      <td>...</td>\n",
       "      <td>...</td>\n",
       "    </tr>\n",
       "    <tr>\n",
       "      <th>19351806</th>\n",
       "      <td>4.0</td>\n",
       "      <td>3.5</td>\n",
       "      <td>4.0</td>\n",
       "      <td>4.0</td>\n",
       "      <td>4.0</td>\n",
       "      <td>4.0</td>\n",
       "      <td>3.6</td>\n",
       "      <td>3.4</td>\n",
       "      <td>3.3</td>\n",
       "      <td>3.7</td>\n",
       "      <td>4.0</td>\n",
       "      <td>3.8</td>\n",
       "      <td>4.0</td>\n",
       "      <td>3.1</td>\n",
       "      <td>3.3</td>\n",
       "      <td>3.3</td>\n",
       "      <td>4.0</td>\n",
       "      <td>3.3</td>\n",
       "      <td>3.7</td>\n",
       "      <td>2.9</td>\n",
       "    </tr>\n",
       "    <tr>\n",
       "      <th>19351406</th>\n",
       "      <td>4.0</td>\n",
       "      <td>3.5</td>\n",
       "      <td>4.0</td>\n",
       "      <td>4.0</td>\n",
       "      <td>4.0</td>\n",
       "      <td>4.0</td>\n",
       "      <td>3.6</td>\n",
       "      <td>3.4</td>\n",
       "      <td>3.3</td>\n",
       "      <td>3.7</td>\n",
       "      <td>4.0</td>\n",
       "      <td>3.8</td>\n",
       "      <td>4.0</td>\n",
       "      <td>3.1</td>\n",
       "      <td>3.3</td>\n",
       "      <td>3.3</td>\n",
       "      <td>4.0</td>\n",
       "      <td>3.3</td>\n",
       "      <td>3.7</td>\n",
       "      <td>2.9</td>\n",
       "    </tr>\n",
       "    <tr>\n",
       "      <th>19351006</th>\n",
       "      <td>4.0</td>\n",
       "      <td>3.5</td>\n",
       "      <td>4.0</td>\n",
       "      <td>4.0</td>\n",
       "      <td>4.0</td>\n",
       "      <td>4.0</td>\n",
       "      <td>3.6</td>\n",
       "      <td>3.4</td>\n",
       "      <td>3.3</td>\n",
       "      <td>3.7</td>\n",
       "      <td>4.0</td>\n",
       "      <td>3.8</td>\n",
       "      <td>4.0</td>\n",
       "      <td>3.1</td>\n",
       "      <td>3.3</td>\n",
       "      <td>3.3</td>\n",
       "      <td>4.0</td>\n",
       "      <td>3.3</td>\n",
       "      <td>3.7</td>\n",
       "      <td>2.9</td>\n",
       "    </tr>\n",
       "    <tr>\n",
       "      <th>19350506</th>\n",
       "      <td>4.0</td>\n",
       "      <td>3.5</td>\n",
       "      <td>4.0</td>\n",
       "      <td>4.0</td>\n",
       "      <td>4.0</td>\n",
       "      <td>4.0</td>\n",
       "      <td>3.6</td>\n",
       "      <td>3.4</td>\n",
       "      <td>3.3</td>\n",
       "      <td>3.7</td>\n",
       "      <td>4.0</td>\n",
       "      <td>3.8</td>\n",
       "      <td>4.0</td>\n",
       "      <td>3.1</td>\n",
       "      <td>3.3</td>\n",
       "      <td>3.3</td>\n",
       "      <td>4.0</td>\n",
       "      <td>3.3</td>\n",
       "      <td>3.7</td>\n",
       "      <td>2.9</td>\n",
       "    </tr>\n",
       "    <tr>\n",
       "      <th>19350006</th>\n",
       "      <td>4.0</td>\n",
       "      <td>3.5</td>\n",
       "      <td>4.0</td>\n",
       "      <td>4.0</td>\n",
       "      <td>4.0</td>\n",
       "      <td>4.0</td>\n",
       "      <td>3.6</td>\n",
       "      <td>3.4</td>\n",
       "      <td>3.3</td>\n",
       "      <td>3.7</td>\n",
       "      <td>4.0</td>\n",
       "      <td>3.8</td>\n",
       "      <td>4.0</td>\n",
       "      <td>3.1</td>\n",
       "      <td>3.3</td>\n",
       "      <td>3.3</td>\n",
       "      <td>4.0</td>\n",
       "      <td>3.3</td>\n",
       "      <td>3.7</td>\n",
       "      <td>2.9</td>\n",
       "    </tr>\n",
       "  </tbody>\n",
       "</table>\n",
       "<p>5437 rows × 20 columns</p>\n",
       "</div>"
      ],
      "text/plain": [
       "            BI-PA1  BI-PAI  BI-CAO  BI-PS1  BI-MLO  BI-ZMA  BI-PA2  BI-DBS  \\\n",
       "studium_id                                                                   \n",
       "17929506       1.5     2.0     1.5     2.0     2.0     2.5     4.0     2.0   \n",
       "17931206       4.0     2.0     1.5     2.5     4.0     4.0     4.0     4.0   \n",
       "15569706       3.0     1.5     1.5     2.0     1.5     1.5     2.0     1.0   \n",
       "16729706       4.0     2.7     1.8     3.2     2.0     2.0     4.0     3.5   \n",
       "17931606       1.5     1.0     1.0     1.5     2.5     2.5     2.0     1.5   \n",
       "...            ...     ...     ...     ...     ...     ...     ...     ...   \n",
       "19351806       4.0     3.5     4.0     4.0     4.0     4.0     3.6     3.4   \n",
       "19351406       4.0     3.5     4.0     4.0     4.0     4.0     3.6     3.4   \n",
       "19351006       4.0     3.5     4.0     4.0     4.0     4.0     3.6     3.4   \n",
       "19350506       4.0     3.5     4.0     4.0     4.0     4.0     3.6     3.4   \n",
       "19350006       4.0     3.5     4.0     4.0     4.0     4.0     3.6     3.4   \n",
       "\n",
       "            BI-SAP  BI-LIN  BI-AG1  BI-AAG  BI-ZDM  BI-OSY  BI-PSI  BI-BEZ  \\\n",
       "studium_id                                                                   \n",
       "17929506       4.0     3.0     4.0     4.0     4.0     3.6     3.4     2.3   \n",
       "17931206       4.0     4.0     4.0     4.0     4.0     3.1     3.2     2.8   \n",
       "15569706       1.0     2.0     2.0     1.5     2.0     1.0     2.0     1.5   \n",
       "16729706       4.0     4.0     4.0     4.0     4.0     3.4     3.5     2.6   \n",
       "17931606       1.0     4.0     4.0     4.0     4.0     2.6     2.9     2.9   \n",
       "...            ...     ...     ...     ...     ...     ...     ...     ...   \n",
       "19351806       3.3     3.7     4.0     3.8     4.0     3.1     3.3     3.3   \n",
       "19351406       3.3     3.7     4.0     3.8     4.0     3.1     3.3     3.3   \n",
       "19351006       3.3     3.7     4.0     3.8     4.0     3.1     3.3     3.3   \n",
       "19350506       3.3     3.7     4.0     3.8     4.0     3.1     3.3     3.3   \n",
       "19350006       3.3     3.7     4.0     3.8     4.0     3.1     3.3     3.3   \n",
       "\n",
       "            BI-PST  BI-DPR  BI-SI1.2  BI-EMP  \n",
       "studium_id                                    \n",
       "17929506       4.0     4.0       2.7     3.2  \n",
       "17931206       3.7     3.4       2.8     2.2  \n",
       "15569706       4.0     4.0       1.5     4.0  \n",
       "16729706       3.7     3.8       1.5     2.8  \n",
       "17931606       3.8     3.8       2.7     3.1  \n",
       "...            ...     ...       ...     ...  \n",
       "19351806       4.0     3.3       3.7     2.9  \n",
       "19351406       4.0     3.3       3.7     2.9  \n",
       "19351006       4.0     3.3       3.7     2.9  \n",
       "19350506       4.0     3.3       3.7     2.9  \n",
       "19350006       4.0     3.3       3.7     2.9  \n",
       "\n",
       "[5437 rows x 20 columns]"
      ]
     },
     "execution_count": 7,
     "metadata": {},
     "output_type": "execute_result"
    }
   ],
   "source": [
    "matrix"
   ]
  },
  {
   "cell_type": "markdown",
   "id": "removable-monthly",
   "metadata": {},
   "source": [
    "## Zaokrouhlení doplněných hodnot"
   ]
  },
  {
   "cell_type": "code",
   "execution_count": null,
   "id": "opposed-medicare",
   "metadata": {},
   "outputs": [],
   "source": [
    "grades = [1, 1.5, 2, 2.5, 3, 4]"
   ]
  },
  {
   "cell_type": "code",
   "execution_count": null,
   "id": "convertible-parish",
   "metadata": {},
   "outputs": [],
   "source": [
    "def custom_round(value):\n",
    "    return min(grades, key=lambda x:abs(x-value))"
   ]
  },
  {
   "cell_type": "code",
   "execution_count": null,
   "id": "essential-philip",
   "metadata": {},
   "outputs": [],
   "source": [
    "matrix = matrix.applymap(custom_round)"
   ]
  },
  {
   "cell_type": "code",
   "execution_count": null,
   "id": "finite-edition",
   "metadata": {},
   "outputs": [],
   "source": [
    "matrix"
   ]
  },
  {
   "cell_type": "markdown",
   "id": "painful-ghana",
   "metadata": {},
   "source": [
    "## Nastavení atributů na kategorické - ordinální"
   ]
  },
  {
   "cell_type": "code",
   "execution_count": null,
   "id": "stretch-familiar",
   "metadata": {},
   "outputs": [],
   "source": [
    "# ordinální\n",
    "grades_category = pd.api.types.CategoricalDtype(categories=[1, 1.5, 2, 2.5, 3, 4], ordered=True)\n",
    "# BI-PA1\n",
    "matrix['BI-PA1'] = matrix['BI-PA1'].astype(grades_category)\n",
    "# BI-PAI\n",
    "matrix['BI-PAI'] = matrix['BI-PAI'].astype(grades_category)\n",
    "# BI-CAO\n",
    "matrix['BI-CAO'] = matrix['BI-CAO'].astype(grades_category)\n",
    "# BI-PS1\n",
    "matrix['BI-PS1'] = matrix['BI-PS1'].astype(grades_category)\n",
    "# BI-MLO\n",
    "matrix['BI-MLO'] = matrix['BI-MLO'].astype(grades_category)\n",
    "# BI-ZMA\n",
    "matrix['BI-ZMA'] = matrix['BI-ZMA'].astype(grades_category)\n",
    "# BI-PA2\n",
    "matrix['BI-PA2'] = matrix['BI-PA2'].astype(grades_category)\n",
    "# BI-DBS\n",
    "matrix['BI-DBS'] = matrix['BI-DBS'].astype(grades_category)\n",
    "# BI-SAP\n",
    "matrix['BI-SAP'] = matrix['BI-SAP'].astype(grades_category)\n",
    "# BI-LIN\n",
    "matrix['BI-LIN'] = matrix['BI-LIN'].astype(grades_category)\n",
    "# BI-AG1\n",
    "matrix['BI-AG1'] = matrix['BI-AG1'].astype(grades_category)\n",
    "# BI-AAG\n",
    "matrix['BI-AAG'] = matrix['BI-AAG'].astype(grades_category)\n",
    "# BI-ZDM\n",
    "matrix['BI-ZDM'] = matrix['BI-ZDM'].astype(grades_category)\n",
    "# BI-OSY\n",
    "matrix['BI-OSY'] = matrix['BI-OSY'].astype(grades_category)\n",
    "# BI-PSI\n",
    "matrix['BI-PSI'] = matrix['BI-PSI'].astype(grades_category)\n",
    "# BI-BEZ\n",
    "matrix['BI-BEZ'] = matrix['BI-BEZ'].astype(grades_category)\n",
    "# BI-PST\n",
    "matrix['BI-PST'] = matrix['BI-PST'].astype(grades_category)\n",
    "# BI-SI1.2\n",
    "matrix['BI-SI1.2'] = matrix['BI-SI1.2'].astype(grades_category)\n",
    "# BI-MLO\n",
    "matrix['BI-EMP'] = matrix['BI-EMP'].astype(grades_category)\n",
    "# BI-DPR\n",
    "matrix['BI-DPR'] = matrix['BI-DPR'].astype(grades_category)"
   ]
  },
  {
   "cell_type": "markdown",
   "id": "molecular-organization",
   "metadata": {},
   "source": [
    "## Rozdělení datasetu"
   ]
  },
  {
   "cell_type": "code",
   "execution_count": 8,
   "id": "governmental-testament",
   "metadata": {},
   "outputs": [],
   "source": [
    "train, test = train_test_split(matrix, test_size=0.2)"
   ]
  },
  {
   "cell_type": "markdown",
   "id": "incorporated-occurrence",
   "metadata": {},
   "source": [
    "## Nastavení param_grid "
   ]
  },
  {
   "cell_type": "code",
   "execution_count": 9,
   "id": "white-grove",
   "metadata": {},
   "outputs": [],
   "source": [
    "param_grid = {\n",
    "    'n_neighbors' : range(5, 20), # Počet nejbližších sousedů\n",
    "    'weights' : ['uniform', 'distance']\n",
    "}\n",
    "param_comb = ParameterGrid(param_grid)"
   ]
  },
  {
   "cell_type": "markdown",
   "id": "religious-diabetes",
   "metadata": {},
   "source": [
    "## PA1"
   ]
  },
  {
   "cell_type": "code",
   "execution_count": 11,
   "id": "continued-semester",
   "metadata": {},
   "outputs": [],
   "source": [
    "Xtrain_pa1 = train[courses_cluster_3].drop(columns='BI-PA1')\n",
    "ytrain_pa1 = train['BI-PA1']\n",
    "\n",
    "Xtest_pa1 = test[courses_cluster_3].drop(columns='BI-PA1')\n",
    "ytest_pa1 = test['BI-PA1']"
   ]
  },
  {
   "cell_type": "code",
   "execution_count": 12,
   "id": "early-feedback",
   "metadata": {},
   "outputs": [],
   "source": [
    "knn_pa1 = GridSearchCV(KNeighborsRegressor(), param_grid)"
   ]
  },
  {
   "cell_type": "code",
   "execution_count": 13,
   "id": "amazing-siemens",
   "metadata": {},
   "outputs": [
    {
     "data": {
      "text/plain": [
       "GridSearchCV(estimator=KNeighborsRegressor(),\n",
       "             param_grid={'n_neighbors': range(5, 20),\n",
       "                         'weights': ['uniform', 'distance']})"
      ]
     },
     "execution_count": 13,
     "metadata": {},
     "output_type": "execute_result"
    }
   ],
   "source": [
    "knn_pa1.fit(Xtrain_pa1, ytrain_pa1)"
   ]
  },
  {
   "cell_type": "code",
   "execution_count": 14,
   "id": "hollow-acting",
   "metadata": {},
   "outputs": [
    {
     "name": "stdout",
     "output_type": "stream",
     "text": [
      "{'n_neighbors': 19, 'weights': 'uniform'}\n"
     ]
    }
   ],
   "source": [
    "print(knn_pa1.best_params_)"
   ]
  },
  {
   "cell_type": "code",
   "execution_count": 15,
   "id": "conditional-physiology",
   "metadata": {},
   "outputs": [],
   "source": [
    "train_pa1_err = np.sqrt(mean_squared_error(knn_pa1.predict(Xtrain_pa1), np.array(ytrain_pa1)))\n",
    "test_pa1_err = np.sqrt(mean_squared_error(knn_pa1.predict(Xtest_pa1), np.array(ytest_pa1)))"
   ]
  },
  {
   "cell_type": "code",
   "execution_count": 16,
   "id": "golden-playback",
   "metadata": {},
   "outputs": [
    {
     "name": "stdout",
     "output_type": "stream",
     "text": [
      "RMSE reg (train): 0.49867227484895194\n",
      "RMSE reg (test): 0.49867227484895194\n"
     ]
    }
   ],
   "source": [
    "print('RMSE reg (train):', train_pa1_err)\n",
    "print('RMSE reg (test):', train_pa1_err)"
   ]
  },
  {
   "cell_type": "markdown",
   "id": "norwegian-uniform",
   "metadata": {},
   "source": [
    "## PAI"
   ]
  },
  {
   "cell_type": "code",
   "execution_count": 17,
   "id": "pleased-russell",
   "metadata": {},
   "outputs": [],
   "source": [
    "Xtrain_pai = train[courses_cluster_4].drop(columns='BI-PAI')\n",
    "ytrain_pai = train['BI-PAI']\n",
    "\n",
    "Xtest_pai = test[courses_cluster_4].drop(columns='BI-PAI')\n",
    "ytest_pai = test['BI-PAI']"
   ]
  },
  {
   "cell_type": "code",
   "execution_count": 18,
   "id": "adolescent-harvey",
   "metadata": {},
   "outputs": [],
   "source": [
    "knn_pai = GridSearchCV(KNeighborsRegressor(), param_grid, cv=5)"
   ]
  },
  {
   "cell_type": "code",
   "execution_count": 19,
   "id": "mechanical-interstate",
   "metadata": {},
   "outputs": [
    {
     "data": {
      "text/plain": [
       "GridSearchCV(cv=5, estimator=KNeighborsRegressor(),\n",
       "             param_grid={'n_neighbors': range(5, 20),\n",
       "                         'weights': ['uniform', 'distance']})"
      ]
     },
     "execution_count": 19,
     "metadata": {},
     "output_type": "execute_result"
    }
   ],
   "source": [
    "knn_pai.fit(Xtrain_pai, ytrain_pai)"
   ]
  },
  {
   "cell_type": "code",
   "execution_count": 23,
   "id": "contrary-affect",
   "metadata": {},
   "outputs": [],
   "source": [
    "train_pai_err = np.sqrt(mean_squared_error(knn_pai.predict(Xtrain_pai), np.array(ytrain_pai)))\n",
    "test_pai_err = np.sqrt(mean_squared_error(knn_pai.predict(Xtest_pai), np.array(ytest_pai)))"
   ]
  },
  {
   "cell_type": "code",
   "execution_count": 24,
   "id": "white-advisory",
   "metadata": {},
   "outputs": [
    {
     "name": "stdout",
     "output_type": "stream",
     "text": [
      "RMSE reg (train): 0.11650516231610909\n",
      "RMSE reg (test): 0.46232128311753595\n"
     ]
    }
   ],
   "source": [
    "print('RMSE reg (train):', train_pai_err)\n",
    "print('RMSE reg (test):', test_pai_err)"
   ]
  },
  {
   "cell_type": "markdown",
   "id": "quality-insulin",
   "metadata": {},
   "source": [
    "## ZMA"
   ]
  },
  {
   "cell_type": "code",
   "execution_count": 25,
   "id": "behind-surprise",
   "metadata": {},
   "outputs": [],
   "source": [
    "Xtrain_zma = train[courses_cluster_2].drop(columns='BI-ZMA')\n",
    "ytrain_zma = train['BI-ZMA']\n",
    "\n",
    "Xtest_zma = test[courses_cluster_2].drop(columns='BI-ZMA')\n",
    "ytest_zma = test['BI-ZMA']"
   ]
  },
  {
   "cell_type": "code",
   "execution_count": 26,
   "id": "functional-child",
   "metadata": {},
   "outputs": [],
   "source": [
    "knn_zma = GridSearchCV(KNeighborsRegressor(), param_grid, cv=5)"
   ]
  },
  {
   "cell_type": "code",
   "execution_count": 27,
   "id": "sustainable-dealing",
   "metadata": {},
   "outputs": [
    {
     "data": {
      "text/plain": [
       "GridSearchCV(cv=5, estimator=KNeighborsRegressor(),\n",
       "             param_grid={'n_neighbors': range(5, 20),\n",
       "                         'weights': ['uniform', 'distance']})"
      ]
     },
     "execution_count": 27,
     "metadata": {},
     "output_type": "execute_result"
    }
   ],
   "source": [
    "knn_zma.fit(Xtrain_zma, ytrain_zma)"
   ]
  },
  {
   "cell_type": "code",
   "execution_count": 28,
   "id": "seeing-bernard",
   "metadata": {},
   "outputs": [],
   "source": [
    "train_zma_err = np.sqrt(mean_squared_error(knn_zma.predict(Xtrain_zma), np.array(ytrain_zma)))\n",
    "test_zma_err = np.sqrt(mean_squared_error(knn_zma.predict(Xtest_zma), np.array(ytest_zma)))"
   ]
  },
  {
   "cell_type": "code",
   "execution_count": 29,
   "id": "federal-charlotte",
   "metadata": {},
   "outputs": [
    {
     "name": "stdout",
     "output_type": "stream",
     "text": [
      "RMSE reg (train): 0.5063927587126505\n",
      "RMSE reg (test): 0.5722954914723496\n"
     ]
    }
   ],
   "source": [
    "print('RMSE reg (train):', train_zma_err)\n",
    "print('RMSE reg (test):', test_zma_err)"
   ]
  },
  {
   "cell_type": "markdown",
   "id": "correct-picking",
   "metadata": {},
   "source": [
    "## MLO"
   ]
  },
  {
   "cell_type": "code",
   "execution_count": 34,
   "id": "sacred-battery",
   "metadata": {},
   "outputs": [],
   "source": [
    "Xtrain_mlo = train[courses_cluster_2].drop(columns='BI-MLO')\n",
    "ytrain_mlo = train['BI-MLO']\n",
    "\n",
    "Xtest_mlo = test[courses_cluster_2].drop(columns='BI-MLO')\n",
    "ytest_mlo = test['BI-MLO']"
   ]
  },
  {
   "cell_type": "code",
   "execution_count": 35,
   "id": "blocked-treatment",
   "metadata": {},
   "outputs": [],
   "source": [
    "knn_mlo = GridSearchCV(KNeighborsRegressor(), param_grid, cv=5)"
   ]
  },
  {
   "cell_type": "code",
   "execution_count": 36,
   "id": "equivalent-crown",
   "metadata": {},
   "outputs": [
    {
     "data": {
      "text/plain": [
       "GridSearchCV(cv=5, estimator=KNeighborsRegressor(),\n",
       "             param_grid={'n_neighbors': range(5, 20),\n",
       "                         'weights': ['uniform', 'distance']})"
      ]
     },
     "execution_count": 36,
     "metadata": {},
     "output_type": "execute_result"
    }
   ],
   "source": [
    "knn_mlo.fit(Xtrain_mlo, ytrain_mlo)"
   ]
  },
  {
   "cell_type": "code",
   "execution_count": 37,
   "id": "understanding-shadow",
   "metadata": {},
   "outputs": [],
   "source": [
    "train_mlo_err = np.sqrt(mean_squared_error(knn_mlo.predict(Xtrain_mlo), np.array(ytrain_mlo)))\n",
    "test_mlo_err = np.sqrt(mean_squared_error(knn_mlo.predict(Xtest_mlo), np.array(ytest_mlo)))"
   ]
  },
  {
   "cell_type": "code",
   "execution_count": 38,
   "id": "contemporary-recognition",
   "metadata": {},
   "outputs": [
    {
     "name": "stdout",
     "output_type": "stream",
     "text": [
      "RMSE reg (train): 0.5413768013431374\n",
      "RMSE reg (test): 0.5892899034198024\n"
     ]
    }
   ],
   "source": [
    "print('RMSE reg (train):', train_mlo_err)\n",
    "print('RMSE reg (test):', test_mlo_err)"
   ]
  },
  {
   "cell_type": "markdown",
   "id": "subjective-concept",
   "metadata": {},
   "source": [
    "## CAO"
   ]
  },
  {
   "cell_type": "code",
   "execution_count": 39,
   "id": "waiting-dryer",
   "metadata": {},
   "outputs": [],
   "source": [
    "Xtrain_cao = train[courses_cluster_1].drop(columns='BI-CAO')\n",
    "ytrain_cao = train['BI-CAO']\n",
    "\n",
    "Xtest_cao = test[courses_cluster_1].drop(columns='BI-CAO')\n",
    "ytest_cao = test['BI-CAO']"
   ]
  },
  {
   "cell_type": "code",
   "execution_count": 40,
   "id": "dense-yeast",
   "metadata": {},
   "outputs": [],
   "source": [
    "knn_cao = GridSearchCV(KNeighborsRegressor(), param_grid, cv=5)"
   ]
  },
  {
   "cell_type": "code",
   "execution_count": 41,
   "id": "elder-coalition",
   "metadata": {},
   "outputs": [
    {
     "data": {
      "text/plain": [
       "GridSearchCV(cv=5, estimator=KNeighborsRegressor(),\n",
       "             param_grid={'n_neighbors': range(5, 20),\n",
       "                         'weights': ['uniform', 'distance']})"
      ]
     },
     "execution_count": 41,
     "metadata": {},
     "output_type": "execute_result"
    }
   ],
   "source": [
    "knn_cao.fit(Xtrain_cao, ytrain_cao)"
   ]
  },
  {
   "cell_type": "code",
   "execution_count": 42,
   "id": "broadband-knowing",
   "metadata": {},
   "outputs": [],
   "source": [
    "train_cao_err = np.sqrt(mean_squared_error(knn_cao.predict(Xtrain_cao), np.array(ytrain_cao)))\n",
    "test_cao_err = np.sqrt(mean_squared_error(knn_cao.predict(Xtest_cao), np.array(ytest_cao)))"
   ]
  },
  {
   "cell_type": "code",
   "execution_count": 43,
   "id": "liberal-smith",
   "metadata": {},
   "outputs": [
    {
     "name": "stdout",
     "output_type": "stream",
     "text": [
      "RMSE reg (train): 0.5567837398028523\n",
      "RMSE reg (test): 0.6001376359364475\n"
     ]
    }
   ],
   "source": [
    "print('RMSE reg (train):', train_cao_err)\n",
    "print('RMSE reg (test):', test_cao_err)"
   ]
  },
  {
   "cell_type": "markdown",
   "id": "defined-albany",
   "metadata": {},
   "source": [
    "## PS1"
   ]
  },
  {
   "cell_type": "code",
   "execution_count": 44,
   "id": "monetary-miller",
   "metadata": {},
   "outputs": [],
   "source": [
    "Xtrain_ps1 = train[courses_cluster_3].drop(columns='BI-PS1')\n",
    "ytrain_ps1 = train['BI-PS1']\n",
    "\n",
    "Xtest_ps1 = test[courses_cluster_3].drop(columns='BI-PS1')\n",
    "ytest_ps1 = test['BI-PS1']"
   ]
  },
  {
   "cell_type": "code",
   "execution_count": 45,
   "id": "plastic-thesaurus",
   "metadata": {},
   "outputs": [],
   "source": [
    "knn_ps1 = GridSearchCV(KNeighborsRegressor(), param_grid, cv=5)"
   ]
  },
  {
   "cell_type": "code",
   "execution_count": 46,
   "id": "shared-teddy",
   "metadata": {},
   "outputs": [
    {
     "data": {
      "text/plain": [
       "GridSearchCV(cv=5, estimator=KNeighborsRegressor(),\n",
       "             param_grid={'n_neighbors': range(5, 20),\n",
       "                         'weights': ['uniform', 'distance']})"
      ]
     },
     "execution_count": 46,
     "metadata": {},
     "output_type": "execute_result"
    }
   ],
   "source": [
    "knn_ps1.fit(Xtrain_ps1, ytrain_ps1)"
   ]
  },
  {
   "cell_type": "code",
   "execution_count": 47,
   "id": "sonic-multiple",
   "metadata": {},
   "outputs": [],
   "source": [
    "train_ps1_err = np.sqrt(mean_squared_error(knn_ps1.predict(Xtrain_ps1), np.array(ytrain_ps1)))\n",
    "test_ps1_err = np.sqrt(mean_squared_error(knn_ps1.predict(Xtest_ps1), np.array(ytest_ps1)))"
   ]
  },
  {
   "cell_type": "code",
   "execution_count": 48,
   "id": "exempt-classification",
   "metadata": {},
   "outputs": [
    {
     "name": "stdout",
     "output_type": "stream",
     "text": [
      "RMSE reg (train): 0.5494730840576825\n",
      "RMSE reg (test): 0.5791188308498872\n"
     ]
    }
   ],
   "source": [
    "print('RMSE reg (train):', train_ps1_err)\n",
    "print('RMSE reg (test):', test_ps1_err)"
   ]
  },
  {
   "cell_type": "markdown",
   "id": "italic-hardwood",
   "metadata": {},
   "source": [
    "## PA2"
   ]
  },
  {
   "cell_type": "code",
   "execution_count": 49,
   "id": "cleared-parade",
   "metadata": {},
   "outputs": [],
   "source": [
    "Xtrain_pa2 = train[courses_cluster_3].drop(columns='BI-PA2')\n",
    "ytrain_pa2 = train['BI-PA2']\n",
    "\n",
    "Xtest_pa2 = test[courses_cluster_3].drop(columns='BI-PA2')\n",
    "ytest_pa2 = test['BI-PA2']"
   ]
  },
  {
   "cell_type": "code",
   "execution_count": 50,
   "id": "intensive-water",
   "metadata": {},
   "outputs": [],
   "source": [
    "knn_pa2 = GridSearchCV(KNeighborsRegressor(), param_grid, cv=5)"
   ]
  },
  {
   "cell_type": "code",
   "execution_count": 51,
   "id": "fossil-venezuela",
   "metadata": {},
   "outputs": [
    {
     "data": {
      "text/plain": [
       "GridSearchCV(cv=5, estimator=KNeighborsRegressor(),\n",
       "             param_grid={'n_neighbors': range(5, 20),\n",
       "                         'weights': ['uniform', 'distance']})"
      ]
     },
     "execution_count": 51,
     "metadata": {},
     "output_type": "execute_result"
    }
   ],
   "source": [
    "knn_pa2.fit(Xtrain_pa2, ytrain_pa2)"
   ]
  },
  {
   "cell_type": "code",
   "execution_count": 52,
   "id": "robust-inspection",
   "metadata": {},
   "outputs": [],
   "source": [
    "train_pa2_err = np.sqrt(mean_squared_error(knn_ps1.predict(Xtrain_pa2), np.array(ytrain_pa2)))\n",
    "test_pa2_err = np.sqrt(mean_squared_error(knn_ps1.predict(Xtest_pa2), np.array(ytest_pa2)))"
   ]
  },
  {
   "cell_type": "code",
   "execution_count": 53,
   "id": "ceramic-appeal",
   "metadata": {},
   "outputs": [
    {
     "name": "stdout",
     "output_type": "stream",
     "text": [
      "RMSE reg (train): 0.7395863234464464\n",
      "RMSE reg (test): 0.76615633119218\n"
     ]
    }
   ],
   "source": [
    "print('RMSE reg (train):', train_pa2_err)\n",
    "print('RMSE reg (test):', test_pa2_err)"
   ]
  },
  {
   "cell_type": "markdown",
   "id": "military-philosophy",
   "metadata": {},
   "source": [
    "## LIN"
   ]
  },
  {
   "cell_type": "code",
   "execution_count": 54,
   "id": "colonial-recall",
   "metadata": {},
   "outputs": [],
   "source": [
    "Xtrain_lin = train[courses_cluster_2].drop(columns='BI-LIN')\n",
    "ytrain_lin = train['BI-LIN']\n",
    "\n",
    "Xtest_lin = test[courses_cluster_2].drop(columns='BI-LIN')\n",
    "ytest_lin = test['BI-LIN']"
   ]
  },
  {
   "cell_type": "code",
   "execution_count": 55,
   "id": "japanese-sheep",
   "metadata": {},
   "outputs": [],
   "source": [
    "knn_lin = GridSearchCV(KNeighborsRegressor(), param_grid, cv=5)"
   ]
  },
  {
   "cell_type": "code",
   "execution_count": 56,
   "id": "three-mailman",
   "metadata": {},
   "outputs": [
    {
     "data": {
      "text/plain": [
       "GridSearchCV(cv=5, estimator=KNeighborsRegressor(),\n",
       "             param_grid={'n_neighbors': range(5, 20),\n",
       "                         'weights': ['uniform', 'distance']})"
      ]
     },
     "execution_count": 56,
     "metadata": {},
     "output_type": "execute_result"
    }
   ],
   "source": [
    "knn_lin.fit(Xtrain_lin, ytrain_lin)"
   ]
  },
  {
   "cell_type": "code",
   "execution_count": 57,
   "id": "anticipated-rendering",
   "metadata": {},
   "outputs": [],
   "source": [
    "train_lin_err = np.sqrt(mean_squared_error(knn_lin.predict(Xtrain_lin), np.array(ytrain_lin)))\n",
    "test_lin_err = np.sqrt(mean_squared_error(knn_lin.predict(Xtest_lin), np.array(ytest_lin)))"
   ]
  },
  {
   "cell_type": "code",
   "execution_count": 58,
   "id": "polar-japan",
   "metadata": {},
   "outputs": [
    {
     "name": "stdout",
     "output_type": "stream",
     "text": [
      "RMSE reg (train): 0.4215822500139339\n",
      "RMSE reg (test): 0.4233387445127416\n"
     ]
    }
   ],
   "source": [
    "print('RMSE reg (train):', train_lin_err)\n",
    "print('RMSE reg (test):', test_lin_err)"
   ]
  },
  {
   "cell_type": "markdown",
   "id": "abroad-peace",
   "metadata": {},
   "source": [
    "## DBS"
   ]
  },
  {
   "cell_type": "code",
   "execution_count": 59,
   "id": "endangered-still",
   "metadata": {},
   "outputs": [],
   "source": [
    "Xtrain_dbs = train[courses_cluster_4].drop(columns='BI-DBS')\n",
    "ytrain_dbs = train['BI-DBS']\n",
    "\n",
    "Xtest_dbs = test[courses_cluster_4].drop(columns='BI-DBS')\n",
    "ytest_dbs = test['BI-DBS']"
   ]
  },
  {
   "cell_type": "code",
   "execution_count": 60,
   "id": "academic-austria",
   "metadata": {},
   "outputs": [],
   "source": [
    "knn_dbs = GridSearchCV(KNeighborsRegressor(), param_grid, cv=5)"
   ]
  },
  {
   "cell_type": "code",
   "execution_count": 61,
   "id": "sunset-pharmaceutical",
   "metadata": {},
   "outputs": [
    {
     "data": {
      "text/plain": [
       "GridSearchCV(cv=5, estimator=KNeighborsRegressor(),\n",
       "             param_grid={'n_neighbors': range(5, 20),\n",
       "                         'weights': ['uniform', 'distance']})"
      ]
     },
     "execution_count": 61,
     "metadata": {},
     "output_type": "execute_result"
    }
   ],
   "source": [
    "knn_dbs.fit(Xtrain_dbs, ytrain_dbs)"
   ]
  },
  {
   "cell_type": "code",
   "execution_count": 62,
   "id": "written-business",
   "metadata": {},
   "outputs": [],
   "source": [
    "train_dbs_err = np.sqrt(mean_squared_error(knn_dbs.predict(Xtrain_dbs), np.array(ytrain_dbs)))\n",
    "test_dbs_err = np.sqrt(mean_squared_error(knn_dbs.predict(Xtest_dbs), np.array(ytest_dbs)))"
   ]
  },
  {
   "cell_type": "code",
   "execution_count": 63,
   "id": "living-hamilton",
   "metadata": {},
   "outputs": [
    {
     "name": "stdout",
     "output_type": "stream",
     "text": [
      "RMSE reg (train): 0.10009330713810448\n",
      "RMSE reg (test): 0.5265203624982709\n"
     ]
    }
   ],
   "source": [
    "print('RMSE reg (train):', train_dbs_err)\n",
    "print('RMSE reg (test):', test_dbs_err)"
   ]
  },
  {
   "cell_type": "markdown",
   "id": "confirmed-pressure",
   "metadata": {},
   "source": [
    "## SAP"
   ]
  },
  {
   "cell_type": "code",
   "execution_count": 64,
   "id": "sized-attribute",
   "metadata": {},
   "outputs": [],
   "source": [
    "Xtrain_sap = train[courses_cluster_4].drop(columns='BI-SAP')\n",
    "ytrain_sap = train['BI-SAP']\n",
    "\n",
    "Xtest_sap = test[courses_cluster_4].drop(columns='BI-SAP')\n",
    "ytest_sap = test['BI-SAP']"
   ]
  },
  {
   "cell_type": "code",
   "execution_count": 65,
   "id": "crazy-delta",
   "metadata": {},
   "outputs": [],
   "source": [
    "knn_sap = GridSearchCV(KNeighborsRegressor(), param_grid, cv=5)"
   ]
  },
  {
   "cell_type": "code",
   "execution_count": 66,
   "id": "formal-cigarette",
   "metadata": {},
   "outputs": [
    {
     "data": {
      "text/plain": [
       "GridSearchCV(cv=5, estimator=KNeighborsRegressor(),\n",
       "             param_grid={'n_neighbors': range(5, 20),\n",
       "                         'weights': ['uniform', 'distance']})"
      ]
     },
     "execution_count": 66,
     "metadata": {},
     "output_type": "execute_result"
    }
   ],
   "source": [
    "knn_sap.fit(Xtrain_sap, ytrain_sap)"
   ]
  },
  {
   "cell_type": "code",
   "execution_count": 67,
   "id": "earned-shore",
   "metadata": {},
   "outputs": [],
   "source": [
    "train_sap_err = np.sqrt(mean_squared_error(knn_sap.predict(Xtrain_sap), np.array(ytrain_sap)))\n",
    "test_sap_err = np.sqrt(mean_squared_error(knn_sap.predict(Xtest_sap), np.array(ytest_sap)))"
   ]
  },
  {
   "cell_type": "code",
   "execution_count": 68,
   "id": "polish-disabled",
   "metadata": {},
   "outputs": [
    {
     "name": "stdout",
     "output_type": "stream",
     "text": [
      "RMSE reg (train): 0.5408403659177399\n",
      "RMSE reg (test): 0.5871138714469494\n"
     ]
    }
   ],
   "source": [
    "print('RMSE reg (train):', train_sap_err)\n",
    "print('RMSE reg (test):', test_sap_err)"
   ]
  },
  {
   "cell_type": "markdown",
   "id": "applied-colombia",
   "metadata": {},
   "source": [
    "## AAG"
   ]
  },
  {
   "cell_type": "code",
   "execution_count": 69,
   "id": "round-inflation",
   "metadata": {},
   "outputs": [],
   "source": [
    "Xtrain_aag = train[courses_cluster_4].drop(columns='BI-AAG')\n",
    "ytrain_aag = train['BI-AAG']\n",
    "\n",
    "Xtest_aag = test[courses_cluster_4].drop(columns='BI-AAG')\n",
    "ytest_aag = test['BI-AAG']"
   ]
  },
  {
   "cell_type": "code",
   "execution_count": 70,
   "id": "looking-philippines",
   "metadata": {},
   "outputs": [],
   "source": [
    "knn_aag = GridSearchCV(KNeighborsRegressor(), param_grid, cv=5)"
   ]
  },
  {
   "cell_type": "code",
   "execution_count": 71,
   "id": "immune-allen",
   "metadata": {},
   "outputs": [
    {
     "data": {
      "text/plain": [
       "GridSearchCV(cv=5, estimator=KNeighborsRegressor(),\n",
       "             param_grid={'n_neighbors': range(5, 20),\n",
       "                         'weights': ['uniform', 'distance']})"
      ]
     },
     "execution_count": 71,
     "metadata": {},
     "output_type": "execute_result"
    }
   ],
   "source": [
    "knn_aag.fit(Xtrain_aag, ytrain_aag)"
   ]
  },
  {
   "cell_type": "code",
   "execution_count": 72,
   "id": "forced-dairy",
   "metadata": {},
   "outputs": [],
   "source": [
    "train_aag_err = np.sqrt(mean_squared_error(knn_aag.predict(Xtrain_aag), np.array(ytrain_aag)))\n",
    "test_aag_err = np.sqrt(mean_squared_error(knn_aag.predict(Xtest_aag), np.array(ytest_aag)))"
   ]
  },
  {
   "cell_type": "code",
   "execution_count": 73,
   "id": "stone-failing",
   "metadata": {},
   "outputs": [
    {
     "name": "stdout",
     "output_type": "stream",
     "text": [
      "RMSE reg (train): 0.44977251251666306\n",
      "RMSE reg (test): 0.49443310627970605\n"
     ]
    }
   ],
   "source": [
    "print('RMSE reg (train):', train_aag_err)\n",
    "print('RMSE reg (test):', test_aag_err)"
   ]
  },
  {
   "cell_type": "markdown",
   "id": "drawn-virgin",
   "metadata": {},
   "source": [
    "## AG1"
   ]
  },
  {
   "cell_type": "code",
   "execution_count": 74,
   "id": "orange-alaska",
   "metadata": {},
   "outputs": [],
   "source": [
    "Xtrain_ag1 = train[courses_cluster_3].drop(columns='BI-AG1')\n",
    "ytrain_ag1 = train['BI-AG1']\n",
    "\n",
    "Xtest_ag1 = test[courses_cluster_3].drop(columns='BI-AG1')\n",
    "ytest_ag1 = test['BI-AG1']"
   ]
  },
  {
   "cell_type": "code",
   "execution_count": 75,
   "id": "gentle-bernard",
   "metadata": {},
   "outputs": [],
   "source": [
    "knn_ag1 = GridSearchCV(KNeighborsRegressor(), param_grid, cv=5)"
   ]
  },
  {
   "cell_type": "code",
   "execution_count": 76,
   "id": "changing-utilization",
   "metadata": {},
   "outputs": [
    {
     "data": {
      "text/plain": [
       "GridSearchCV(cv=5, estimator=KNeighborsRegressor(),\n",
       "             param_grid={'n_neighbors': range(5, 20),\n",
       "                         'weights': ['uniform', 'distance']})"
      ]
     },
     "execution_count": 76,
     "metadata": {},
     "output_type": "execute_result"
    }
   ],
   "source": [
    "knn_ag1.fit(Xtrain_ag1, ytrain_ag1)"
   ]
  },
  {
   "cell_type": "code",
   "execution_count": 77,
   "id": "christian-remark",
   "metadata": {},
   "outputs": [],
   "source": [
    "train_ag1_err = np.sqrt(mean_squared_error(knn_ag1.predict(Xtrain_ag1), np.array(ytrain_ag1)))\n",
    "test_ag1_err = np.sqrt(mean_squared_error(knn_ag1.predict(Xtest_ag1), np.array(ytest_ag1)))"
   ]
  },
  {
   "cell_type": "code",
   "execution_count": 78,
   "id": "supreme-salon",
   "metadata": {},
   "outputs": [
    {
     "name": "stdout",
     "output_type": "stream",
     "text": [
      "RMSE reg (train): 0.4752517094865932\n",
      "RMSE reg (test): 0.5032451934920364\n"
     ]
    }
   ],
   "source": [
    "print('RMSE reg (train):', train_ag1_err)\n",
    "print('RMSE reg (test):', test_ag1_err)"
   ]
  },
  {
   "cell_type": "markdown",
   "id": "advised-headline",
   "metadata": {},
   "source": [
    "## ZDM"
   ]
  },
  {
   "cell_type": "code",
   "execution_count": 79,
   "id": "detailed-integral",
   "metadata": {},
   "outputs": [],
   "source": [
    "Xtrain_zdm = train[courses_cluster_2].drop(columns='BI-ZDM')\n",
    "ytrain_zdm = train['BI-ZDM']\n",
    "\n",
    "Xtest_zdm = test[courses_cluster_2].drop(columns='BI-ZDM')\n",
    "ytest_zdm = test['BI-ZDM']"
   ]
  },
  {
   "cell_type": "code",
   "execution_count": 80,
   "id": "powered-visit",
   "metadata": {},
   "outputs": [],
   "source": [
    "knn_zdm = GridSearchCV(KNeighborsRegressor(), param_grid, cv=5)"
   ]
  },
  {
   "cell_type": "code",
   "execution_count": 81,
   "id": "artistic-riding",
   "metadata": {},
   "outputs": [
    {
     "data": {
      "text/plain": [
       "GridSearchCV(cv=5, estimator=KNeighborsRegressor(),\n",
       "             param_grid={'n_neighbors': range(5, 20),\n",
       "                         'weights': ['uniform', 'distance']})"
      ]
     },
     "execution_count": 81,
     "metadata": {},
     "output_type": "execute_result"
    }
   ],
   "source": [
    "knn_zdm.fit(Xtrain_zdm, ytrain_zdm)"
   ]
  },
  {
   "cell_type": "code",
   "execution_count": 82,
   "id": "muslim-lambda",
   "metadata": {},
   "outputs": [],
   "source": [
    "train_zdm_err = np.sqrt(mean_squared_error(knn_zdm.predict(Xtrain_zdm), np.array(ytrain_zdm)))\n",
    "test_zdm_err = np.sqrt(mean_squared_error(knn_zdm.predict(Xtest_zdm), np.array(ytest_zdm)))"
   ]
  },
  {
   "cell_type": "code",
   "execution_count": 83,
   "id": "bacterial-samuel",
   "metadata": {},
   "outputs": [
    {
     "name": "stdout",
     "output_type": "stream",
     "text": [
      "RMSE reg (train): 0.41837047171840575\n",
      "RMSE reg (test): 0.43387767594475907\n"
     ]
    }
   ],
   "source": [
    "print('RMSE reg (train):', train_zdm_err)\n",
    "print('RMSE reg (test):', test_zdm_err)"
   ]
  },
  {
   "cell_type": "markdown",
   "id": "central-passage",
   "metadata": {},
   "source": [
    "## OSY"
   ]
  },
  {
   "cell_type": "code",
   "execution_count": 84,
   "id": "quality-updating",
   "metadata": {},
   "outputs": [],
   "source": [
    "Xtrain_osy = train[courses_cluster_3].drop(columns='BI-OSY')\n",
    "ytrain_osy = train['BI-OSY']\n",
    "\n",
    "Xtest_osy = test[courses_cluster_3].drop(columns='BI-OSY')\n",
    "ytest_osy = test['BI-OSY']"
   ]
  },
  {
   "cell_type": "code",
   "execution_count": 85,
   "id": "sought-premises",
   "metadata": {},
   "outputs": [],
   "source": [
    "knn_osy = GridSearchCV(KNeighborsRegressor(), param_grid, cv=5)"
   ]
  },
  {
   "cell_type": "code",
   "execution_count": 86,
   "id": "european-ticket",
   "metadata": {},
   "outputs": [
    {
     "data": {
      "text/plain": [
       "GridSearchCV(cv=5, estimator=KNeighborsRegressor(),\n",
       "             param_grid={'n_neighbors': range(5, 20),\n",
       "                         'weights': ['uniform', 'distance']})"
      ]
     },
     "execution_count": 86,
     "metadata": {},
     "output_type": "execute_result"
    }
   ],
   "source": [
    "knn_osy.fit(Xtrain_osy, ytrain_osy)"
   ]
  },
  {
   "cell_type": "code",
   "execution_count": 87,
   "id": "heavy-volunteer",
   "metadata": {},
   "outputs": [],
   "source": [
    "train_osy_err = np.sqrt(mean_squared_error(knn_osy.predict(Xtrain_osy), np.array(ytrain_osy)))\n",
    "test_osy_err = np.sqrt(mean_squared_error(knn_osy.predict(Xtest_osy), np.array(ytest_osy)))"
   ]
  },
  {
   "cell_type": "code",
   "execution_count": 88,
   "id": "promising-klein",
   "metadata": {},
   "outputs": [
    {
     "name": "stdout",
     "output_type": "stream",
     "text": [
      "RMSE reg (train): 0.38616683318514344\n",
      "RMSE reg (test): 0.4080590788800487\n"
     ]
    }
   ],
   "source": [
    "print('RMSE reg (train):', train_osy_err)\n",
    "print('RMSE reg (test):', test_osy_err)"
   ]
  },
  {
   "cell_type": "markdown",
   "id": "ethical-mentor",
   "metadata": {},
   "source": [
    "## PSI"
   ]
  },
  {
   "cell_type": "code",
   "execution_count": 89,
   "id": "numerous-islam",
   "metadata": {},
   "outputs": [],
   "source": [
    "Xtrain_psi = train[courses_cluster_4].drop(columns='BI-PSI')\n",
    "ytrain_psi = train['BI-PSI']\n",
    "\n",
    "Xtest_psi = test[courses_cluster_4].drop(columns='BI-PSI')\n",
    "ytest_psi = test['BI-PSI']"
   ]
  },
  {
   "cell_type": "code",
   "execution_count": 90,
   "id": "cellular-confusion",
   "metadata": {},
   "outputs": [],
   "source": [
    "knn_psi = GridSearchCV(KNeighborsRegressor(), param_grid, cv=5)"
   ]
  },
  {
   "cell_type": "code",
   "execution_count": 91,
   "id": "impaired-middle",
   "metadata": {},
   "outputs": [
    {
     "data": {
      "text/plain": [
       "GridSearchCV(cv=5, estimator=KNeighborsRegressor(),\n",
       "             param_grid={'n_neighbors': range(5, 20),\n",
       "                         'weights': ['uniform', 'distance']})"
      ]
     },
     "execution_count": 91,
     "metadata": {},
     "output_type": "execute_result"
    }
   ],
   "source": [
    "knn_psi.fit(Xtrain_psi, ytrain_psi)"
   ]
  },
  {
   "cell_type": "code",
   "execution_count": 92,
   "id": "pointed-insurance",
   "metadata": {},
   "outputs": [],
   "source": [
    "train_psi_err = np.sqrt(mean_squared_error(knn_psi.predict(Xtrain_psi), np.array(ytrain_psi)))\n",
    "test_psi_err = np.sqrt(mean_squared_error(knn_psi.predict(Xtest_psi), np.array(ytest_psi)))"
   ]
  },
  {
   "cell_type": "code",
   "execution_count": 93,
   "id": "motivated-diesel",
   "metadata": {},
   "outputs": [
    {
     "name": "stdout",
     "output_type": "stream",
     "text": [
      "RMSE reg (train): 0.33640349282884147\n",
      "RMSE reg (test): 0.39010538523274396\n"
     ]
    }
   ],
   "source": [
    "print('RMSE reg (train):', train_psi_err)\n",
    "print('RMSE reg (test):', test_psi_err)"
   ]
  },
  {
   "cell_type": "markdown",
   "id": "aggregate-shirt",
   "metadata": {},
   "source": [
    "## BEZ"
   ]
  },
  {
   "cell_type": "code",
   "execution_count": 94,
   "id": "administrative-cambridge",
   "metadata": {},
   "outputs": [],
   "source": [
    "Xtrain_bez = train[courses_cluster_4].drop(columns='BI-BEZ')\n",
    "ytrain_bez = train['BI-BEZ']\n",
    "\n",
    "Xtest_bez = test[courses_cluster_4].drop(columns='BI-BEZ')\n",
    "ytest_bez = test['BI-BEZ']"
   ]
  },
  {
   "cell_type": "code",
   "execution_count": 95,
   "id": "legitimate-heating",
   "metadata": {},
   "outputs": [],
   "source": [
    "knn_bez = GridSearchCV(KNeighborsRegressor(), param_grid, cv=5)"
   ]
  },
  {
   "cell_type": "code",
   "execution_count": 96,
   "id": "promotional-refrigerator",
   "metadata": {},
   "outputs": [
    {
     "data": {
      "text/plain": [
       "GridSearchCV(cv=5, estimator=KNeighborsRegressor(),\n",
       "             param_grid={'n_neighbors': range(5, 20),\n",
       "                         'weights': ['uniform', 'distance']})"
      ]
     },
     "execution_count": 96,
     "metadata": {},
     "output_type": "execute_result"
    }
   ],
   "source": [
    "knn_bez.fit(Xtrain_bez, ytrain_bez)"
   ]
  },
  {
   "cell_type": "code",
   "execution_count": 97,
   "id": "cathedral-hunger",
   "metadata": {},
   "outputs": [],
   "source": [
    "train_bez_err = np.sqrt(mean_squared_error(knn_bez.predict(Xtrain_bez), np.array(ytrain_bez)))\n",
    "test_bez_err = np.sqrt(mean_squared_error(knn_bez.predict(Xtest_bez), np.array(ytest_bez)))"
   ]
  },
  {
   "cell_type": "code",
   "execution_count": 98,
   "id": "novel-settlement",
   "metadata": {},
   "outputs": [
    {
     "name": "stdout",
     "output_type": "stream",
     "text": [
      "RMSE reg (train): 0.3841675847650468\n",
      "RMSE reg (test): 0.4088775567397962\n"
     ]
    }
   ],
   "source": [
    "print('RMSE reg (train):', train_bez_err)\n",
    "print('RMSE reg (test):', test_bez_err)"
   ]
  },
  {
   "cell_type": "markdown",
   "id": "mighty-stone",
   "metadata": {},
   "source": [
    "## PST"
   ]
  },
  {
   "cell_type": "code",
   "execution_count": 99,
   "id": "incorrect-habitat",
   "metadata": {},
   "outputs": [],
   "source": [
    "Xtrain_pst = train[courses_cluster_2].drop(columns='BI-PST')\n",
    "ytrain_pst = train['BI-PST']\n",
    "\n",
    "Xtest_pst = test[courses_cluster_2].drop(columns='BI-PST')\n",
    "ytest_pst = test['BI-PST']"
   ]
  },
  {
   "cell_type": "code",
   "execution_count": 100,
   "id": "bizarre-publicity",
   "metadata": {},
   "outputs": [],
   "source": [
    "knn_pst = GridSearchCV(KNeighborsRegressor(), param_grid, cv=5)"
   ]
  },
  {
   "cell_type": "code",
   "execution_count": 101,
   "id": "dangerous-floor",
   "metadata": {},
   "outputs": [
    {
     "data": {
      "text/plain": [
       "GridSearchCV(cv=5, estimator=KNeighborsRegressor(),\n",
       "             param_grid={'n_neighbors': range(5, 20),\n",
       "                         'weights': ['uniform', 'distance']})"
      ]
     },
     "execution_count": 101,
     "metadata": {},
     "output_type": "execute_result"
    }
   ],
   "source": [
    "knn_pst.fit(Xtrain_pst, ytrain_pst)"
   ]
  },
  {
   "cell_type": "code",
   "execution_count": 102,
   "id": "painful-concentrate",
   "metadata": {},
   "outputs": [],
   "source": [
    "train_pst_err = np.sqrt(mean_squared_error(knn_pst.predict(Xtrain_pst), np.array(ytrain_pst)))\n",
    "test_pst_err = np.sqrt(mean_squared_error(knn_pst.predict(Xtest_pst), np.array(ytest_pst)))"
   ]
  },
  {
   "cell_type": "code",
   "execution_count": 103,
   "id": "united-carpet",
   "metadata": {},
   "outputs": [
    {
     "name": "stdout",
     "output_type": "stream",
     "text": [
      "RMSE reg (train): 0.5032478308325988\n",
      "RMSE reg (test): 0.5413351800919421\n"
     ]
    }
   ],
   "source": [
    "print('RMSE reg (train):', train_pst_err)\n",
    "print('RMSE reg (test):', test_pst_err)"
   ]
  },
  {
   "cell_type": "markdown",
   "id": "acquired-julian",
   "metadata": {},
   "source": [
    "## DPR"
   ]
  },
  {
   "cell_type": "code",
   "execution_count": 104,
   "id": "married-disco",
   "metadata": {},
   "outputs": [],
   "source": [
    "Xtrain_dpr = train[courses_cluster_1].drop(columns='BI-DPR')\n",
    "ytrain_dpr = train['BI-DPR']\n",
    "\n",
    "Xtest_dpr = test[courses_cluster_1].drop(columns='BI-DPR')\n",
    "ytest_dpr = test['BI-DPR']"
   ]
  },
  {
   "cell_type": "code",
   "execution_count": 105,
   "id": "roman-teddy",
   "metadata": {},
   "outputs": [],
   "source": [
    "knn_dpr = GridSearchCV(KNeighborsRegressor(), param_grid, cv=5)"
   ]
  },
  {
   "cell_type": "code",
   "execution_count": 106,
   "id": "headed-lingerie",
   "metadata": {},
   "outputs": [
    {
     "data": {
      "text/plain": [
       "GridSearchCV(cv=5, estimator=KNeighborsRegressor(),\n",
       "             param_grid={'n_neighbors': range(5, 20),\n",
       "                         'weights': ['uniform', 'distance']})"
      ]
     },
     "execution_count": 106,
     "metadata": {},
     "output_type": "execute_result"
    }
   ],
   "source": [
    "knn_dpr.fit(Xtrain_dpr, ytrain_dpr)"
   ]
  },
  {
   "cell_type": "code",
   "execution_count": 107,
   "id": "clear-perfume",
   "metadata": {},
   "outputs": [],
   "source": [
    "train_dpr_err = np.sqrt(mean_squared_error(knn_dpr.predict(Xtrain_dpr), np.array(ytrain_dpr)))\n",
    "test_dpr_err = np.sqrt(mean_squared_error(knn_dpr.predict(Xtest_dpr), np.array(ytest_dpr)))"
   ]
  },
  {
   "cell_type": "code",
   "execution_count": 108,
   "id": "divided-backing",
   "metadata": {},
   "outputs": [
    {
     "name": "stdout",
     "output_type": "stream",
     "text": [
      "RMSE reg (train): 0.6083558465592193\n",
      "RMSE reg (test): 0.6192664745538902\n"
     ]
    }
   ],
   "source": [
    "print('RMSE reg (train):', train_dpr_err)\n",
    "print('RMSE reg (test):', test_dpr_err)"
   ]
  },
  {
   "cell_type": "markdown",
   "id": "elementary-strip",
   "metadata": {},
   "source": [
    "## EMP"
   ]
  },
  {
   "cell_type": "code",
   "execution_count": 109,
   "id": "difficult-madison",
   "metadata": {},
   "outputs": [],
   "source": [
    "Xtrain_emp = train[courses_cluster_1].drop(columns='BI-EMP')\n",
    "ytrain_emp = train['BI-EMP']\n",
    "\n",
    "Xtest_emp = test[courses_cluster_1].drop(columns='BI-EMP')\n",
    "ytest_emp = test['BI-EMP']"
   ]
  },
  {
   "cell_type": "code",
   "execution_count": 110,
   "id": "corrected-remark",
   "metadata": {},
   "outputs": [],
   "source": [
    "knn_emp = GridSearchCV(KNeighborsRegressor(), param_grid, cv=5)"
   ]
  },
  {
   "cell_type": "code",
   "execution_count": 111,
   "id": "loose-provincial",
   "metadata": {},
   "outputs": [
    {
     "data": {
      "text/plain": [
       "GridSearchCV(cv=5, estimator=KNeighborsRegressor(),\n",
       "             param_grid={'n_neighbors': range(5, 20),\n",
       "                         'weights': ['uniform', 'distance']})"
      ]
     },
     "execution_count": 111,
     "metadata": {},
     "output_type": "execute_result"
    }
   ],
   "source": [
    "knn_emp.fit(Xtrain_emp, ytrain_emp)"
   ]
  },
  {
   "cell_type": "code",
   "execution_count": 112,
   "id": "temporal-rental",
   "metadata": {},
   "outputs": [],
   "source": [
    "train_emp_err = np.sqrt(mean_squared_error(knn_emp.predict(Xtrain_emp), np.array(ytrain_emp)))\n",
    "test_emp_err = np.sqrt(mean_squared_error(knn_emp.predict(Xtest_emp), np.array(ytest_emp)))"
   ]
  },
  {
   "cell_type": "code",
   "execution_count": 113,
   "id": "proved-majority",
   "metadata": {},
   "outputs": [
    {
     "name": "stdout",
     "output_type": "stream",
     "text": [
      "RMSE reg (train): 0.6120932608207731\n",
      "RMSE reg (test): 0.6378921823770478\n"
     ]
    }
   ],
   "source": [
    "print('RMSE reg (train):', train_emp_err)\n",
    "print('RMSE reg (test):', test_emp_err)"
   ]
  },
  {
   "cell_type": "markdown",
   "id": "sophisticated-negotiation",
   "metadata": {},
   "source": [
    "## SI1.2"
   ]
  },
  {
   "cell_type": "code",
   "execution_count": 114,
   "id": "capital-scenario",
   "metadata": {},
   "outputs": [],
   "source": [
    "Xtrain_si1 = train[courses_cluster_4].drop(columns='BI-SI1.2')\n",
    "ytrain_si1 = train['BI-SI1.2']\n",
    "\n",
    "Xtest_si1 = test[courses_cluster_4].drop(columns='BI-SI1.2')\n",
    "ytest_si1 = test['BI-SI1.2']"
   ]
  },
  {
   "cell_type": "code",
   "execution_count": 115,
   "id": "precious-birthday",
   "metadata": {},
   "outputs": [],
   "source": [
    "knn_si1 = GridSearchCV(KNeighborsRegressor(), param_grid, cv=5)"
   ]
  },
  {
   "cell_type": "code",
   "execution_count": 116,
   "id": "uniform-measurement",
   "metadata": {},
   "outputs": [
    {
     "data": {
      "text/plain": [
       "GridSearchCV(cv=5, estimator=KNeighborsRegressor(),\n",
       "             param_grid={'n_neighbors': range(5, 20),\n",
       "                         'weights': ['uniform', 'distance']})"
      ]
     },
     "execution_count": 116,
     "metadata": {},
     "output_type": "execute_result"
    }
   ],
   "source": [
    "knn_si1.fit(Xtrain_si1, ytrain_si1)"
   ]
  },
  {
   "cell_type": "code",
   "execution_count": 117,
   "id": "important-python",
   "metadata": {},
   "outputs": [],
   "source": [
    "train_si1_err = np.sqrt(mean_squared_error(knn_si1.predict(Xtrain_si1), np.array(ytrain_si1)))\n",
    "test_si1_err = np.sqrt(mean_squared_error(knn_si1.predict(Xtest_si1), np.array(ytest_si1)))"
   ]
  },
  {
   "cell_type": "code",
   "execution_count": 118,
   "id": "negative-honduras",
   "metadata": {},
   "outputs": [
    {
     "name": "stdout",
     "output_type": "stream",
     "text": [
      "RMSE reg (train): 0.4350068364096441\n",
      "RMSE reg (test): 0.4893686820998802\n"
     ]
    }
   ],
   "source": [
    "print('RMSE reg (train):', train_si1_err)\n",
    "print('RMSE reg (test):', test_si1_err)"
   ]
  },
  {
   "cell_type": "markdown",
   "id": "lesser-irrigation",
   "metadata": {},
   "source": [
    "# Výsledky"
   ]
  },
  {
   "cell_type": "code",
   "execution_count": 119,
   "id": "turkish-market",
   "metadata": {},
   "outputs": [],
   "source": [
    "y = [\n",
    "    test_pa1_err,\n",
    "    test_pai_err,\n",
    "    test_zma_err,\n",
    "    test_mlo_err,\n",
    "    test_cao_err,\n",
    "    test_ps1_err,\n",
    "    test_pa2_err,\n",
    "    test_lin_err,\n",
    "    test_dbs_err,\n",
    "    test_sap_err,\n",
    "    test_aag_err,\n",
    "    test_ag1_err,\n",
    "    test_zdm_err,\n",
    "    test_osy_err,\n",
    "    test_psi_err,\n",
    "    test_bez_err,\n",
    "    test_pst_err,\n",
    "    test_dpr_err,\n",
    "    test_emp_err,\n",
    "    test_si1_err\n",
    "]"
   ]
  },
  {
   "cell_type": "code",
   "execution_count": 120,
   "id": "broadband-guest",
   "metadata": {},
   "outputs": [],
   "source": [
    "courses = matrix.columns"
   ]
  },
  {
   "cell_type": "code",
   "execution_count": 121,
   "id": "included-soldier",
   "metadata": {},
   "outputs": [
    {
     "data": {
      "text/plain": [
       "Index(['BI-PA1', 'BI-PAI', 'BI-CAO', 'BI-PS1', 'BI-MLO', 'BI-ZMA', 'BI-PA2',\n",
       "       'BI-DBS', 'BI-SAP', 'BI-LIN', 'BI-AG1', 'BI-AAG', 'BI-ZDM', 'BI-OSY',\n",
       "       'BI-PSI', 'BI-BEZ', 'BI-PST', 'BI-DPR', 'BI-SI1.2', 'BI-EMP'],\n",
       "      dtype='object')"
      ]
     },
     "execution_count": 121,
     "metadata": {},
     "output_type": "execute_result"
    }
   ],
   "source": [
    "courses"
   ]
  },
  {
   "cell_type": "code",
   "execution_count": 122,
   "id": "fitting-wesley",
   "metadata": {},
   "outputs": [
    {
     "name": "stderr",
     "output_type": "stream",
     "text": [
      "No handles with labels found to put in legend.\n"
     ]
    },
    {
     "data": {
      "image/png": "[encoded data removed]",
      "text/plain": [
       "<Figure size 1800x720 with 1 Axes>"
      ]
     },
     "metadata": {
      "needs_background": "light"
     },
     "output_type": "display_data"
    }
   ],
   "source": [
    "y = [\n",
    "    test_pa1_err,\n",
    "    test_pai_err,\n",
    "    test_cao_err,\n",
    "    test_ps1_err,\n",
    "    test_mlo_err,\n",
    "    test_zma_err,\n",
    "    test_pa2_err,\n",
    "    test_dbs_err,\n",
    "    test_sap_err,\n",
    "    test_lin_err,\n",
    "    test_ag1_err,\n",
    "    test_aag_err,\n",
    "    test_zdm_err,\n",
    "    test_osy_err,\n",
    "    test_psi_err,\n",
    "    test_bez_err,\n",
    "    test_pst_err,\n",
    "    test_dpr_err,\n",
    "    test_si1_err,\n",
    "    test_emp_err\n",
    "]\n",
    "\n",
    "x = ['BI-PA1', 'BI-PAI', 'BI-CAO', 'BI-PS1', 'BI-MLO', 'BI-ZMA', 'BI-PA2',\n",
    "       'BI-DBS', 'BI-SAP', 'BI-LIN', 'BI-AG1', 'BI-AAG', 'BI-ZDM', 'BI-OSY',\n",
    "       'BI-PSI', 'BI-BEZ', 'BI-PST', 'BI-DPR', 'BI-SI1.2', 'BI-EMP']\n",
    "width = 0.5  # the width of the bars\n",
    "\n",
    "\n",
    "fig, ax = plt.subplots()\n",
    "rects_dt = ax.bar(x , y, width)\n",
    "\n",
    "y_values = np.arange(0.0, 1.05, 0.05)\n",
    "\n",
    "ax.set_ylabel('RMSE')\n",
    "ax.set_xlabel('Předměty')\n",
    "ax.set_title('Úspěšnost jednotlivých predikcí známek PP předmětů')\n",
    "ax.set_xticks(x)\n",
    "plt.yticks(y_values)\n",
    "ax.legend(loc='best')\n",
    "ax.grid(True)\n",
    "\n",
    "plt.ylim(ymin=0)\n",
    "plt.ylim(ymax=1)\n",
    "\n",
    "fig.set_size_inches(25,10)\n",
    "plt.show()"
   ]
  },
  {
   "cell_type": "code",
   "execution_count": null,
   "id": "outside-tradition",
   "metadata": {},
   "outputs": [],
   "source": []
  },
  {
   "cell_type": "code",
   "execution_count": null,
   "id": "developed-posting",
   "metadata": {},
   "outputs": [],
   "source": []
  }
 ],
 "metadata": {
  "kernelspec": {
   "display_name": "Python 3",
   "language": "python",
   "name": "python3"
  },
  "language_info": {
   "codemirror_mode": {
    "name": "ipython",
    "version": 3
   },
   "file_extension": ".py",
   "mimetype": "text/x-python",
   "name": "python",
   "nbconvert_exporter": "python",
   "pygments_lexer": "ipython3",
   "version": "3.8.10"
  }
 },
 "nbformat": 4,
 "nbformat_minor": 5
}
